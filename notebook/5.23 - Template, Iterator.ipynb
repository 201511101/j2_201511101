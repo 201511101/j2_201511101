{
 "cells": [
  {
   "cell_type": "code",
   "execution_count": 1,
   "metadata": {
    "collapsed": true
   },
   "outputs": [],
   "source": [
    "%load_ext plantuml_magics"
   ]
  },
  {
   "cell_type": "code",
   "execution_count": 6,
   "metadata": {
    "collapsed": false
   },
   "outputs": [
    {
     "data": {
      "image/svg+xml": [
       "<svg height=\"190px\" style=\"width:575px;height:190px;\" version=\"1.1\" viewBox=\"0 0 575 190\" width=\"575px\" xmlns=\"http://www.w3.org/2000/svg\" xmlns:xlink=\"http://www.w3.org/1999/xlink\"><defs><filter height=\"300%\" id=\"f1\" width=\"300%\" x=\"-1\" y=\"-1\"><feGaussianBlur result=\"blurOut\" stdDeviation=\"2.0\"/><feColorMatrix in=\"blurOut\" result=\"blurOut2\" type=\"matrix\" values=\"0 0 0 0 0 0 0 0 0 0 0 0 0 0 0 0 0 0 .4 0\"/><feOffset dx=\"4.0\" dy=\"4.0\" in=\"blurOut2\" result=\"blurOut3\"/><feBlend in=\"SourceGraphic\" in2=\"blurOut3\" mode=\"normal\"/></filter></defs><g><rect fill=\"#FEFECE\" filter=\"url(#f1)\" height=\"48\" style=\"stroke: #A80036; stroke-width: 1.5;\" width=\"63\" x=\"169.5\" y=\"133\"/><ellipse cx=\"184.5\" cy=\"149\" fill=\"#ADD1B2\" rx=\"11\" ry=\"11\" style=\"stroke: #A80036; stroke-width: 1.0;\"/><path d=\"M187.4731,154.6431 Q186.8921,154.9419 186.2529,155.0913 Q185.6138,155.2407 184.9082,155.2407 Q182.4014,155.2407 181.0815,153.5889 Q179.7617,151.937 179.7617,148.8159 Q179.7617,145.6865 181.0815,144.0347 Q182.4014,142.3828 184.9082,142.3828 Q185.6138,142.3828 186.2612,142.5322 Q186.9087,142.6816 187.4731,142.9805 L187.4731,145.7031 Q186.8423,145.1221 186.2488,144.8523 Q185.6553,144.5825 185.0244,144.5825 Q183.6797,144.5825 182.9949,145.6492 Q182.3101,146.7158 182.3101,148.8159 Q182.3101,150.9077 182.9949,151.9744 Q183.6797,153.041 185.0244,153.041 Q185.6553,153.041 186.2488,152.7712 Q186.8423,152.5015 187.4731,151.9204 Z \"/><text fill=\"#000000\" font-family=\"sans-serif\" font-size=\"12\" lengthAdjust=\"spacingAndGlyphs\" textLength=\"31\" x=\"198.5\" y=\"153.5352\">Array</text><line style=\"stroke: #A80036; stroke-width: 1.5;\" x1=\"170.5\" x2=\"231.5\" y1=\"165\" y2=\"165\"/><line style=\"stroke: #A80036; stroke-width: 1.5;\" x1=\"170.5\" x2=\"231.5\" y1=\"173\" y2=\"173\"/><rect fill=\"#FEFECE\" filter=\"url(#f1)\" height=\"48\" style=\"stroke: #A80036; stroke-width: 1.5;\" width=\"82\" x=\"484\" y=\"133\"/><ellipse cx=\"499\" cy=\"149\" fill=\"#ADD1B2\" rx=\"11\" ry=\"11\" style=\"stroke: #A80036; stroke-width: 1.0;\"/><path d=\"M501.9731,154.6431 Q501.3921,154.9419 500.7529,155.0913 Q500.1138,155.2407 499.4082,155.2407 Q496.9014,155.2407 495.5815,153.5889 Q494.2617,151.937 494.2617,148.8159 Q494.2617,145.6865 495.5815,144.0347 Q496.9014,142.3828 499.4082,142.3828 Q500.1138,142.3828 500.7612,142.5322 Q501.4087,142.6816 501.9731,142.9805 L501.9731,145.7031 Q501.3423,145.1221 500.7488,144.8523 Q500.1553,144.5825 499.5244,144.5825 Q498.1797,144.5825 497.4949,145.6492 Q496.8101,146.7158 496.8101,148.8159 Q496.8101,150.9077 497.4949,151.9744 Q498.1797,153.041 499.5244,153.041 Q500.1553,153.041 500.7488,152.7712 Q501.3423,152.5015 501.9731,151.9204 Z \"/><text fill=\"#000000\" font-family=\"sans-serif\" font-size=\"12\" lengthAdjust=\"spacingAndGlyphs\" textLength=\"50\" x=\"513\" y=\"153.5352\">ArrayList</text><line style=\"stroke: #A80036; stroke-width: 1.5;\" x1=\"485\" x2=\"565\" y1=\"165\" y2=\"165\"/><line style=\"stroke: #A80036; stroke-width: 1.5;\" x1=\"485\" x2=\"565\" y1=\"173\" y2=\"173\"/><rect fill=\"#FEFECE\" filter=\"url(#f1)\" height=\"48\" style=\"stroke: #A80036; stroke-width: 1.5;\" width=\"94\" x=\"6\" y=\"133\"/><ellipse cx=\"21\" cy=\"149\" fill=\"#ADD1B2\" rx=\"11\" ry=\"11\" style=\"stroke: #A80036; stroke-width: 1.0;\"/><path d=\"M23.9731,154.6431 Q23.3921,154.9419 22.7529,155.0913 Q22.1138,155.2407 21.4082,155.2407 Q18.9014,155.2407 17.5815,153.5889 Q16.2617,151.937 16.2617,148.8159 Q16.2617,145.6865 17.5815,144.0347 Q18.9014,142.3828 21.4082,142.3828 Q22.1138,142.3828 22.7612,142.5322 Q23.4087,142.6816 23.9731,142.9805 L23.9731,145.7031 Q23.3423,145.1221 22.7488,144.8523 Q22.1553,144.5825 21.5244,144.5825 Q20.1797,144.5825 19.4949,145.6492 Q18.8101,146.7158 18.8101,148.8159 Q18.8101,150.9077 19.4949,151.9744 Q20.1797,153.041 21.5244,153.041 Q22.1553,153.041 22.7488,152.7712 Q23.3423,152.5015 23.9731,151.9204 Z \"/><text fill=\"#000000\" font-family=\"sans-serif\" font-size=\"12\" lengthAdjust=\"spacingAndGlyphs\" textLength=\"62\" x=\"35\" y=\"153.5352\">DinerMenu</text><line style=\"stroke: #A80036; stroke-width: 1.5;\" x1=\"7\" x2=\"99\" y1=\"165\" y2=\"165\"/><line style=\"stroke: #A80036; stroke-width: 1.5;\" x1=\"7\" x2=\"99\" y1=\"173\" y2=\"173\"/><rect fill=\"#FEFECE\" filter=\"url(#f1)\" height=\"48\" style=\"stroke: #A80036; stroke-width: 1.5;\" width=\"147\" x=\"267.5\" y=\"133\"/><ellipse cx=\"282.5\" cy=\"149\" fill=\"#ADD1B2\" rx=\"11\" ry=\"11\" style=\"stroke: #A80036; stroke-width: 1.0;\"/><path d=\"M285.4731,154.6431 Q284.8921,154.9419 284.2529,155.0913 Q283.6138,155.2407 282.9082,155.2407 Q280.4014,155.2407 279.0815,153.5889 Q277.7617,151.937 277.7617,148.8159 Q277.7617,145.6865 279.0815,144.0347 Q280.4014,142.3828 282.9082,142.3828 Q283.6138,142.3828 284.2612,142.5322 Q284.9087,142.6816 285.4731,142.9805 L285.4731,145.7031 Q284.8423,145.1221 284.2488,144.8523 Q283.6553,144.5825 283.0244,144.5825 Q281.6797,144.5825 280.9949,145.6492 Q280.3101,146.7158 280.3101,148.8159 Q280.3101,150.9077 280.9949,151.9744 Q281.6797,153.041 283.0244,153.041 Q283.6553,153.041 284.2488,152.7712 Q284.8423,152.5015 285.4731,151.9204 Z \"/><text fill=\"#000000\" font-family=\"sans-serif\" font-size=\"12\" lengthAdjust=\"spacingAndGlyphs\" textLength=\"115\" x=\"296.5\" y=\"153.5352\">PancakeHouseMenu</text><line style=\"stroke: #A80036; stroke-width: 1.5;\" x1=\"268.5\" x2=\"413.5\" y1=\"165\" y2=\"165\"/><line style=\"stroke: #A80036; stroke-width: 1.5;\" x1=\"268.5\" x2=\"413.5\" y1=\"173\" y2=\"173\"/><rect fill=\"#FEFECE\" filter=\"url(#f1)\" height=\"48\" style=\"stroke: #A80036; stroke-width: 1.5;\" width=\"64\" x=\"164\" y=\"8\"/><ellipse cx=\"179\" cy=\"24\" fill=\"#ADD1B2\" rx=\"11\" ry=\"11\" style=\"stroke: #A80036; stroke-width: 1.0;\"/><path d=\"M181.9731,29.6431 Q181.3921,29.9419 180.7529,30.0913 Q180.1138,30.2407 179.4082,30.2407 Q176.9014,30.2407 175.5815,28.5889 Q174.2617,26.937 174.2617,23.8159 Q174.2617,20.6865 175.5815,19.0347 Q176.9014,17.3828 179.4082,17.3828 Q180.1138,17.3828 180.7612,17.5322 Q181.4087,17.6816 181.9731,17.9805 L181.9731,20.7031 Q181.3423,20.1221 180.7488,19.8523 Q180.1553,19.5825 179.5244,19.5825 Q178.1797,19.5825 177.4949,20.6492 Q176.8101,21.7158 176.8101,23.8159 Q176.8101,25.9077 177.4949,26.9744 Q178.1797,28.041 179.5244,28.041 Q180.1553,28.041 180.7488,27.7712 Q181.3423,27.5015 181.9731,26.9204 Z \"/><text fill=\"#000000\" font-family=\"sans-serif\" font-size=\"12\" lengthAdjust=\"spacingAndGlyphs\" textLength=\"32\" x=\"193\" y=\"28.5352\">Client</text><line style=\"stroke: #A80036; stroke-width: 1.5;\" x1=\"165\" x2=\"227\" y1=\"40\" y2=\"40\"/><line style=\"stroke: #A80036; stroke-width: 1.5;\" x1=\"165\" x2=\"227\" y1=\"48\" y2=\"48\"/><path d=\"M100.1172,157 C121.52,157 142.923,157 164.327,157 \" fill=\"none\" style=\"stroke: #A80036; stroke-width: 1.0;\"/><polygon fill=\"#A80036\" points=\"169.474,157,160.474,153,164.474,157,160.474,161,169.474,157\" style=\"stroke: #A80036; stroke-width: 1.0;\"/><path d=\"M414.515,157 C436.108,157 459.119,157 478.519,157 \" fill=\"none\" style=\"stroke: #A80036; stroke-width: 1.0;\"/><polygon fill=\"#A80036\" points=\"483.891,157,474.891,153,478.891,157,474.891,161,483.891,157\" style=\"stroke: #A80036; stroke-width: 1.0;\"/><text fill=\"#000000\" font-family=\"sans-serif\" font-size=\"13\" lengthAdjust=\"spacingAndGlyphs\" textLength=\"33\" x=\"432.75\" y=\"150.5684\">size()</text><path d=\"M169.103,56.135 C144.835,77.009 109.153,107.7003 83.7603,129.5418 \" fill=\"none\" style=\"stroke: #A80036; stroke-width: 1.0;\"/><polygon fill=\"#A80036\" points=\"79.7766,132.9684,89.2082,130.132,83.5673,129.7079,83.9914,124.0669,79.7766,132.9684\" style=\"stroke: #A80036; stroke-width: 1.0;\"/><text fill=\"#000000\" font-family=\"sans-serif\" font-size=\"13\" lengthAdjust=\"spacingAndGlyphs\" textLength=\"97\" x=\"135\" y=\"99.5684\">getMenuItems()</text><path d=\"M223.273,56.135 C247.881,77.009 284.061,107.7003 309.809,129.5418 \" fill=\"none\" style=\"stroke: #A80036; stroke-width: 1.0;\"/><polygon fill=\"#A80036\" points=\"313.849,132.9684,309.573,124.0962,310.036,129.7341,304.3981,130.1971,313.849,132.9684\" style=\"stroke: #A80036; stroke-width: 1.0;\"/><text fill=\"#000000\" font-family=\"sans-serif\" font-size=\"13\" lengthAdjust=\"spacingAndGlyphs\" textLength=\"97\" x=\"279\" y=\"99.5684\">getMenuItems()</text></g></svg>"
      ],
      "text/plain": [
       "<IPython.core.display.SVG object>"
      ]
     },
     "execution_count": 6,
     "metadata": {},
     "output_type": "execute_result"
    }
   ],
   "source": [
    "%%plantuml\n",
    "@startuml\n",
    "\n",
    "class Array\n",
    "class ArrayList\n",
    "class DinerMenu\n",
    "class PancakeHouseMenu\n",
    "\n",
    "DinerMenu -> Array\n",
    "PancakeHouseMenu -> ArrayList:size()\n",
    "Client --> DinerMenu:getMenuItems()\n",
    "Client --> PancakeHouseMenu:getMenuItems()\n",
    "\n",
    "@enduml"
   ]
  },
  {
   "cell_type": "code",
   "execution_count": null,
   "metadata": {
    "collapsed": true
   },
   "outputs": [],
   "source": [
    "%%plantuml\n",
    "@startuml\n",
    "\n",
    "class Array\n",
    "class ArrayList\n",
    "class DinerMenu\n",
    "class PancakeHouseMenu\n",
    "class MenuItem {\n",
    "    String name\n",
    "    String description\n",
    "    +MenuItem(String n, String d, boolean v, double p)\n",
    "}\n",
    "\n",
    "DinerMenu -> Array\n",
    "PancakeHouseMenu -> ArrayList:size()\n",
    "Client --> DinerMenu:getMenuItems()\n",
    "Client --> PancakeHouseMenu:getMenuItems()\n",
    "\n",
    "@enduml"
   ]
  },
  {
   "cell_type": "markdown",
   "metadata": {},
   "source": [
    "* v - vegterain 여부\n",
    "* p - 가격\n",
    "\n",
    "this.name = n\n",
    "this.description = d\n",
    "this.vegetarian = v\n",
    "this.price = p"
   ]
  },
  {
   "cell_type": "code",
   "execution_count": null,
   "metadata": {
    "collapsed": true
   },
   "outputs": [],
   "source": []
  }
 ],
 "metadata": {
  "kernelspec": {
   "display_name": "Python 2",
   "language": "python",
   "name": "python2"
  },
  "language_info": {
   "codemirror_mode": {
    "name": "ipython",
    "version": 2
   },
   "file_extension": ".py",
   "mimetype": "text/x-python",
   "name": "python",
   "nbconvert_exporter": "python",
   "pygments_lexer": "ipython2",
   "version": "2.7.10"
  }
 },
 "nbformat": 4,
 "nbformat_minor": 0
}
