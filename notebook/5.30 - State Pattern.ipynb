{
 "cells": [
  {
   "cell_type": "code",
   "execution_count": 3,
   "metadata": {
    "collapsed": false
   },
   "outputs": [],
   "source": [
    "%load_ext plantuml_magics"
   ]
  },
  {
   "cell_type": "code",
   "execution_count": 9,
   "metadata": {
    "collapsed": false
   },
   "outputs": [
    {
     "data": {
      "image/svg+xml": [
       "<svg height=\"600px\" style=\"width:352px;height:600px;\" version=\"1.1\" viewBox=\"0 0 352 600\" width=\"352px\" xmlns=\"http://www.w3.org/2000/svg\" xmlns:xlink=\"http://www.w3.org/1999/xlink\"><defs><filter height=\"300%\" id=\"f1\" width=\"300%\" x=\"-1\" y=\"-1\"><feGaussianBlur result=\"blurOut\" stdDeviation=\"2.0\"/><feColorMatrix in=\"blurOut\" result=\"blurOut2\" type=\"matrix\" values=\"0 0 0 0 0 0 0 0 0 0 0 0 0 0 0 0 0 0 .4 0\"/><feOffset dx=\"4.0\" dy=\"4.0\" in=\"blurOut2\" result=\"blurOut3\"/><feBlend in=\"SourceGraphic\" in2=\"blurOut3\" mode=\"normal\"/></filter></defs><g><rect fill=\"#FFFFFF\" filter=\"url(#f1)\" height=\"231.418\" style=\"stroke: #000000; stroke-width: 2.0;\" width=\"269\" x=\"74.5\" y=\"114.1094\"/><rect fill=\"#FFFFFF\" height=\"57.2656\" style=\"stroke: none; stroke-width: 1.0;\" width=\"269\" x=\"74.5\" y=\"173.7305\"/><rect fill=\"#FFFFFF\" height=\"57.2656\" style=\"stroke: none; stroke-width: 1.0;\" width=\"269\" x=\"74.5\" y=\"230.9961\"/><rect fill=\"#FFFFFF\" height=\"57.2656\" style=\"stroke: none; stroke-width: 1.0;\" width=\"269\" x=\"74.5\" y=\"288.2617\"/><rect fill=\"#FFFFFF\" filter=\"url(#f1)\" height=\"23.3105\" style=\"stroke: #000000; stroke-width: 2.0;\" width=\"67\" x=\"18\" y=\"388.8379\"/><rect fill=\"#FFFFFF\" height=\"2\" style=\"stroke: none; stroke-width: 1.0;\" width=\"67\" x=\"18\" y=\"406.1484\"/><rect fill=\"#FFFFFF\" height=\"2\" style=\"stroke: none; stroke-width: 1.0;\" width=\"67\" x=\"18\" y=\"408.1484\"/><rect fill=\"#FFFFFF\" height=\"2\" style=\"stroke: none; stroke-width: 1.0;\" width=\"67\" x=\"18\" y=\"410.1484\"/><rect fill=\"#FFFFFF\" filter=\"url(#f1)\" height=\"23.3105\" style=\"stroke: #000000; stroke-width: 2.0;\" width=\"67\" x=\"18\" y=\"455.459\"/><rect fill=\"#FFFFFF\" height=\"2\" style=\"stroke: none; stroke-width: 1.0;\" width=\"67\" x=\"18\" y=\"472.7695\"/><rect fill=\"#FFFFFF\" height=\"2\" style=\"stroke: none; stroke-width: 1.0;\" width=\"67\" x=\"18\" y=\"474.7695\"/><rect fill=\"#FFFFFF\" height=\"2\" style=\"stroke: none; stroke-width: 1.0;\" width=\"67\" x=\"18\" y=\"476.7695\"/><rect fill=\"#FFFFFF\" filter=\"url(#f1)\" height=\"23.3105\" style=\"stroke: #000000; stroke-width: 2.0;\" width=\"67\" x=\"18\" y=\"522.0801\"/><rect fill=\"#FFFFFF\" height=\"2\" style=\"stroke: none; stroke-width: 1.0;\" width=\"67\" x=\"18\" y=\"539.3906\"/><rect fill=\"#FFFFFF\" height=\"2\" style=\"stroke: none; stroke-width: 1.0;\" width=\"67\" x=\"18\" y=\"541.3906\"/><rect fill=\"#FFFFFF\" height=\"2\" style=\"stroke: none; stroke-width: 1.0;\" width=\"67\" x=\"18\" y=\"543.3906\"/><line style=\"stroke: #A80036; stroke-width: 1.0; stroke-dasharray: 5.0,5.0;\" x1=\"35\" x2=\"35\" y1=\"38.4883\" y2=\"562.3906\"/><line style=\"stroke: #A80036; stroke-width: 1.0; stroke-dasharray: 5.0,5.0;\" x1=\"150.5\" x2=\"150.5\" y1=\"38.4883\" y2=\"562.3906\"/><rect fill=\"#FEFECE\" filter=\"url(#f1)\" height=\"30.4883\" style=\"stroke: #A80036; stroke-width: 1.5;\" width=\"51\" x=\"8\" y=\"3\"/><text fill=\"#000000\" font-family=\"sans-serif\" font-size=\"14\" lengthAdjust=\"spacingAndGlyphs\" textLength=\"37\" x=\"15\" y=\"23.5352\">client</text><rect fill=\"#FEFECE\" filter=\"url(#f1)\" height=\"30.4883\" style=\"stroke: #A80036; stroke-width: 1.5;\" width=\"51\" x=\"8\" y=\"561.3906\"/><text fill=\"#000000\" font-family=\"sans-serif\" font-size=\"14\" lengthAdjust=\"spacingAndGlyphs\" textLength=\"37\" x=\"15\" y=\"581.9258\">client</text><rect fill=\"#FEFECE\" filter=\"url(#f1)\" height=\"30.4883\" style=\"stroke: #A80036; stroke-width: 1.5;\" width=\"128\" x=\"84.5\" y=\"3\"/><text fill=\"#000000\" font-family=\"sans-serif\" font-size=\"14\" lengthAdjust=\"spacingAndGlyphs\" textLength=\"114\" x=\"91.5\" y=\"23.5352\">GumballMachine</text><rect fill=\"#FEFECE\" filter=\"url(#f1)\" height=\"30.4883\" style=\"stroke: #A80036; stroke-width: 1.5;\" width=\"128\" x=\"84.5\" y=\"561.3906\"/><text fill=\"#000000\" font-family=\"sans-serif\" font-size=\"14\" lengthAdjust=\"spacingAndGlyphs\" textLength=\"114\" x=\"91.5\" y=\"581.9258\">GumballMachine</text><polygon fill=\"#A80036\" points=\"138.5,65.4883,148.5,69.4883,138.5,73.4883,142.5,69.4883\" style=\"stroke: #A80036; stroke-width: 1.0;\"/><line style=\"stroke: #A80036; stroke-width: 1.0;\" x1=\"35.5\" x2=\"144.5\" y1=\"69.4883\" y2=\"69.4883\"/><text fill=\"#000000\" font-family=\"sans-serif\" font-size=\"13\" lengthAdjust=\"spacingAndGlyphs\" textLength=\"40\" x=\"42.5\" y=\"65.0566\">new(s)</text><polygon fill=\"#A80036\" points=\"138.5,94.7988,148.5,98.7988,138.5,102.7988,142.5,98.7988\" style=\"stroke: #A80036; stroke-width: 1.0;\"/><line style=\"stroke: #A80036; stroke-width: 1.0;\" x1=\"35.5\" x2=\"144.5\" y1=\"98.7988\" y2=\"98.7988\"/><text fill=\"#000000\" font-family=\"sans-serif\" font-size=\"13\" lengthAdjust=\"spacingAndGlyphs\" textLength=\"91\" x=\"42.5\" y=\"94.3672\">insertQuarter()</text><rect fill=\"none\" height=\"231.418\" style=\"stroke: #000000; stroke-width: 2.0;\" width=\"269\" x=\"74.5\" y=\"114.1094\"/><polygon fill=\"#EEEEEE\" points=\"74.5,114.1094,136.5,114.1094,136.5,121.1094,126.5,131.1094,74.5,131.1094,74.5,114.1094\" style=\"stroke: #000000; stroke-width: 2.0;\"/><text fill=\"#000000\" font-family=\"sans-serif\" font-size=\"13\" font-weight=\"bold\" lengthAdjust=\"spacingAndGlyphs\" textLength=\"17\" x=\"89.5\" y=\"127.6777\">alt</text><text fill=\"#000000\" font-family=\"sans-serif\" font-size=\"11\" font-weight=\"bold\" lengthAdjust=\"spacingAndGlyphs\" textLength=\"93\" x=\"151.5\" y=\"126.7441\">[HAS_QUARTER]</text><line style=\"stroke: #A80036; stroke-width: 1.0;\" x1=\"150.5\" x2=\"192.5\" y1=\"152.7305\" y2=\"152.7305\"/><line style=\"stroke: #A80036; stroke-width: 1.0;\" x1=\"192.5\" x2=\"192.5\" y1=\"152.7305\" y2=\"165.7305\"/><line style=\"stroke: #A80036; stroke-width: 1.0;\" x1=\"151.5\" x2=\"192.5\" y1=\"165.7305\" y2=\"165.7305\"/><polygon fill=\"#A80036\" points=\"161.5,161.7305,151.5,165.7305,161.5,169.7305,157.5,165.7305\" style=\"stroke: #A80036; stroke-width: 1.0;\"/><text fill=\"#000000\" font-family=\"sans-serif\" font-size=\"13\" lengthAdjust=\"spacingAndGlyphs\" textLength=\"135\" x=\"157.5\" y=\"147.9883\">you can insert a coin.</text><line style=\"stroke: #000000; stroke-width: 1.0; stroke-dasharray: 2.0,2.0;\" x1=\"74.5\" x2=\"343.5\" y1=\"174.7305\" y2=\"174.7305\"/><text fill=\"#000000\" font-family=\"sans-serif\" font-size=\"11\" font-weight=\"bold\" lengthAdjust=\"spacingAndGlyphs\" textLength=\"87\" x=\"79.5\" y=\"185.3652\">[NO_QUARTER]</text><line style=\"stroke: #A80036; stroke-width: 1.0;\" x1=\"150.5\" x2=\"192.5\" y1=\"209.9961\" y2=\"209.9961\"/><line style=\"stroke: #A80036; stroke-width: 1.0;\" x1=\"192.5\" x2=\"192.5\" y1=\"209.9961\" y2=\"222.9961\"/><line style=\"stroke: #A80036; stroke-width: 1.0;\" x1=\"151.5\" x2=\"192.5\" y1=\"222.9961\" y2=\"222.9961\"/><polygon fill=\"#A80036\" points=\"161.5,218.9961,151.5,222.9961,161.5,226.9961,157.5,222.9961\" style=\"stroke: #A80036; stroke-width: 1.0;\"/><text fill=\"#000000\" font-family=\"sans-serif\" font-size=\"13\" lengthAdjust=\"spacingAndGlyphs\" textLength=\"142\" x=\"157.5\" y=\"205.2539\">you inserted a quarter.</text><line style=\"stroke: #000000; stroke-width: 1.0; stroke-dasharray: 2.0,2.0;\" x1=\"74.5\" x2=\"343.5\" y1=\"231.9961\" y2=\"231.9961\"/><text fill=\"#000000\" font-family=\"sans-serif\" font-size=\"11\" font-weight=\"bold\" lengthAdjust=\"spacingAndGlyphs\" textLength=\"69\" x=\"79.5\" y=\"242.6309\">[SOLD_OUT]</text><line style=\"stroke: #A80036; stroke-width: 1.0;\" x1=\"150.5\" x2=\"192.5\" y1=\"267.2617\" y2=\"267.2617\"/><line style=\"stroke: #A80036; stroke-width: 1.0;\" x1=\"192.5\" x2=\"192.5\" y1=\"267.2617\" y2=\"280.2617\"/><line style=\"stroke: #A80036; stroke-width: 1.0;\" x1=\"151.5\" x2=\"192.5\" y1=\"280.2617\" y2=\"280.2617\"/><polygon fill=\"#A80036\" points=\"161.5,276.2617,151.5,280.2617,161.5,284.2617,157.5,280.2617\" style=\"stroke: #A80036; stroke-width: 1.0;\"/><text fill=\"#000000\" font-family=\"sans-serif\" font-size=\"13\" lengthAdjust=\"spacingAndGlyphs\" textLength=\"174\" x=\"157.5\" y=\"262.5195\">you cannot insert a quarter.</text><line style=\"stroke: #000000; stroke-width: 1.0; stroke-dasharray: 2.0,2.0;\" x1=\"74.5\" x2=\"343.5\" y1=\"289.2617\" y2=\"289.2617\"/><text fill=\"#000000\" font-family=\"sans-serif\" font-size=\"11\" font-weight=\"bold\" lengthAdjust=\"spacingAndGlyphs\" textLength=\"38\" x=\"79.5\" y=\"299.8965\">[SOLD]</text><line style=\"stroke: #A80036; stroke-width: 1.0;\" x1=\"150.5\" x2=\"192.5\" y1=\"324.5273\" y2=\"324.5273\"/><line style=\"stroke: #A80036; stroke-width: 1.0;\" x1=\"192.5\" x2=\"192.5\" y1=\"324.5273\" y2=\"337.5273\"/><line style=\"stroke: #A80036; stroke-width: 1.0;\" x1=\"151.5\" x2=\"192.5\" y1=\"337.5273\" y2=\"337.5273\"/><polygon fill=\"#A80036\" points=\"161.5,333.5273,151.5,337.5273,161.5,341.5273,157.5,337.5273\" style=\"stroke: #A80036; stroke-width: 1.0;\"/><text fill=\"#000000\" font-family=\"sans-serif\" font-size=\"13\" lengthAdjust=\"spacingAndGlyphs\" textLength=\"26\" x=\"157.5\" y=\"319.7852\">wait</text><polygon fill=\"#A80036\" points=\"138.5,369.5273,148.5,373.5273,138.5,377.5273,142.5,373.5273\" style=\"stroke: #A80036; stroke-width: 1.0;\"/><line style=\"stroke: #A80036; stroke-width: 1.0;\" x1=\"35.5\" x2=\"144.5\" y1=\"373.5273\" y2=\"373.5273\"/><text fill=\"#000000\" font-family=\"sans-serif\" font-size=\"13\" lengthAdjust=\"spacingAndGlyphs\" textLength=\"71\" x=\"42.5\" y=\"369.0957\">turnCrank()</text><rect fill=\"none\" height=\"23.3105\" style=\"stroke: #000000; stroke-width: 2.0;\" width=\"67\" x=\"18\" y=\"388.8379\"/><polygon fill=\"#EEEEEE\" points=\"18,388.8379,80,388.8379,80,395.8379,70,405.8379,18,405.8379,18,388.8379\" style=\"stroke: #000000; stroke-width: 2.0;\"/><text fill=\"#000000\" font-family=\"sans-serif\" font-size=\"13\" font-weight=\"bold\" lengthAdjust=\"spacingAndGlyphs\" textLength=\"17\" x=\"33\" y=\"402.4063\">alt</text><line style=\"stroke: #000000; stroke-width: 1.0; stroke-dasharray: 2.0,2.0;\" x1=\"18\" x2=\"85\" y1=\"407.1484\" y2=\"407.1484\"/><line style=\"stroke: #000000; stroke-width: 1.0; stroke-dasharray: 2.0,2.0;\" x1=\"18\" x2=\"85\" y1=\"409.1484\" y2=\"409.1484\"/><line style=\"stroke: #000000; stroke-width: 1.0; stroke-dasharray: 2.0,2.0;\" x1=\"18\" x2=\"85\" y1=\"411.1484\" y2=\"411.1484\"/><polygon fill=\"#A80036\" points=\"138.5,436.1484,148.5,440.1484,138.5,444.1484,142.5,440.1484\" style=\"stroke: #A80036; stroke-width: 1.0;\"/><line style=\"stroke: #A80036; stroke-width: 1.0;\" x1=\"35.5\" x2=\"144.5\" y1=\"440.1484\" y2=\"440.1484\"/><text fill=\"#000000\" font-family=\"sans-serif\" font-size=\"13\" lengthAdjust=\"spacingAndGlyphs\" textLength=\"85\" x=\"42.5\" y=\"435.7168\">ejectQuarter()</text><rect fill=\"none\" height=\"23.3105\" style=\"stroke: #000000; stroke-width: 2.0;\" width=\"67\" x=\"18\" y=\"455.459\"/><polygon fill=\"#EEEEEE\" points=\"18,455.459,80,455.459,80,462.459,70,472.459,18,472.459,18,455.459\" style=\"stroke: #000000; stroke-width: 2.0;\"/><text fill=\"#000000\" font-family=\"sans-serif\" font-size=\"13\" font-weight=\"bold\" lengthAdjust=\"spacingAndGlyphs\" textLength=\"17\" x=\"33\" y=\"469.0273\">alt</text><line style=\"stroke: #000000; stroke-width: 1.0; stroke-dasharray: 2.0,2.0;\" x1=\"18\" x2=\"85\" y1=\"473.7695\" y2=\"473.7695\"/><line style=\"stroke: #000000; stroke-width: 1.0; stroke-dasharray: 2.0,2.0;\" x1=\"18\" x2=\"85\" y1=\"475.7695\" y2=\"475.7695\"/><line style=\"stroke: #000000; stroke-width: 1.0; stroke-dasharray: 2.0,2.0;\" x1=\"18\" x2=\"85\" y1=\"477.7695\" y2=\"477.7695\"/><polygon fill=\"#A80036\" points=\"138.5,502.7695,148.5,506.7695,138.5,510.7695,142.5,506.7695\" style=\"stroke: #A80036; stroke-width: 1.0;\"/><line style=\"stroke: #A80036; stroke-width: 1.0;\" x1=\"35.5\" x2=\"144.5\" y1=\"506.7695\" y2=\"506.7695\"/><text fill=\"#000000\" font-family=\"sans-serif\" font-size=\"13\" lengthAdjust=\"spacingAndGlyphs\" textLength=\"64\" x=\"42.5\" y=\"502.3379\">dispense()</text><rect fill=\"none\" height=\"23.3105\" style=\"stroke: #000000; stroke-width: 2.0;\" width=\"67\" x=\"18\" y=\"522.0801\"/><polygon fill=\"#EEEEEE\" points=\"18,522.0801,80,522.0801,80,529.0801,70,539.0801,18,539.0801,18,522.0801\" style=\"stroke: #000000; stroke-width: 2.0;\"/><text fill=\"#000000\" font-family=\"sans-serif\" font-size=\"13\" font-weight=\"bold\" lengthAdjust=\"spacingAndGlyphs\" textLength=\"17\" x=\"33\" y=\"535.6484\">alt</text><line style=\"stroke: #000000; stroke-width: 1.0; stroke-dasharray: 2.0,2.0;\" x1=\"18\" x2=\"85\" y1=\"540.3906\" y2=\"540.3906\"/><line style=\"stroke: #000000; stroke-width: 1.0; stroke-dasharray: 2.0,2.0;\" x1=\"18\" x2=\"85\" y1=\"542.3906\" y2=\"542.3906\"/><line style=\"stroke: #000000; stroke-width: 1.0; stroke-dasharray: 2.0,2.0;\" x1=\"18\" x2=\"85\" y1=\"544.3906\" y2=\"544.3906\"/></g></svg>"
      ],
      "text/plain": [
       "<IPython.core.display.SVG object>"
      ]
     },
     "execution_count": 9,
     "metadata": {},
     "output_type": "execute_result"
    }
   ],
   "source": [
    "%%plantuml\n",
    "@startuml\n",
    "\n",
    "client -> GumballMachine:new(s)\n",
    "client -> GumballMachine:insertQuarter()\n",
    "alt HAS_QUARTER\n",
    "GumballMachine -> GumballMachine:you can insert a coin.\n",
    "else NO_QUARTER\n",
    "GumballMachine -> GumballMachine:you inserted a quarter.\n",
    "else SOLD_OUT\n",
    "GumballMachine -> GumballMachine:you cannot insert a quarter.\n",
    "else SOLD\n",
    "GumballMachine -> GumballMachine:wait\n",
    "end\n",
    "\n",
    "client -> GumballMachine:turnCrank()\n",
    "alt\n",
    "else\n",
    "else\n",
    "else\n",
    "end\n",
    "\n",
    "client -> GumballMachine:ejectQuarter()\n",
    "alt\n",
    "else\n",
    "else\n",
    "else\n",
    "end\n",
    "\n",
    "client -> GumballMachine:dispense()\n",
    "alt\n",
    "else\n",
    "else\n",
    "else\n",
    "end\n",
    "\n",
    "@enduml"
   ]
  },
  {
   "cell_type": "code",
   "execution_count": 13,
   "metadata": {
    "collapsed": false
   },
   "outputs": [
    {
     "data": {
      "image/svg+xml": [
       "<svg height=\"225px\" style=\"width:468px;height:225px;\" version=\"1.1\" viewBox=\"0 0 468 225\" width=\"468px\" xmlns=\"http://www.w3.org/2000/svg\" xmlns:xlink=\"http://www.w3.org/1999/xlink\"><defs><filter height=\"300%\" id=\"f1\" width=\"300%\" x=\"-1\" y=\"-1\"><feGaussianBlur result=\"blurOut\" stdDeviation=\"2.0\"/><feColorMatrix in=\"blurOut\" result=\"blurOut2\" type=\"matrix\" values=\"0 0 0 0 0 0 0 0 0 0 0 0 0 0 0 0 0 0 .4 0\"/><feOffset dx=\"4.0\" dy=\"4.0\" in=\"blurOut2\" result=\"blurOut3\"/><feBlend in=\"SourceGraphic\" in2=\"blurOut3\" mode=\"normal\"/></filter></defs><g><rect fill=\"#FEFECE\" filter=\"url(#f1)\" height=\"99.8203\" style=\"stroke: #A80036; stroke-width: 1.5;\" width=\"133\" x=\"162.5\" y=\"8\"/><ellipse cx=\"210.75\" cy=\"24\" fill=\"#B4A7E5\" rx=\"11\" ry=\"11\" style=\"stroke: #A80036; stroke-width: 1.0;\"/><path d=\"M206.6777,19.7651 L206.6777,17.6069 L214.0571,17.6069 L214.0571,19.7651 L211.5918,19.7651 L211.5918,27.8418 L214.0571,27.8418 L214.0571,30 L206.6777,30 L206.6777,27.8418 L209.1431,27.8418 L209.1431,19.7651 Z \"/><text fill=\"#000000\" font-family=\"sans-serif\" font-size=\"12\" font-style=\"italic\" lengthAdjust=\"spacingAndGlyphs\" textLength=\"28\" x=\"231.25\" y=\"28.5352\">State</text><line style=\"stroke: #A80036; stroke-width: 1.5;\" x1=\"163.5\" x2=\"294.5\" y1=\"40\" y2=\"40\"/><line style=\"stroke: #A80036; stroke-width: 1.5;\" x1=\"163.5\" x2=\"294.5\" y1=\"48\" y2=\"48\"/><ellipse cx=\"173.5\" cy=\"59.9775\" fill=\"#84BE84\" rx=\"3\" ry=\"3\" style=\"stroke: #038048; stroke-width: 1.0;\"/><text fill=\"#000000\" font-family=\"sans-serif\" font-size=\"11\" lengthAdjust=\"spacingAndGlyphs\" textLength=\"107\" x=\"182.5\" y=\"62.6348\">insertQuarter():void</text><ellipse cx=\"173.5\" cy=\"72.9326\" fill=\"#84BE84\" rx=\"3\" ry=\"3\" style=\"stroke: #038048; stroke-width: 1.0;\"/><text fill=\"#000000\" font-family=\"sans-serif\" font-size=\"11\" lengthAdjust=\"spacingAndGlyphs\" textLength=\"101\" x=\"182.5\" y=\"75.5898\">ejectQuarter():void</text><ellipse cx=\"173.5\" cy=\"85.8877\" fill=\"#84BE84\" rx=\"3\" ry=\"3\" style=\"stroke: #038048; stroke-width: 1.0;\"/><text fill=\"#000000\" font-family=\"sans-serif\" font-size=\"11\" lengthAdjust=\"spacingAndGlyphs\" textLength=\"89\" x=\"182.5\" y=\"88.5449\">turnCrank():void</text><ellipse cx=\"173.5\" cy=\"98.8428\" fill=\"#84BE84\" rx=\"3\" ry=\"3\" style=\"stroke: #038048; stroke-width: 1.0;\"/><text fill=\"#000000\" font-family=\"sans-serif\" font-size=\"11\" lengthAdjust=\"spacingAndGlyphs\" textLength=\"82\" x=\"182.5\" y=\"101.5\">dispense():void</text><rect fill=\"#FEFECE\" filter=\"url(#f1)\" height=\"86.8652\" style=\"stroke: #A80036; stroke-width: 1.5;\" width=\"128\" x=\"331\" y=\"14.5\"/><ellipse cx=\"346.45\" cy=\"30.5\" fill=\"#ADD1B2\" rx=\"11\" ry=\"11\" style=\"stroke: #A80036; stroke-width: 1.0;\"/><path d=\"M349.4231,36.1431 Q348.8421,36.4419 348.2029,36.5913 Q347.5638,36.7407 346.8582,36.7407 Q344.3514,36.7407 343.0315,35.0889 Q341.7117,33.437 341.7117,30.3159 Q341.7117,27.1865 343.0315,25.5347 Q344.3514,23.8828 346.8582,23.8828 Q347.5638,23.8828 348.2112,24.0322 Q348.8587,24.1816 349.4231,24.4805 L349.4231,27.2031 Q348.7923,26.6221 348.1988,26.3523 Q347.6053,26.0825 346.9744,26.0825 Q345.6297,26.0825 344.9449,27.1492 Q344.2601,28.2158 344.2601,30.3159 Q344.2601,32.4077 344.9449,33.4744 Q345.6297,34.541 346.9744,34.541 Q347.6053,34.541 348.1988,34.2712 Q348.7923,34.0015 349.4231,33.4204 Z \"/><text fill=\"#000000\" font-family=\"sans-serif\" font-size=\"12\" lengthAdjust=\"spacingAndGlyphs\" textLength=\"95\" x=\"360.55\" y=\"35.0352\">GumballMachine</text><line style=\"stroke: #A80036; stroke-width: 1.5;\" x1=\"332\" x2=\"458\" y1=\"46.5\" y2=\"46.5\"/><rect fill=\"none\" height=\"6\" style=\"stroke: #C82930; stroke-width: 1.0;\" width=\"6\" x=\"339\" y=\"55.4775\"/><text fill=\"#000000\" font-family=\"sans-serif\" font-size=\"11\" lengthAdjust=\"spacingAndGlyphs\" textLength=\"55\" x=\"351\" y=\"61.1348\">state:State</text><line style=\"stroke: #A80036; stroke-width: 1.5;\" x1=\"332\" x2=\"458\" y1=\"67.4551\" y2=\"67.4551\"/><ellipse cx=\"342\" cy=\"79.4326\" fill=\"#84BE84\" rx=\"3\" ry=\"3\" style=\"stroke: #038048; stroke-width: 1.0;\"/><text fill=\"#000000\" font-family=\"sans-serif\" font-size=\"11\" lengthAdjust=\"spacingAndGlyphs\" textLength=\"102\" x=\"351\" y=\"82.0898\">setState(State):void</text><ellipse cx=\"342\" cy=\"92.3877\" fill=\"#84BE84\" rx=\"3\" ry=\"3\" style=\"stroke: #038048; stroke-width: 1.0;\"/><text fill=\"#000000\" font-family=\"sans-serif\" font-size=\"11\" lengthAdjust=\"spacingAndGlyphs\" textLength=\"80\" x=\"351\" y=\"95.0449\">getState():State</text><rect fill=\"#FEFECE\" filter=\"url(#f1)\" height=\"48\" style=\"stroke: #A80036; stroke-width: 1.5;\" width=\"98\" x=\"6\" y=\"168\"/><ellipse cx=\"21\" cy=\"184\" fill=\"#ADD1B2\" rx=\"11\" ry=\"11\" style=\"stroke: #A80036; stroke-width: 1.0;\"/><path d=\"M23.9731,189.6431 Q23.3921,189.9419 22.7529,190.0913 Q22.1138,190.2407 21.4082,190.2407 Q18.9014,190.2407 17.5815,188.5889 Q16.2617,186.937 16.2617,183.8159 Q16.2617,180.6865 17.5815,179.0347 Q18.9014,177.3828 21.4082,177.3828 Q22.1138,177.3828 22.7612,177.5322 Q23.4087,177.6816 23.9731,177.9805 L23.9731,180.7031 Q23.3423,180.1221 22.7488,179.8523 Q22.1553,179.5825 21.5244,179.5825 Q20.1797,179.5825 19.4949,180.6492 Q18.8101,181.7158 18.8101,183.8159 Q18.8101,185.9077 19.4949,186.9744 Q20.1797,188.041 21.5244,188.041 Q22.1553,188.041 22.7488,187.7712 Q23.3423,187.5015 23.9731,186.9204 Z \"/><text fill=\"#000000\" font-family=\"sans-serif\" font-size=\"12\" lengthAdjust=\"spacingAndGlyphs\" textLength=\"66\" x=\"35\" y=\"188.5352\">HasQuarter</text><line style=\"stroke: #A80036; stroke-width: 1.5;\" x1=\"7\" x2=\"103\" y1=\"200\" y2=\"200\"/><line style=\"stroke: #A80036; stroke-width: 1.5;\" x1=\"7\" x2=\"103\" y1=\"208\" y2=\"208\"/><rect fill=\"#FEFECE\" filter=\"url(#f1)\" height=\"48\" style=\"stroke: #A80036; stroke-width: 1.5;\" width=\"92\" x=\"139\" y=\"168\"/><ellipse cx=\"154\" cy=\"184\" fill=\"#ADD1B2\" rx=\"11\" ry=\"11\" style=\"stroke: #A80036; stroke-width: 1.0;\"/><path d=\"M156.9731,189.6431 Q156.3921,189.9419 155.7529,190.0913 Q155.1138,190.2407 154.4082,190.2407 Q151.9014,190.2407 150.5815,188.5889 Q149.2617,186.937 149.2617,183.8159 Q149.2617,180.6865 150.5815,179.0347 Q151.9014,177.3828 154.4082,177.3828 Q155.1138,177.3828 155.7612,177.5322 Q156.4087,177.6816 156.9731,177.9805 L156.9731,180.7031 Q156.3423,180.1221 155.7488,179.8523 Q155.1553,179.5825 154.5244,179.5825 Q153.1797,179.5825 152.4949,180.6492 Q151.8101,181.7158 151.8101,183.8159 Q151.8101,185.9077 152.4949,186.9744 Q153.1797,188.041 154.5244,188.041 Q155.1553,188.041 155.7488,187.7712 Q156.3423,187.5015 156.9731,186.9204 Z \"/><text fill=\"#000000\" font-family=\"sans-serif\" font-size=\"12\" lengthAdjust=\"spacingAndGlyphs\" textLength=\"60\" x=\"168\" y=\"188.5352\">NoQuarter</text><line style=\"stroke: #A80036; stroke-width: 1.5;\" x1=\"140\" x2=\"230\" y1=\"200\" y2=\"200\"/><line style=\"stroke: #A80036; stroke-width: 1.5;\" x1=\"140\" x2=\"230\" y1=\"208\" y2=\"208\"/><rect fill=\"#FEFECE\" filter=\"url(#f1)\" height=\"48\" style=\"stroke: #A80036; stroke-width: 1.5;\" width=\"76\" x=\"357\" y=\"168\"/><ellipse cx=\"372\" cy=\"184\" fill=\"#ADD1B2\" rx=\"11\" ry=\"11\" style=\"stroke: #A80036; stroke-width: 1.0;\"/><path d=\"M374.9731,189.6431 Q374.3921,189.9419 373.7529,190.0913 Q373.1138,190.2407 372.4082,190.2407 Q369.9014,190.2407 368.5815,188.5889 Q367.2617,186.937 367.2617,183.8159 Q367.2617,180.6865 368.5815,179.0347 Q369.9014,177.3828 372.4082,177.3828 Q373.1138,177.3828 373.7612,177.5322 Q374.4087,177.6816 374.9731,177.9805 L374.9731,180.7031 Q374.3423,180.1221 373.7488,179.8523 Q373.1553,179.5825 372.5244,179.5825 Q371.1797,179.5825 370.4949,180.6492 Q369.8101,181.7158 369.8101,183.8159 Q369.8101,185.9077 370.4949,186.9744 Q371.1797,188.041 372.5244,188.041 Q373.1553,188.041 373.7488,187.7712 Q374.3423,187.5015 374.9731,186.9204 Z \"/><text fill=\"#000000\" font-family=\"sans-serif\" font-size=\"12\" lengthAdjust=\"spacingAndGlyphs\" textLength=\"44\" x=\"386\" y=\"188.5352\">SoldOut</text><line style=\"stroke: #A80036; stroke-width: 1.5;\" x1=\"358\" x2=\"432\" y1=\"200\" y2=\"200\"/><line style=\"stroke: #A80036; stroke-width: 1.5;\" x1=\"358\" x2=\"432\" y1=\"208\" y2=\"208\"/><rect fill=\"#FEFECE\" filter=\"url(#f1)\" height=\"48\" style=\"stroke: #A80036; stroke-width: 1.5;\" width=\"56\" x=\"266\" y=\"168\"/><ellipse cx=\"281\" cy=\"184\" fill=\"#ADD1B2\" rx=\"11\" ry=\"11\" style=\"stroke: #A80036; stroke-width: 1.0;\"/><path d=\"M283.9731,189.6431 Q283.3921,189.9419 282.7529,190.0913 Q282.1138,190.2407 281.4082,190.2407 Q278.9014,190.2407 277.5815,188.5889 Q276.2617,186.937 276.2617,183.8159 Q276.2617,180.6865 277.5815,179.0347 Q278.9014,177.3828 281.4082,177.3828 Q282.1138,177.3828 282.7612,177.5322 Q283.4087,177.6816 283.9731,177.9805 L283.9731,180.7031 Q283.3423,180.1221 282.7488,179.8523 Q282.1553,179.5825 281.5244,179.5825 Q280.1797,179.5825 279.4949,180.6492 Q278.8101,181.7158 278.8101,183.8159 Q278.8101,185.9077 279.4949,186.9744 Q280.1797,188.041 281.5244,188.041 Q282.1553,188.041 282.7488,187.7712 Q283.3423,187.5015 283.9731,186.9204 Z \"/><text fill=\"#000000\" font-family=\"sans-serif\" font-size=\"12\" lengthAdjust=\"spacingAndGlyphs\" textLength=\"24\" x=\"295\" y=\"188.5352\">Sold</text><line style=\"stroke: #A80036; stroke-width: 1.5;\" x1=\"267\" x2=\"321\" y1=\"200\" y2=\"200\"/><line style=\"stroke: #A80036; stroke-width: 1.5;\" x1=\"267\" x2=\"321\" y1=\"208\" y2=\"208\"/><path d=\"M148.207,120.2912 C125.985,137.1495 103.2197,154.4195 85.7509,167.6717 \" fill=\"none\" style=\"stroke: #A80036; stroke-width: 1.0; stroke-dasharray: 7.0,7.0;\"/><polygon fill=\"none\" points=\"144.044,114.663,164.209,108.152,152.506,125.8165,144.044,114.663\" style=\"stroke: #A80036; stroke-width: 1.0;\"/><path d=\"M206.274,127.1772 C201.41,141.77 196.593,156.2208 192.776,167.6717 \" fill=\"none\" style=\"stroke: #A80036; stroke-width: 1.0; stroke-dasharray: 7.0,7.0;\"/><polygon fill=\"none\" points=\"199.651,124.912,212.616,108.152,212.932,129.3392,199.651,124.912\" style=\"stroke: #A80036; stroke-width: 1.0;\"/><path d=\"M306.696,120.7824 C327.7,137.4844 349.159,154.5482 365.663,167.6717 \" fill=\"none\" style=\"stroke: #A80036; stroke-width: 1.0; stroke-dasharray: 7.0,7.0;\"/><polygon fill=\"none\" points=\"302.11,126.0788,290.812,108.152,310.823,115.121,302.11,126.0788\" style=\"stroke: #A80036; stroke-width: 1.0;\"/><path d=\"M262.088,126.1932 C269.437,141.119 276.747,155.9635 282.513,167.6717 \" fill=\"none\" style=\"stroke: #A80036; stroke-width: 1.0; stroke-dasharray: 7.0,7.0;\"/><polygon fill=\"none\" points=\"255.759,129.1869,253.204,108.152,268.319,123.0021,255.759,129.1869\" style=\"stroke: #A80036; stroke-width: 1.0;\"/><path d=\"M395,167.9437 C395,151.1636 395,127.8386 395,107.075 \" fill=\"none\" style=\"stroke: #A80036; stroke-width: 1.0;\"/><polygon fill=\"#A80036\" points=\"395,101.857,391,110.857,395,106.857,399,110.857,395,101.857\" style=\"stroke: #A80036; stroke-width: 1.0;\"/><path d=\"M300.966,58 C310.867,58 320.767,58 330.668,58 \" fill=\"none\" style=\"stroke: #A80036; stroke-width: 1.0;\"/><polygon fill=\"#A80036\" points=\"295.789,58,304.789,62,300.789,58,304.789,54,295.789,58\" style=\"stroke: #A80036; stroke-width: 1.0;\"/></g></svg>"
      ],
      "text/plain": [
       "<IPython.core.display.SVG object>"
      ]
     },
     "execution_count": 13,
     "metadata": {},
     "output_type": "execute_result"
    }
   ],
   "source": [
    "%%plantuml\n",
    "@startuml\n",
    "\n",
    "interface State {\n",
    "    +insertQuarter():void\n",
    "    +ejectQuarter():void\n",
    "    +turnCrank():void\n",
    "    +dispense():void\n",
    "}\n",
    "\n",
    "class GumballMachine {\n",
    "    -state:State\n",
    "    +setState(State):void\n",
    "    +getState():State\n",
    "}\n",
    "\n",
    "State <|.. HasQuarter\n",
    "State <|.. NoQuarter\n",
    "State <|.. SoldOut\n",
    "State <|.. Sold\n",
    "SoldOut --> GumballMachine\n",
    "GumballMachine -left-> State\n",
    "\n",
    "@enduml"
   ]
  },
  {
   "cell_type": "code",
   "execution_count": null,
   "metadata": {
    "collapsed": true
   },
   "outputs": [],
   "source": []
  }
 ],
 "metadata": {
  "kernelspec": {
   "display_name": "Python 2",
   "language": "python",
   "name": "python2"
  },
  "language_info": {
   "codemirror_mode": {
    "name": "ipython",
    "version": 2
   },
   "file_extension": ".py",
   "mimetype": "text/x-python",
   "name": "python",
   "nbconvert_exporter": "python",
   "pygments_lexer": "ipython2",
   "version": "2.7.10"
  }
 },
 "nbformat": 4,
 "nbformat_minor": 0
}
