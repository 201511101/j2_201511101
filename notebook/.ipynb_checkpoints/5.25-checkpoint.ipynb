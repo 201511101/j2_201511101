{
 "cells": [
  {
   "cell_type": "code",
   "execution_count": 2,
   "metadata": {
    "collapsed": false
   },
   "outputs": [],
   "source": [
    "%load_ext plantuml_magics"
   ]
  },
  {
   "cell_type": "code",
   "execution_count": 4,
   "metadata": {
    "collapsed": false
   },
   "outputs": [
    {
     "data": {
      "image/svg+xml": [
       "<svg height=\"169px\" style=\"width:185px;height:169px;\" version=\"1.1\" viewBox=\"0 0 185 169\" width=\"185px\" xmlns=\"http://www.w3.org/2000/svg\" xmlns:xlink=\"http://www.w3.org/1999/xlink\"><defs><filter height=\"300%\" id=\"f1\" width=\"300%\" x=\"-1\" y=\"-1\"><feGaussianBlur result=\"blurOut\" stdDeviation=\"2.0\"/><feColorMatrix in=\"blurOut\" result=\"blurOut2\" type=\"matrix\" values=\"0 0 0 0 0 0 0 0 0 0 0 0 0 0 0 0 0 0 .4 0\"/><feOffset dx=\"4.0\" dy=\"4.0\" in=\"blurOut2\" result=\"blurOut3\"/><feBlend in=\"SourceGraphic\" in2=\"blurOut3\" mode=\"normal\"/></filter></defs><g><polygon fill=\"#FFFFFF\" filter=\"url(#f1)\" points=\"22,24,85,24,92,46.4883,178,46.4883,178,162,22,162,22,24\" style=\"stroke: #000000; stroke-width: 2.0;\"/><line style=\"stroke: #000000; stroke-width: 2.0;\" x1=\"22\" x2=\"92\" y1=\"46.4883\" y2=\"46.4883\"/><text fill=\"#000000\" font-family=\"sans-serif\" font-size=\"14\" font-weight=\"bold\" lengthAdjust=\"spacingAndGlyphs\" textLength=\"57\" x=\"26\" y=\"39.5352\">java.util</text><rect fill=\"#FEFECE\" filter=\"url(#f1)\" height=\"86.8652\" style=\"stroke: #A80036; stroke-width: 1.5;\" width=\"124\" x=\"38\" y=\"59\"/><ellipse cx=\"75.5\" cy=\"75\" fill=\"#B4A7E5\" rx=\"11\" ry=\"11\" style=\"stroke: #A80036; stroke-width: 1.0;\"/><path d=\"M71.4277,70.7651 L71.4277,68.6069 L78.8071,68.6069 L78.8071,70.7651 L76.3418,70.7651 L76.3418,78.8418 L78.8071,78.8418 L78.8071,81 L71.4277,81 L71.4277,78.8418 L73.8931,78.8418 L73.8931,70.7651 Z \"/><text fill=\"#000000\" font-family=\"sans-serif\" font-size=\"12\" font-style=\"italic\" lengthAdjust=\"spacingAndGlyphs\" textLength=\"42\" x=\"94.5\" y=\"79.5352\">Iterator</text><line style=\"stroke: #A80036; stroke-width: 1.5;\" x1=\"39\" x2=\"161\" y1=\"91\" y2=\"91\"/><line style=\"stroke: #A80036; stroke-width: 1.5;\" x1=\"39\" x2=\"161\" y1=\"99\" y2=\"99\"/><ellipse cx=\"49\" cy=\"110.9775\" fill=\"#84BE84\" rx=\"3\" ry=\"3\" style=\"stroke: #038048; stroke-width: 1.0;\"/><text fill=\"#000000\" font-family=\"sans-serif\" font-size=\"11\" lengthAdjust=\"spacingAndGlyphs\" textLength=\"98\" x=\"58\" y=\"113.6348\">hasNext():boolean</text><ellipse cx=\"49\" cy=\"123.9326\" fill=\"#84BE84\" rx=\"3\" ry=\"3\" style=\"stroke: #038048; stroke-width: 1.0;\"/><text fill=\"#000000\" font-family=\"sans-serif\" font-size=\"11\" lengthAdjust=\"spacingAndGlyphs\" textLength=\"41\" x=\"58\" y=\"126.5898\">next():E</text><ellipse cx=\"49\" cy=\"136.8877\" fill=\"#84BE84\" rx=\"3\" ry=\"3\" style=\"stroke: #038048; stroke-width: 1.0;\"/><text fill=\"#000000\" font-family=\"sans-serif\" font-size=\"11\" lengthAdjust=\"spacingAndGlyphs\" textLength=\"74\" x=\"58\" y=\"139.5449\">remove():void</text></g></svg>"
      ],
      "text/plain": [
       "<IPython.core.display.SVG object>"
      ]
     },
     "execution_count": 4,
     "metadata": {},
     "output_type": "execute_result"
    }
   ],
   "source": [
    "%%plantuml\n",
    "@startuml\n",
    "\n",
    "interface java.util.Iterator {\n",
    "    +hasNext():boolean\n",
    "    +next():E\n",
    "    +remove():void\n",
    "}\n",
    "\n",
    "@enduml"
   ]
  },
  {
   "cell_type": "code",
   "execution_count": 3,
   "metadata": {
    "collapsed": false
   },
   "outputs": [
    {
     "data": {
      "image/svg+xml": [
       "<svg height=\"307px\" style=\"width:239px;height:307px;\" version=\"1.1\" viewBox=\"0 0 239 307\" width=\"239px\" xmlns=\"http://www.w3.org/2000/svg\" xmlns:xlink=\"http://www.w3.org/1999/xlink\"><defs><filter height=\"300%\" id=\"f1\" width=\"300%\" x=\"-1\" y=\"-1\"><feGaussianBlur result=\"blurOut\" stdDeviation=\"2.0\"/><feColorMatrix in=\"blurOut\" result=\"blurOut2\" type=\"matrix\" values=\"0 0 0 0 0 0 0 0 0 0 0 0 0 0 0 0 0 0 .4 0\"/><feOffset dx=\"4.0\" dy=\"4.0\" in=\"blurOut2\" result=\"blurOut3\"/><feBlend in=\"SourceGraphic\" in2=\"blurOut3\" mode=\"normal\"/></filter></defs><g><rect fill=\"#FEFECE\" filter=\"url(#f1)\" height=\"73.9102\" style=\"stroke: #A80036; stroke-width: 1.5;\" width=\"124\" x=\"55\" y=\"8\"/><ellipse cx=\"92.5\" cy=\"24\" fill=\"#B4A7E5\" rx=\"11\" ry=\"11\" style=\"stroke: #A80036; stroke-width: 1.0;\"/><path d=\"M88.4277,19.7651 L88.4277,17.6069 L95.8071,17.6069 L95.8071,19.7651 L93.3418,19.7651 L93.3418,27.8418 L95.8071,27.8418 L95.8071,30 L88.4277,30 L88.4277,27.8418 L90.8931,27.8418 L90.8931,19.7651 Z \"/><text fill=\"#000000\" font-family=\"sans-serif\" font-size=\"12\" font-style=\"italic\" lengthAdjust=\"spacingAndGlyphs\" textLength=\"42\" x=\"111.5\" y=\"28.5352\">Iterator</text><line style=\"stroke: #A80036; stroke-width: 1.5;\" x1=\"56\" x2=\"178\" y1=\"40\" y2=\"40\"/><line style=\"stroke: #A80036; stroke-width: 1.5;\" x1=\"56\" x2=\"178\" y1=\"48\" y2=\"48\"/><ellipse cx=\"66\" cy=\"59.9775\" fill=\"#84BE84\" rx=\"3\" ry=\"3\" style=\"stroke: #038048; stroke-width: 1.0;\"/><text fill=\"#000000\" font-family=\"sans-serif\" font-size=\"11\" lengthAdjust=\"spacingAndGlyphs\" textLength=\"98\" x=\"75\" y=\"62.6348\">hasNext():boolean</text><ellipse cx=\"66\" cy=\"72.9326\" fill=\"#84BE84\" rx=\"3\" ry=\"3\" style=\"stroke: #038048; stroke-width: 1.0;\"/><text fill=\"#000000\" font-family=\"sans-serif\" font-size=\"11\" lengthAdjust=\"spacingAndGlyphs\" textLength=\"41\" x=\"75\" y=\"75.5898\">next():E</text><rect fill=\"#FEFECE\" filter=\"url(#f1)\" height=\"48\" style=\"stroke: #A80036; stroke-width: 1.5;\" width=\"82\" x=\"138\" y=\"142\"/><ellipse cx=\"153\" cy=\"158\" fill=\"#ADD1B2\" rx=\"11\" ry=\"11\" style=\"stroke: #A80036; stroke-width: 1.0;\"/><path d=\"M155.9731,163.6431 Q155.3921,163.9419 154.7529,164.0913 Q154.1138,164.2407 153.4082,164.2407 Q150.9014,164.2407 149.5815,162.5889 Q148.2617,160.937 148.2617,157.8159 Q148.2617,154.6865 149.5815,153.0347 Q150.9014,151.3828 153.4082,151.3828 Q154.1138,151.3828 154.7612,151.5322 Q155.4087,151.6816 155.9731,151.9805 L155.9731,154.7031 Q155.3423,154.1221 154.7488,153.8523 Q154.1553,153.5825 153.5244,153.5825 Q152.1797,153.5825 151.4949,154.6492 Q150.8101,155.7158 150.8101,157.8159 Q150.8101,159.9077 151.4949,160.9744 Q152.1797,162.041 153.5244,162.041 Q154.1553,162.041 154.7488,161.7712 Q155.3423,161.5015 155.9731,160.9204 Z \"/><text fill=\"#000000\" font-family=\"sans-serif\" font-size=\"12\" lengthAdjust=\"spacingAndGlyphs\" textLength=\"50\" x=\"167\" y=\"162.5352\">AIterator</text><line style=\"stroke: #A80036; stroke-width: 1.5;\" x1=\"139\" x2=\"219\" y1=\"174\" y2=\"174\"/><line style=\"stroke: #A80036; stroke-width: 1.5;\" x1=\"139\" x2=\"219\" y1=\"182\" y2=\"182\"/><rect fill=\"#FEFECE\" filter=\"url(#f1)\" height=\"48\" style=\"stroke: #A80036; stroke-width: 1.5;\" width=\"81\" x=\"15.5\" y=\"142\"/><ellipse cx=\"30.5\" cy=\"158\" fill=\"#ADD1B2\" rx=\"11\" ry=\"11\" style=\"stroke: #A80036; stroke-width: 1.0;\"/><path d=\"M33.4731,163.6431 Q32.8921,163.9419 32.2529,164.0913 Q31.6138,164.2407 30.9082,164.2407 Q28.4014,164.2407 27.0815,162.5889 Q25.7617,160.937 25.7617,157.8159 Q25.7617,154.6865 27.0815,153.0347 Q28.4014,151.3828 30.9082,151.3828 Q31.6138,151.3828 32.2612,151.5322 Q32.9087,151.6816 33.4731,151.9805 L33.4731,154.7031 Q32.8423,154.1221 32.2488,153.8523 Q31.6553,153.5825 31.0244,153.5825 Q29.6797,153.5825 28.9949,154.6492 Q28.3101,155.7158 28.3101,157.8159 Q28.3101,159.9077 28.9949,160.9744 Q29.6797,162.041 31.0244,162.041 Q31.6553,162.041 32.2488,161.7712 Q32.8423,161.5015 33.4731,160.9204 Z \"/><text fill=\"#000000\" font-family=\"sans-serif\" font-size=\"12\" lengthAdjust=\"spacingAndGlyphs\" textLength=\"49\" x=\"44.5\" y=\"162.5352\">BIterator</text><line style=\"stroke: #A80036; stroke-width: 1.5;\" x1=\"16.5\" x2=\"95.5\" y1=\"174\" y2=\"174\"/><line style=\"stroke: #A80036; stroke-width: 1.5;\" x1=\"16.5\" x2=\"95.5\" y1=\"182\" y2=\"182\"/><rect fill=\"#FEFECE\" filter=\"url(#f1)\" height=\"48\" style=\"stroke: #A80036; stroke-width: 1.5;\" width=\"95\" x=\"135.5\" y=\"250\"/><ellipse cx=\"150.5\" cy=\"266\" fill=\"#ADD1B2\" rx=\"11\" ry=\"11\" style=\"stroke: #A80036; stroke-width: 1.0;\"/><path d=\"M153.4731,271.6431 Q152.8921,271.9419 152.2529,272.0913 Q151.6138,272.2407 150.9082,272.2407 Q148.4014,272.2407 147.0815,270.5889 Q145.7617,268.937 145.7617,265.8159 Q145.7617,262.6865 147.0815,261.0347 Q148.4014,259.3828 150.9082,259.3828 Q151.6138,259.3828 152.2612,259.5322 Q152.9087,259.6816 153.4731,259.9805 L153.4731,262.7031 Q152.8423,262.1221 152.2488,261.8523 Q151.6553,261.5825 151.0244,261.5825 Q149.6797,261.5825 148.9949,262.6492 Q148.3101,263.7158 148.3101,265.8159 Q148.3101,267.9077 148.9949,268.9744 Q149.6797,270.041 151.0244,270.041 Q151.6553,270.041 152.2488,269.7712 Q152.8423,269.5015 153.4731,268.9204 Z \"/><text fill=\"#000000\" font-family=\"sans-serif\" font-size=\"12\" lengthAdjust=\"spacingAndGlyphs\" textLength=\"63\" x=\"164.5\" y=\"270.5352\">CollectionA</text><line style=\"stroke: #A80036; stroke-width: 1.5;\" x1=\"136.5\" x2=\"229.5\" y1=\"282\" y2=\"282\"/><line style=\"stroke: #A80036; stroke-width: 1.5;\" x1=\"136.5\" x2=\"229.5\" y1=\"290\" y2=\"290\"/><rect fill=\"#FEFECE\" filter=\"url(#f1)\" height=\"48\" style=\"stroke: #A80036; stroke-width: 1.5;\" width=\"94\" x=\"6\" y=\"250\"/><ellipse cx=\"21\" cy=\"266\" fill=\"#ADD1B2\" rx=\"11\" ry=\"11\" style=\"stroke: #A80036; stroke-width: 1.0;\"/><path d=\"M23.9731,271.6431 Q23.3921,271.9419 22.7529,272.0913 Q22.1138,272.2407 21.4082,272.2407 Q18.9014,272.2407 17.5815,270.5889 Q16.2617,268.937 16.2617,265.8159 Q16.2617,262.6865 17.5815,261.0347 Q18.9014,259.3828 21.4082,259.3828 Q22.1138,259.3828 22.7612,259.5322 Q23.4087,259.6816 23.9731,259.9805 L23.9731,262.7031 Q23.3423,262.1221 22.7488,261.8523 Q22.1553,261.5825 21.5244,261.5825 Q20.1797,261.5825 19.4949,262.6492 Q18.8101,263.7158 18.8101,265.8159 Q18.8101,267.9077 19.4949,268.9744 Q20.1797,270.041 21.5244,270.041 Q22.1553,270.041 22.7488,269.7712 Q23.3423,269.5015 23.9731,268.9204 Z \"/><text fill=\"#000000\" font-family=\"sans-serif\" font-size=\"12\" lengthAdjust=\"spacingAndGlyphs\" textLength=\"62\" x=\"35\" y=\"270.5352\">CollectionB</text><line style=\"stroke: #A80036; stroke-width: 1.5;\" x1=\"7\" x2=\"99\" y1=\"282\" y2=\"282\"/><line style=\"stroke: #A80036; stroke-width: 1.5;\" x1=\"7\" x2=\"99\" y1=\"290\" y2=\"290\"/><path d=\"M145.191,100.109 C152.838,114.786 160.714,129.903 166.939,141.85 \" fill=\"none\" style=\"stroke: #A80036; stroke-width: 1.0; stroke-dasharray: 7.0,7.0;\"/><polygon fill=\"none\" points=\"138.804,102.998,135.77,82.027,151.219,96.529,138.804,102.998\" style=\"stroke: #A80036; stroke-width: 1.0;\"/><path d=\"M89.2633,100.109 C81.7401,114.786 73.9908,129.903 67.8666,141.85 \" fill=\"none\" style=\"stroke: #A80036; stroke-width: 1.0; stroke-dasharray: 7.0,7.0;\"/><polygon fill=\"none\" points=\"83.1798,96.632,98.5324,82.027,95.6384,103.018,83.1798,96.632\" style=\"stroke: #A80036; stroke-width: 1.0;\"/><path d=\"M180.062,195.131 C180.704,212.1538 181.513,233.6037 182.12,249.6784 \" fill=\"none\" style=\"stroke: #A80036; stroke-width: 1.0;\"/><polygon fill=\"#A80036\" points=\"179.868,190,176.2103,199.1445,180.0566,194.9964,184.2046,198.8427,179.868,190\" style=\"stroke: #A80036; stroke-width: 1.0;\"/><path d=\"M55.2039,195.131 C54.7221,212.1538 54.115,233.6037 53.66,249.6784 \" fill=\"none\" style=\"stroke: #A80036; stroke-width: 1.0;\"/><polygon fill=\"#A80036\" points=\"55.349,190,51.096,198.8833,55.2076,194.998,59.0928,199.1095,55.349,190\" style=\"stroke: #A80036; stroke-width: 1.0;\"/></g></svg>"
      ],
      "text/plain": [
       "<IPython.core.display.SVG object>"
      ]
     },
     "execution_count": 3,
     "metadata": {},
     "output_type": "execute_result"
    }
   ],
   "source": [
    "%%plantuml\n",
    "@startuml\n",
    "\n",
    "interface Iterator {\n",
    "    +hasNext():boolean\n",
    "    +next():E\n",
    "}\n",
    "\n",
    "Iterator <|.. AIterator\n",
    "Iterator <|.. BIterator\n",
    "CollectionA -up-> AIterator\n",
    "CollectionB -up-> BIterator\n",
    "\n",
    "@enduml"
   ]
  },
  {
   "cell_type": "code",
   "execution_count": 5,
   "metadata": {
    "collapsed": false
   },
   "outputs": [
    {
     "data": {
      "image/svg+xml": [
       "<svg height=\"199px\" style=\"width:656px;height:199px;\" version=\"1.1\" viewBox=\"0 0 656 199\" width=\"656px\" xmlns=\"http://www.w3.org/2000/svg\" xmlns:xlink=\"http://www.w3.org/1999/xlink\"><defs><filter height=\"300%\" id=\"f1\" width=\"300%\" x=\"-1\" y=\"-1\"><feGaussianBlur result=\"blurOut\" stdDeviation=\"2.0\"/><feColorMatrix in=\"blurOut\" result=\"blurOut2\" type=\"matrix\" values=\"0 0 0 0 0 0 0 0 0 0 0 0 0 0 0 0 0 0 .4 0\"/><feOffset dx=\"4.0\" dy=\"4.0\" in=\"blurOut2\" result=\"blurOut3\"/><feBlend in=\"SourceGraphic\" in2=\"blurOut3\" mode=\"normal\"/></filter></defs><g><rect fill=\"#FEFECE\" filter=\"url(#f1)\" height=\"73.9102\" style=\"stroke: #A80036; stroke-width: 1.5;\" width=\"124\" x=\"87.5\" y=\"8\"/><ellipse cx=\"125\" cy=\"24\" fill=\"#B4A7E5\" rx=\"11\" ry=\"11\" style=\"stroke: #A80036; stroke-width: 1.0;\"/><path d=\"M120.9277,19.7651 L120.9277,17.6069 L128.3071,17.6069 L128.3071,19.7651 L125.8418,19.7651 L125.8418,27.8418 L128.3071,27.8418 L128.3071,30 L120.9277,30 L120.9277,27.8418 L123.3931,27.8418 L123.3931,19.7651 Z \"/><text fill=\"#000000\" font-family=\"sans-serif\" font-size=\"12\" font-style=\"italic\" lengthAdjust=\"spacingAndGlyphs\" textLength=\"42\" x=\"144\" y=\"28.5352\">Iterator</text><line style=\"stroke: #A80036; stroke-width: 1.5;\" x1=\"88.5\" x2=\"210.5\" y1=\"40\" y2=\"40\"/><line style=\"stroke: #A80036; stroke-width: 1.5;\" x1=\"88.5\" x2=\"210.5\" y1=\"48\" y2=\"48\"/><ellipse cx=\"98.5\" cy=\"59.9775\" fill=\"#84BE84\" rx=\"3\" ry=\"3\" style=\"stroke: #038048; stroke-width: 1.0;\"/><text fill=\"#000000\" font-family=\"sans-serif\" font-size=\"11\" lengthAdjust=\"spacingAndGlyphs\" textLength=\"98\" x=\"107.5\" y=\"62.6348\">hasNext():boolean</text><ellipse cx=\"98.5\" cy=\"72.9326\" fill=\"#84BE84\" rx=\"3\" ry=\"3\" style=\"stroke: #038048; stroke-width: 1.0;\"/><text fill=\"#000000\" font-family=\"sans-serif\" font-size=\"11\" lengthAdjust=\"spacingAndGlyphs\" textLength=\"41\" x=\"107.5\" y=\"75.5898\">next():E</text><rect fill=\"#FEFECE\" filter=\"url(#f1)\" height=\"48\" style=\"stroke: #A80036; stroke-width: 1.5;\" width=\"105\" x=\"6\" y=\"142\"/><ellipse cx=\"21\" cy=\"158\" fill=\"#ADD1B2\" rx=\"11\" ry=\"11\" style=\"stroke: #A80036; stroke-width: 1.0;\"/><path d=\"M23.9731,163.6431 Q23.3921,163.9419 22.7529,164.0913 Q22.1138,164.2407 21.4082,164.2407 Q18.9014,164.2407 17.5815,162.5889 Q16.2617,160.937 16.2617,157.8159 Q16.2617,154.6865 17.5815,153.0347 Q18.9014,151.3828 21.4082,151.3828 Q22.1138,151.3828 22.7612,151.5322 Q23.4087,151.6816 23.9731,151.9805 L23.9731,154.7031 Q23.3423,154.1221 22.7488,153.8523 Q22.1553,153.5825 21.5244,153.5825 Q20.1797,153.5825 19.4949,154.6492 Q18.8101,155.7158 18.8101,157.8159 Q18.8101,159.9077 19.4949,160.9744 Q20.1797,162.041 21.5244,162.041 Q22.1553,162.041 22.7488,161.7712 Q23.3423,161.5015 23.9731,160.9204 Z \"/><text fill=\"#000000\" font-family=\"sans-serif\" font-size=\"12\" lengthAdjust=\"spacingAndGlyphs\" textLength=\"73\" x=\"35\" y=\"162.5352\">DinerIterator</text><line style=\"stroke: #A80036; stroke-width: 1.5;\" x1=\"7\" x2=\"110\" y1=\"174\" y2=\"174\"/><line style=\"stroke: #A80036; stroke-width: 1.5;\" x1=\"7\" x2=\"110\" y1=\"182\" y2=\"182\"/><rect fill=\"#FEFECE\" filter=\"url(#f1)\" height=\"48\" style=\"stroke: #A80036; stroke-width: 1.5;\" width=\"189\" x=\"146\" y=\"142\"/><ellipse cx=\"161\" cy=\"158\" fill=\"#ADD1B2\" rx=\"11\" ry=\"11\" style=\"stroke: #A80036; stroke-width: 1.0;\"/><path d=\"M163.9731,163.6431 Q163.3921,163.9419 162.7529,164.0913 Q162.1138,164.2407 161.4082,164.2407 Q158.9014,164.2407 157.5815,162.5889 Q156.2617,160.937 156.2617,157.8159 Q156.2617,154.6865 157.5815,153.0347 Q158.9014,151.3828 161.4082,151.3828 Q162.1138,151.3828 162.7612,151.5322 Q163.4087,151.6816 163.9731,151.9805 L163.9731,154.7031 Q163.3423,154.1221 162.7488,153.8523 Q162.1553,153.5825 161.5244,153.5825 Q160.1797,153.5825 159.4949,154.6492 Q158.8101,155.7158 158.8101,157.8159 Q158.8101,159.9077 159.4949,160.9744 Q160.1797,162.041 161.5244,162.041 Q162.1553,162.041 162.7488,161.7712 Q163.3423,161.5015 163.9731,160.9204 Z \"/><text fill=\"#000000\" font-family=\"sans-serif\" font-size=\"12\" lengthAdjust=\"spacingAndGlyphs\" textLength=\"157\" x=\"175\" y=\"162.5352\">PancakeHouseMenuIterator</text><line style=\"stroke: #A80036; stroke-width: 1.5;\" x1=\"147\" x2=\"334\" y1=\"174\" y2=\"174\"/><line style=\"stroke: #A80036; stroke-width: 1.5;\" x1=\"147\" x2=\"334\" y1=\"182\" y2=\"182\"/><rect fill=\"#FEFECE\" filter=\"url(#f1)\" height=\"60.9551\" style=\"stroke: #A80036; stroke-width: 1.5;\" width=\"150\" x=\"420.5\" y=\"14.5\"/><ellipse cx=\"475.75\" cy=\"30.5\" fill=\"#B4A7E5\" rx=\"11\" ry=\"11\" style=\"stroke: #A80036; stroke-width: 1.0;\"/><path d=\"M471.6777,26.2651 L471.6777,24.1069 L479.0571,24.1069 L479.0571,26.2651 L476.5918,26.2651 L476.5918,34.3418 L479.0571,34.3418 L479.0571,36.5 L471.6777,36.5 L471.6777,34.3418 L474.1431,34.3418 L474.1431,26.2651 Z \"/><text fill=\"#000000\" font-family=\"sans-serif\" font-size=\"12\" font-style=\"italic\" lengthAdjust=\"spacingAndGlyphs\" textLength=\"31\" x=\"496.25\" y=\"35.0352\">Menu</text><line style=\"stroke: #A80036; stroke-width: 1.5;\" x1=\"421.5\" x2=\"569.5\" y1=\"46.5\" y2=\"46.5\"/><line style=\"stroke: #A80036; stroke-width: 1.5;\" x1=\"421.5\" x2=\"569.5\" y1=\"54.5\" y2=\"54.5\"/><ellipse cx=\"431.5\" cy=\"66.4775\" fill=\"#84BE84\" rx=\"3\" ry=\"3\" style=\"stroke: #038048; stroke-width: 1.0;\"/><text fill=\"#000000\" font-family=\"sans-serif\" font-size=\"11\" lengthAdjust=\"spacingAndGlyphs\" textLength=\"124\" x=\"440.5\" y=\"69.1348\">createIterator():Iterator</text><rect fill=\"#FEFECE\" filter=\"url(#f1)\" height=\"48\" style=\"stroke: #A80036; stroke-width: 1.5;\" width=\"94\" x=\"370.5\" y=\"142\"/><ellipse cx=\"385.5\" cy=\"158\" fill=\"#ADD1B2\" rx=\"11\" ry=\"11\" style=\"stroke: #A80036; stroke-width: 1.0;\"/><path d=\"M388.4731,163.6431 Q387.8921,163.9419 387.2529,164.0913 Q386.6138,164.2407 385.9082,164.2407 Q383.4014,164.2407 382.0815,162.5889 Q380.7617,160.937 380.7617,157.8159 Q380.7617,154.6865 382.0815,153.0347 Q383.4014,151.3828 385.9082,151.3828 Q386.6138,151.3828 387.2612,151.5322 Q387.9087,151.6816 388.4731,151.9805 L388.4731,154.7031 Q387.8423,154.1221 387.2488,153.8523 Q386.6553,153.5825 386.0244,153.5825 Q384.6797,153.5825 383.9949,154.6492 Q383.3101,155.7158 383.3101,157.8159 Q383.3101,159.9077 383.9949,160.9744 Q384.6797,162.041 386.0244,162.041 Q386.6553,162.041 387.2488,161.7712 Q387.8423,161.5015 388.4731,160.9204 Z \"/><text fill=\"#000000\" font-family=\"sans-serif\" font-size=\"12\" lengthAdjust=\"spacingAndGlyphs\" textLength=\"62\" x=\"399.5\" y=\"162.5352\">DinerMenu</text><line style=\"stroke: #A80036; stroke-width: 1.5;\" x1=\"371.5\" x2=\"463.5\" y1=\"174\" y2=\"174\"/><line style=\"stroke: #A80036; stroke-width: 1.5;\" x1=\"371.5\" x2=\"463.5\" y1=\"182\" y2=\"182\"/><rect fill=\"#FEFECE\" filter=\"url(#f1)\" height=\"48\" style=\"stroke: #A80036; stroke-width: 1.5;\" width=\"147\" x=\"500\" y=\"142\"/><ellipse cx=\"515\" cy=\"158\" fill=\"#ADD1B2\" rx=\"11\" ry=\"11\" style=\"stroke: #A80036; stroke-width: 1.0;\"/><path d=\"M517.9731,163.6431 Q517.3921,163.9419 516.7529,164.0913 Q516.1138,164.2407 515.4082,164.2407 Q512.9014,164.2407 511.5815,162.5889 Q510.2617,160.937 510.2617,157.8159 Q510.2617,154.6865 511.5815,153.0347 Q512.9014,151.3828 515.4082,151.3828 Q516.1138,151.3828 516.7612,151.5322 Q517.4087,151.6816 517.9731,151.9805 L517.9731,154.7031 Q517.3423,154.1221 516.7488,153.8523 Q516.1553,153.5825 515.5244,153.5825 Q514.1797,153.5825 513.4949,154.6492 Q512.8101,155.7158 512.8101,157.8159 Q512.8101,159.9077 513.4949,160.9744 Q514.1797,162.041 515.5244,162.041 Q516.1553,162.041 516.7488,161.7712 Q517.3423,161.5015 517.9731,160.9204 Z \"/><text fill=\"#000000\" font-family=\"sans-serif\" font-size=\"12\" lengthAdjust=\"spacingAndGlyphs\" textLength=\"115\" x=\"529\" y=\"162.5352\">PancakeHouseMenu</text><line style=\"stroke: #A80036; stroke-width: 1.5;\" x1=\"501\" x2=\"646\" y1=\"174\" y2=\"174\"/><line style=\"stroke: #A80036; stroke-width: 1.5;\" x1=\"501\" x2=\"646\" y1=\"182\" y2=\"182\"/><path d=\"M109.616,98.1554 C97.9316,113.4357 85.7448,129.3722 76.2026,141.8505 \" fill=\"none\" style=\"stroke: #A80036; stroke-width: 1.0; stroke-dasharray: 7.0,7.0;\"/><polygon fill=\"none\" points=\"104.2405,93.6619,121.95,82.027,115.362,102.1662,104.2405,93.6619\" style=\"stroke: #A80036; stroke-width: 1.0;\"/><path d=\"M189.384,98.1554 C201.068,113.4357 213.255,129.3722 222.797,141.8505 \" fill=\"none\" style=\"stroke: #A80036; stroke-width: 1.0; stroke-dasharray: 7.0,7.0;\"/><polygon fill=\"none\" points=\"183.638,102.1662,177.05,82.027,194.76,93.6619,183.638,102.1662\" style=\"stroke: #A80036; stroke-width: 1.0;\"/><path d=\"M464.948,92.6115 C453.836,109.5644 441.763,127.9835 432.576,141.9994 \" fill=\"none\" style=\"stroke: #A80036; stroke-width: 1.0; stroke-dasharray: 7.0,7.0;\"/><polygon fill=\"none\" points=\"459.2,88.611,476.019,75.722,470.909,96.2862,459.2,88.611\" style=\"stroke: #A80036; stroke-width: 1.0;\"/><path d=\"M526.052,92.6115 C537.164,109.5644 549.237,127.9835 558.424,141.9994 \" fill=\"none\" style=\"stroke: #A80036; stroke-width: 1.0; stroke-dasharray: 7.0,7.0;\"/><polygon fill=\"none\" points=\"520.091,96.2862,514.981,75.722,531.8,88.611,520.091,96.2862\" style=\"stroke: #A80036; stroke-width: 1.0;\"/></g></svg>"
      ],
      "text/plain": [
       "<IPython.core.display.SVG object>"
      ]
     },
     "execution_count": 5,
     "metadata": {},
     "output_type": "execute_result"
    }
   ],
   "source": [
    "%%plantuml\n",
    "@startuml\n",
    "\n",
    "Interface Iterator {\n",
    "    +hasNext():boolean\n",
    "    +next():E\n",
    "}\n",
    "\n",
    "Iterator <|.. DinerIterator\n",
    "Iterator <|.. PancakeHouseMenuIterator\n",
    "\n",
    "Interface Menu {\n",
    "    +createIterator():Iterator\n",
    "}\n",
    "\n",
    "Menu <|.. DinerMenu\n",
    "Menu <|.. PancakeHouseMenu\n",
    "\n",
    "@enduml"
   ]
  },
  {
   "cell_type": "code",
   "execution_count": 8,
   "metadata": {
    "collapsed": false
   },
   "outputs": [
    {
     "data": {
      "image/svg+xml": [
       "<svg height=\"266px\" style=\"width:655px;height:266px;\" version=\"1.1\" viewBox=\"0 0 655 266\" width=\"655px\" xmlns=\"http://www.w3.org/2000/svg\" xmlns:xlink=\"http://www.w3.org/1999/xlink\"><defs><filter height=\"300%\" id=\"f1\" width=\"300%\" x=\"-1\" y=\"-1\"><feGaussianBlur result=\"blurOut\" stdDeviation=\"2.0\"/><feColorMatrix in=\"blurOut\" result=\"blurOut2\" type=\"matrix\" values=\"0 0 0 0 0 0 0 0 0 0 0 0 0 0 0 0 0 0 .4 0\"/><feOffset dx=\"4.0\" dy=\"4.0\" in=\"blurOut2\" result=\"blurOut3\"/><feBlend in=\"SourceGraphic\" in2=\"blurOut3\" mode=\"normal\"/></filter></defs><g><polygon fill=\"#FFFFFF\" filter=\"url(#f1)\" points=\"44.5,32,104.5,32,111.5,54.4883,235.5,54.4883,235.5,173,44.5,173,44.5,32\" style=\"stroke: #000000; stroke-width: 2.0;\"/><line style=\"stroke: #000000; stroke-width: 2.0;\" x1=\"44.5\" x2=\"111.5\" y1=\"54.4883\" y2=\"54.4883\"/><text fill=\"#000000\" font-family=\"sans-serif\" font-size=\"14\" font-weight=\"bold\" lengthAdjust=\"spacingAndGlyphs\" textLength=\"54\" x=\"48.5\" y=\"47.5352\">Iterator</text><rect fill=\"#FEFECE\" filter=\"url(#f1)\" height=\"73.9102\" style=\"stroke: #A80036; stroke-width: 1.5;\" width=\"124\" x=\"87.5\" y=\"75\"/><ellipse cx=\"125\" cy=\"91\" fill=\"#B4A7E5\" rx=\"11\" ry=\"11\" style=\"stroke: #A80036; stroke-width: 1.0;\"/><path d=\"M120.9277,86.7651 L120.9277,84.6069 L128.3071,84.6069 L128.3071,86.7651 L125.8418,86.7651 L125.8418,94.8418 L128.3071,94.8418 L128.3071,97 L120.9277,97 L120.9277,94.8418 L123.3931,94.8418 L123.3931,86.7651 Z \"/><text fill=\"#000000\" font-family=\"sans-serif\" font-size=\"12\" font-style=\"italic\" lengthAdjust=\"spacingAndGlyphs\" textLength=\"42\" x=\"144\" y=\"95.5352\">Iterator</text><line style=\"stroke: #A80036; stroke-width: 1.5;\" x1=\"88.5\" x2=\"210.5\" y1=\"107\" y2=\"107\"/><line style=\"stroke: #A80036; stroke-width: 1.5;\" x1=\"88.5\" x2=\"210.5\" y1=\"115\" y2=\"115\"/><ellipse cx=\"98.5\" cy=\"126.9775\" fill=\"#84BE84\" rx=\"3\" ry=\"3\" style=\"stroke: #038048; stroke-width: 1.0;\"/><text fill=\"#000000\" font-family=\"sans-serif\" font-size=\"11\" lengthAdjust=\"spacingAndGlyphs\" textLength=\"98\" x=\"107.5\" y=\"129.6348\">hasNext():boolean</text><ellipse cx=\"98.5\" cy=\"139.9326\" fill=\"#84BE84\" rx=\"3\" ry=\"3\" style=\"stroke: #038048; stroke-width: 1.0;\"/><text fill=\"#000000\" font-family=\"sans-serif\" font-size=\"11\" lengthAdjust=\"spacingAndGlyphs\" textLength=\"41\" x=\"107.5\" y=\"142.5898\">next():E</text><rect fill=\"#FEFECE\" filter=\"url(#f1)\" height=\"48\" style=\"stroke: #A80036; stroke-width: 1.5;\" width=\"105\" x=\"6\" y=\"209\"/><ellipse cx=\"21\" cy=\"225\" fill=\"#ADD1B2\" rx=\"11\" ry=\"11\" style=\"stroke: #A80036; stroke-width: 1.0;\"/><path d=\"M23.9731,230.6431 Q23.3921,230.9419 22.7529,231.0913 Q22.1138,231.2407 21.4082,231.2407 Q18.9014,231.2407 17.5815,229.5889 Q16.2617,227.937 16.2617,224.8159 Q16.2617,221.6865 17.5815,220.0347 Q18.9014,218.3828 21.4082,218.3828 Q22.1138,218.3828 22.7612,218.5322 Q23.4087,218.6816 23.9731,218.9805 L23.9731,221.7031 Q23.3423,221.1221 22.7488,220.8523 Q22.1553,220.5825 21.5244,220.5825 Q20.1797,220.5825 19.4949,221.6492 Q18.8101,222.7158 18.8101,224.8159 Q18.8101,226.9077 19.4949,227.9744 Q20.1797,229.041 21.5244,229.041 Q22.1553,229.041 22.7488,228.7712 Q23.3423,228.5015 23.9731,227.9204 Z \"/><text fill=\"#000000\" font-family=\"sans-serif\" font-size=\"12\" lengthAdjust=\"spacingAndGlyphs\" textLength=\"73\" x=\"35\" y=\"229.5352\">DinerIterator</text><line style=\"stroke: #A80036; stroke-width: 1.5;\" x1=\"7\" x2=\"110\" y1=\"241\" y2=\"241\"/><line style=\"stroke: #A80036; stroke-width: 1.5;\" x1=\"7\" x2=\"110\" y1=\"249\" y2=\"249\"/><rect fill=\"#FEFECE\" filter=\"url(#f1)\" height=\"48\" style=\"stroke: #A80036; stroke-width: 1.5;\" width=\"189\" x=\"146\" y=\"209\"/><ellipse cx=\"161\" cy=\"225\" fill=\"#ADD1B2\" rx=\"11\" ry=\"11\" style=\"stroke: #A80036; stroke-width: 1.0;\"/><path d=\"M163.9731,230.6431 Q163.3921,230.9419 162.7529,231.0913 Q162.1138,231.2407 161.4082,231.2407 Q158.9014,231.2407 157.5815,229.5889 Q156.2617,227.937 156.2617,224.8159 Q156.2617,221.6865 157.5815,220.0347 Q158.9014,218.3828 161.4082,218.3828 Q162.1138,218.3828 162.7612,218.5322 Q163.4087,218.6816 163.9731,218.9805 L163.9731,221.7031 Q163.3423,221.1221 162.7488,220.8523 Q162.1553,220.5825 161.5244,220.5825 Q160.1797,220.5825 159.4949,221.6492 Q158.8101,222.7158 158.8101,224.8159 Q158.8101,226.9077 159.4949,227.9744 Q160.1797,229.041 161.5244,229.041 Q162.1553,229.041 162.7488,228.7712 Q163.3423,228.5015 163.9731,227.9204 Z \"/><text fill=\"#000000\" font-family=\"sans-serif\" font-size=\"12\" lengthAdjust=\"spacingAndGlyphs\" textLength=\"157\" x=\"175\" y=\"229.5352\">PancakeHouseMenuIterator</text><line style=\"stroke: #A80036; stroke-width: 1.5;\" x1=\"147\" x2=\"334\" y1=\"241\" y2=\"241\"/><line style=\"stroke: #A80036; stroke-width: 1.5;\" x1=\"147\" x2=\"334\" y1=\"249\" y2=\"249\"/><rect fill=\"#FEFECE\" filter=\"url(#f1)\" height=\"60.9551\" style=\"stroke: #A80036; stroke-width: 1.5;\" width=\"150\" x=\"446.5\" y=\"81.5\"/><ellipse cx=\"501.75\" cy=\"97.5\" fill=\"#B4A7E5\" rx=\"11\" ry=\"11\" style=\"stroke: #A80036; stroke-width: 1.0;\"/><path d=\"M497.6777,93.2651 L497.6777,91.1069 L505.0571,91.1069 L505.0571,93.2651 L502.5918,93.2651 L502.5918,101.3418 L505.0571,101.3418 L505.0571,103.5 L497.6777,103.5 L497.6777,101.3418 L500.1431,101.3418 L500.1431,93.2651 Z \"/><text fill=\"#000000\" font-family=\"sans-serif\" font-size=\"12\" font-style=\"italic\" lengthAdjust=\"spacingAndGlyphs\" textLength=\"31\" x=\"522.25\" y=\"102.0352\">Menu</text><line style=\"stroke: #A80036; stroke-width: 1.5;\" x1=\"447.5\" x2=\"595.5\" y1=\"113.5\" y2=\"113.5\"/><line style=\"stroke: #A80036; stroke-width: 1.5;\" x1=\"447.5\" x2=\"595.5\" y1=\"121.5\" y2=\"121.5\"/><ellipse cx=\"457.5\" cy=\"133.4775\" fill=\"#84BE84\" rx=\"3\" ry=\"3\" style=\"stroke: #038048; stroke-width: 1.0;\"/><text fill=\"#000000\" font-family=\"sans-serif\" font-size=\"11\" lengthAdjust=\"spacingAndGlyphs\" textLength=\"124\" x=\"466.5\" y=\"136.1348\">createIterator():Iterator</text><rect fill=\"#FEFECE\" filter=\"url(#f1)\" height=\"48\" style=\"stroke: #A80036; stroke-width: 1.5;\" width=\"94\" x=\"552.5\" y=\"209\"/><ellipse cx=\"567.5\" cy=\"225\" fill=\"#ADD1B2\" rx=\"11\" ry=\"11\" style=\"stroke: #A80036; stroke-width: 1.0;\"/><path d=\"M570.4731,230.6431 Q569.8921,230.9419 569.2529,231.0913 Q568.6138,231.2407 567.9082,231.2407 Q565.4014,231.2407 564.0815,229.5889 Q562.7617,227.937 562.7617,224.8159 Q562.7617,221.6865 564.0815,220.0347 Q565.4014,218.3828 567.9082,218.3828 Q568.6138,218.3828 569.2612,218.5322 Q569.9087,218.6816 570.4731,218.9805 L570.4731,221.7031 Q569.8423,221.1221 569.2488,220.8523 Q568.6553,220.5825 568.0244,220.5825 Q566.6797,220.5825 565.9949,221.6492 Q565.3101,222.7158 565.3101,224.8159 Q565.3101,226.9077 565.9949,227.9744 Q566.6797,229.041 568.0244,229.041 Q568.6553,229.041 569.2488,228.7712 Q569.8423,228.5015 570.4731,227.9204 Z \"/><text fill=\"#000000\" font-family=\"sans-serif\" font-size=\"12\" lengthAdjust=\"spacingAndGlyphs\" textLength=\"62\" x=\"581.5\" y=\"229.5352\">DinerMenu</text><line style=\"stroke: #A80036; stroke-width: 1.5;\" x1=\"553.5\" x2=\"645.5\" y1=\"241\" y2=\"241\"/><line style=\"stroke: #A80036; stroke-width: 1.5;\" x1=\"553.5\" x2=\"645.5\" y1=\"249\" y2=\"249\"/><rect fill=\"#FEFECE\" filter=\"url(#f1)\" height=\"48\" style=\"stroke: #A80036; stroke-width: 1.5;\" width=\"147\" x=\"370\" y=\"209\"/><ellipse cx=\"385\" cy=\"225\" fill=\"#ADD1B2\" rx=\"11\" ry=\"11\" style=\"stroke: #A80036; stroke-width: 1.0;\"/><path d=\"M387.9731,230.6431 Q387.3921,230.9419 386.7529,231.0913 Q386.1138,231.2407 385.4082,231.2407 Q382.9014,231.2407 381.5815,229.5889 Q380.2617,227.937 380.2617,224.8159 Q380.2617,221.6865 381.5815,220.0347 Q382.9014,218.3828 385.4082,218.3828 Q386.1138,218.3828 386.7612,218.5322 Q387.4087,218.6816 387.9731,218.9805 L387.9731,221.7031 Q387.3423,221.1221 386.7488,220.8523 Q386.1553,220.5825 385.5244,220.5825 Q384.1797,220.5825 383.4949,221.6492 Q382.8101,222.7158 382.8101,224.8159 Q382.8101,226.9077 383.4949,227.9744 Q384.1797,229.041 385.5244,229.041 Q386.1553,229.041 386.7488,228.7712 Q387.3423,228.5015 387.9731,227.9204 Z \"/><text fill=\"#000000\" font-family=\"sans-serif\" font-size=\"12\" lengthAdjust=\"spacingAndGlyphs\" textLength=\"115\" x=\"399\" y=\"229.5352\">PancakeHouseMenu</text><line style=\"stroke: #A80036; stroke-width: 1.5;\" x1=\"371\" x2=\"516\" y1=\"241\" y2=\"241\"/><line style=\"stroke: #A80036; stroke-width: 1.5;\" x1=\"371\" x2=\"516\" y1=\"249\" y2=\"249\"/><path d=\"M109.616,165.1554 C97.9316,180.4357 85.7448,196.3722 76.2026,208.8505 \" fill=\"none\" style=\"stroke: #A80036; stroke-width: 1.0; stroke-dasharray: 7.0,7.0;\"/><polygon fill=\"none\" points=\"104.2405,160.6619,121.95,149.027,115.362,169.1662,104.2405,160.6619\" style=\"stroke: #A80036; stroke-width: 1.0;\"/><path d=\"M189.384,165.1554 C201.068,180.4357 213.255,196.3722 222.797,208.8505 \" fill=\"none\" style=\"stroke: #A80036; stroke-width: 1.0; stroke-dasharray: 7.0,7.0;\"/><polygon fill=\"none\" points=\"183.638,169.1662,177.05,149.027,194.76,160.6619,183.638,169.1662\" style=\"stroke: #A80036; stroke-width: 1.0;\"/><path d=\"M552.052,159.6115 C563.164,176.5644 575.237,194.9835 584.424,208.9994 \" fill=\"none\" style=\"stroke: #A80036; stroke-width: 1.0; stroke-dasharray: 7.0,7.0;\"/><polygon fill=\"none\" points=\"546.091,163.2862,540.981,142.722,557.8,155.611,546.091,163.2862\" style=\"stroke: #A80036; stroke-width: 1.0;\"/><path d=\"M490.948,159.6115 C479.836,176.5644 467.763,194.9835 458.576,208.9994 \" fill=\"none\" style=\"stroke: #A80036; stroke-width: 1.0; stroke-dasharray: 7.0,7.0;\"/><polygon fill=\"none\" points=\"485.2,155.611,502.019,142.722,496.909,163.2862,485.2,155.611\" style=\"stroke: #A80036; stroke-width: 1.0;\"/><path d=\"M116.038,207.2037 C125.857,203.804 136.089,200.858 146,199 C186.516,191.4048 476.563,190.9941 517,199 C528.701,201.3167 540.827,205.3157 552.064,209.7754 \" fill=\"none\" style=\"stroke: #A80036; stroke-width: 1.0;\"/><polygon fill=\"#A80036\" points=\"111.255,208.9062,121.0753,209.6558,115.9654,207.2291,118.392,202.1192,111.255,208.9062\" style=\"stroke: #A80036; stroke-width: 1.0;\"/><path d=\"M340.406,233 C350.248,233 360.089,233 369.93,233 \" fill=\"none\" style=\"stroke: #A80036; stroke-width: 1.0;\"/><polygon fill=\"#A80036\" points=\"335.26,233,344.26,237,340.26,233,344.26,229,335.26,233\" style=\"stroke: #A80036; stroke-width: 1.0;\"/></g></svg>"
      ],
      "text/plain": [
       "<IPython.core.display.SVG object>"
      ]
     },
     "execution_count": 8,
     "metadata": {},
     "output_type": "execute_result"
    }
   ],
   "source": [
    "%%plantuml\n",
    "@startuml\n",
    "\n",
    "package Iterator {\n",
    "    Interface Iterator {\n",
    "    +hasNext():boolean\n",
    "    +next():E\n",
    "    }\n",
    "}\n",
    "\n",
    "Iterator <|.. DinerIterator\n",
    "Iterator <|.. PancakeHouseMenuIterator\n",
    "\n",
    "Interface Menu {\n",
    "    +createIterator():Iterator\n",
    "}\n",
    "\n",
    "Menu <|.. DinerMenu\n",
    "Menu <|.. PancakeHouseMenu\n",
    "DinerMenu -left-> DinerIterator\n",
    "PancakeHouseMenu -left-> PancakeHouseMenuIterator\n",
    "\n",
    "@enduml"
   ]
  },
  {
   "cell_type": "code",
   "execution_count": null,
   "metadata": {
    "collapsed": true
   },
   "outputs": [],
   "source": []
  }
 ],
 "metadata": {
  "kernelspec": {
   "display_name": "Python 2",
   "language": "python",
   "name": "python2"
  },
  "language_info": {
   "codemirror_mode": {
    "name": "ipython",
    "version": 2
   },
   "file_extension": ".py",
   "mimetype": "text/x-python",
   "name": "python",
   "nbconvert_exporter": "python",
   "pygments_lexer": "ipython2",
   "version": "2.7.10"
  }
 },
 "nbformat": 4,
 "nbformat_minor": 0
}
