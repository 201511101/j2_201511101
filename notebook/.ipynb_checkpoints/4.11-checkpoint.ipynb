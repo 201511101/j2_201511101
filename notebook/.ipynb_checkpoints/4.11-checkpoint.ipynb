{
 "cells": [
  {
   "cell_type": "code",
   "execution_count": 1,
   "metadata": {
    "collapsed": true
   },
   "outputs": [],
   "source": [
    "%load_ext plantuml_magics"
   ]
  },
  {
   "cell_type": "code",
   "execution_count": 9,
   "metadata": {
    "collapsed": false
   },
   "outputs": [
    {
     "data": {
      "image/svg+xml": [
       "<svg height=\"289px\" style=\"width:809px;height:289px;\" version=\"1.1\" viewBox=\"0 0 809 289\" width=\"809px\" xmlns=\"http://www.w3.org/2000/svg\" xmlns:xlink=\"http://www.w3.org/1999/xlink\"><defs><filter height=\"300%\" id=\"f1\" width=\"300%\" x=\"-1\" y=\"-1\"><feGaussianBlur result=\"blurOut\" stdDeviation=\"2.0\"/><feColorMatrix in=\"blurOut\" result=\"blurOut2\" type=\"matrix\" values=\"0 0 0 0 0 0 0 0 0 0 0 0 0 0 0 0 0 0 .4 0\"/><feOffset dx=\"4.0\" dy=\"4.0\" in=\"blurOut2\" result=\"blurOut3\"/><feBlend in=\"SourceGraphic\" in2=\"blurOut3\" mode=\"normal\"/></filter></defs><g><rect fill=\"#FEFECE\" filter=\"url(#f1)\" height=\"48\" style=\"stroke: #A80036; stroke-width: 1.5;\" width=\"63\" x=\"638\" y=\"12\"/><ellipse cx=\"653\" cy=\"28\" fill=\"#ADD1B2\" rx=\"11\" ry=\"11\" style=\"stroke: #A80036; stroke-width: 1.0;\"/><path d=\"M655.9731,33.6431 Q655.3921,33.9419 654.7529,34.0913 Q654.1138,34.2407 653.4082,34.2407 Q650.9014,34.2407 649.5815,32.5889 Q648.2617,30.937 648.2617,27.8159 Q648.2617,24.6865 649.5815,23.0347 Q650.9014,21.3828 653.4082,21.3828 Q654.1138,21.3828 654.7612,21.5322 Q655.4087,21.6816 655.9731,21.9805 L655.9731,24.7031 Q655.3423,24.1221 654.7488,23.8523 Q654.1553,23.5825 653.5244,23.5825 Q652.1797,23.5825 651.4949,24.6492 Q650.8101,25.7158 650.8101,27.8159 Q650.8101,29.9077 651.4949,30.9744 Q652.1797,32.041 653.5244,32.041 Q654.1553,32.041 654.7488,31.7712 Q655.3423,31.5015 655.9731,30.9204 Z \"/><text fill=\"#000000\" font-family=\"sans-serif\" font-size=\"12\" lengthAdjust=\"spacingAndGlyphs\" textLength=\"31\" x=\"667\" y=\"32.5352\">Pizza</text><line style=\"stroke: #A80036; stroke-width: 1.5;\" x1=\"639\" x2=\"700\" y1=\"44\" y2=\"44\"/><line style=\"stroke: #A80036; stroke-width: 1.5;\" x1=\"639\" x2=\"700\" y1=\"52\" y2=\"52\"/><rect fill=\"#FEFECE\" filter=\"url(#f1)\" height=\"48\" style=\"stroke: #A80036; stroke-width: 1.5;\" width=\"134\" x=\"525.5\" y=\"124\"/><ellipse cx=\"540.5\" cy=\"140\" fill=\"#ADD1B2\" rx=\"11\" ry=\"11\" style=\"stroke: #A80036; stroke-width: 1.0;\"/><path d=\"M543.4731,145.6431 Q542.8921,145.9419 542.2529,146.0913 Q541.6138,146.2407 540.9082,146.2407 Q538.4014,146.2407 537.0815,144.5889 Q535.7617,142.937 535.7617,139.8159 Q535.7617,136.6865 537.0815,135.0347 Q538.4014,133.3828 540.9082,133.3828 Q541.6138,133.3828 542.2612,133.5322 Q542.9087,133.6816 543.4731,133.9805 L543.4731,136.7031 Q542.8423,136.1221 542.2488,135.8523 Q541.6553,135.5825 541.0244,135.5825 Q539.6797,135.5825 538.9949,136.6492 Q538.3101,137.7158 538.3101,139.8159 Q538.3101,141.9077 538.9949,142.9744 Q539.6797,144.041 541.0244,144.041 Q541.6553,144.041 542.2488,143.7712 Q542.8423,143.5015 543.4731,142.9204 Z \"/><text fill=\"#000000\" font-family=\"sans-serif\" font-size=\"12\" lengthAdjust=\"spacingAndGlyphs\" textLength=\"102\" x=\"554.5\" y=\"144.5352\">ChicagoStylePizza</text><line style=\"stroke: #A80036; stroke-width: 1.5;\" x1=\"526.5\" x2=\"658.5\" y1=\"156\" y2=\"156\"/><line style=\"stroke: #A80036; stroke-width: 1.5;\" x1=\"526.5\" x2=\"658.5\" y1=\"164\" y2=\"164\"/><rect fill=\"#FEFECE\" filter=\"url(#f1)\" height=\"48\" style=\"stroke: #A80036; stroke-width: 1.5;\" width=\"105\" x=\"695\" y=\"124\"/><ellipse cx=\"710\" cy=\"140\" fill=\"#ADD1B2\" rx=\"11\" ry=\"11\" style=\"stroke: #A80036; stroke-width: 1.0;\"/><path d=\"M712.9731,145.6431 Q712.3921,145.9419 711.7529,146.0913 Q711.1138,146.2407 710.4082,146.2407 Q707.9014,146.2407 706.5815,144.5889 Q705.2617,142.937 705.2617,139.8159 Q705.2617,136.6865 706.5815,135.0347 Q707.9014,133.3828 710.4082,133.3828 Q711.1138,133.3828 711.7612,133.5322 Q712.4087,133.6816 712.9731,133.9805 L712.9731,136.7031 Q712.3423,136.1221 711.7488,135.8523 Q711.1553,135.5825 710.5244,135.5825 Q709.1797,135.5825 708.4949,136.6492 Q707.8101,137.7158 707.8101,139.8159 Q707.8101,141.9077 708.4949,142.9744 Q709.1797,144.041 710.5244,144.041 Q711.1553,144.041 711.7488,143.7712 Q712.3423,143.5015 712.9731,142.9204 Z \"/><text fill=\"#000000\" font-family=\"sans-serif\" font-size=\"12\" lengthAdjust=\"spacingAndGlyphs\" textLength=\"73\" x=\"724\" y=\"144.5352\">NYStylePizza</text><line style=\"stroke: #A80036; stroke-width: 1.5;\" x1=\"696\" x2=\"799\" y1=\"156\" y2=\"156\"/><line style=\"stroke: #A80036; stroke-width: 1.5;\" x1=\"696\" x2=\"799\" y1=\"164\" y2=\"164\"/><rect fill=\"#FEFECE\" filter=\"url(#f1)\" height=\"48\" style=\"stroke: #A80036; stroke-width: 1.5;\" width=\"176\" x=\"504.5\" y=\"232\"/><ellipse cx=\"519.5\" cy=\"248\" fill=\"#ADD1B2\" rx=\"11\" ry=\"11\" style=\"stroke: #A80036; stroke-width: 1.0;\"/><path d=\"M522.4731,253.6431 Q521.8921,253.9419 521.2529,254.0913 Q520.6138,254.2407 519.9082,254.2407 Q517.4014,254.2407 516.0815,252.5889 Q514.7617,250.937 514.7617,247.8159 Q514.7617,244.6865 516.0815,243.0347 Q517.4014,241.3828 519.9082,241.3828 Q520.6138,241.3828 521.2612,241.5322 Q521.9087,241.6816 522.4731,241.9805 L522.4731,244.7031 Q521.8423,244.1221 521.2488,243.8523 Q520.6553,243.5825 520.0244,243.5825 Q518.6797,243.5825 517.9949,244.6492 Q517.3101,245.7158 517.3101,247.8159 Q517.3101,249.9077 517.9949,250.9744 Q518.6797,252.041 520.0244,252.041 Q520.6553,252.041 521.2488,251.7712 Q521.8423,251.5015 522.4731,250.9204 Z \"/><text fill=\"#000000\" font-family=\"sans-serif\" font-size=\"12\" lengthAdjust=\"spacingAndGlyphs\" textLength=\"144\" x=\"533.5\" y=\"252.5352\">ChicagoStyleCheesePizza</text><line style=\"stroke: #A80036; stroke-width: 1.5;\" x1=\"505.5\" x2=\"679.5\" y1=\"264\" y2=\"264\"/><line style=\"stroke: #A80036; stroke-width: 1.5;\" x1=\"505.5\" x2=\"679.5\" y1=\"272\" y2=\"272\"/><rect fill=\"#FEFECE\" filter=\"url(#f1)\" height=\"48\" style=\"stroke: #A80036; stroke-width: 1.5;\" width=\"92\" x=\"296.5\" y=\"12\"/><ellipse cx=\"311.5\" cy=\"28\" fill=\"#ADD1B2\" rx=\"11\" ry=\"11\" style=\"stroke: #A80036; stroke-width: 1.0;\"/><path d=\"M314.4731,33.6431 Q313.8921,33.9419 313.2529,34.0913 Q312.6138,34.2407 311.9082,34.2407 Q309.4014,34.2407 308.0815,32.5889 Q306.7617,30.937 306.7617,27.8159 Q306.7617,24.6865 308.0815,23.0347 Q309.4014,21.3828 311.9082,21.3828 Q312.6138,21.3828 313.2612,21.5322 Q313.9087,21.6816 314.4731,21.9805 L314.4731,24.7031 Q313.8423,24.1221 313.2488,23.8523 Q312.6553,23.5825 312.0244,23.5825 Q310.6797,23.5825 309.9949,24.6492 Q309.3101,25.7158 309.3101,27.8159 Q309.3101,29.9077 309.9949,30.9744 Q310.6797,32.041 312.0244,32.041 Q312.6553,32.041 313.2488,31.7712 Q313.8423,31.5015 314.4731,30.9204 Z \"/><text fill=\"#000000\" font-family=\"sans-serif\" font-size=\"12\" lengthAdjust=\"spacingAndGlyphs\" textLength=\"60\" x=\"325.5\" y=\"32.5352\">PizzaStore</text><line style=\"stroke: #A80036; stroke-width: 1.5;\" x1=\"297.5\" x2=\"387.5\" y1=\"44\" y2=\"44\"/><line style=\"stroke: #A80036; stroke-width: 1.5;\" x1=\"297.5\" x2=\"387.5\" y1=\"52\" y2=\"52\"/><rect fill=\"#FEFECE\" filter=\"url(#f1)\" height=\"48\" style=\"stroke: #A80036; stroke-width: 1.5;\" width=\"108\" x=\"209.5\" y=\"124\"/><ellipse cx=\"224.5\" cy=\"140\" fill=\"#ADD1B2\" rx=\"11\" ry=\"11\" style=\"stroke: #A80036; stroke-width: 1.0;\"/><path d=\"M227.4731,145.6431 Q226.8921,145.9419 226.2529,146.0913 Q225.6138,146.2407 224.9082,146.2407 Q222.4014,146.2407 221.0815,144.5889 Q219.7617,142.937 219.7617,139.8159 Q219.7617,136.6865 221.0815,135.0347 Q222.4014,133.3828 224.9082,133.3828 Q225.6138,133.3828 226.2612,133.5322 Q226.9087,133.6816 227.4731,133.9805 L227.4731,136.7031 Q226.8423,136.1221 226.2488,135.8523 Q225.6553,135.5825 225.0244,135.5825 Q223.6797,135.5825 222.9949,136.6492 Q222.3101,137.7158 222.3101,139.8159 Q222.3101,141.9077 222.9949,142.9744 Q223.6797,144.041 225.0244,144.041 Q225.6553,144.041 226.2488,143.7712 Q226.8423,143.5015 227.4731,142.9204 Z \"/><text fill=\"#000000\" font-family=\"sans-serif\" font-size=\"12\" lengthAdjust=\"spacingAndGlyphs\" textLength=\"76\" x=\"238.5\" y=\"144.5352\">NYPizzaStore</text><line style=\"stroke: #A80036; stroke-width: 1.5;\" x1=\"210.5\" x2=\"316.5\" y1=\"156\" y2=\"156\"/><line style=\"stroke: #A80036; stroke-width: 1.5;\" x1=\"210.5\" x2=\"316.5\" y1=\"164\" y2=\"164\"/><rect fill=\"#FEFECE\" filter=\"url(#f1)\" height=\"48\" style=\"stroke: #A80036; stroke-width: 1.5;\" width=\"137\" x=\"353\" y=\"124\"/><ellipse cx=\"368\" cy=\"140\" fill=\"#ADD1B2\" rx=\"11\" ry=\"11\" style=\"stroke: #A80036; stroke-width: 1.0;\"/><path d=\"M370.9731,145.6431 Q370.3921,145.9419 369.7529,146.0913 Q369.1138,146.2407 368.4082,146.2407 Q365.9014,146.2407 364.5815,144.5889 Q363.2617,142.937 363.2617,139.8159 Q363.2617,136.6865 364.5815,135.0347 Q365.9014,133.3828 368.4082,133.3828 Q369.1138,133.3828 369.7612,133.5322 Q370.4087,133.6816 370.9731,133.9805 L370.9731,136.7031 Q370.3423,136.1221 369.7488,135.8523 Q369.1553,135.5825 368.5244,135.5825 Q367.1797,135.5825 366.4949,136.6492 Q365.8101,137.7158 365.8101,139.8159 Q365.8101,141.9077 366.4949,142.9744 Q367.1797,144.041 368.5244,144.041 Q369.1553,144.041 369.7488,143.7712 Q370.3423,143.5015 370.9731,142.9204 Z \"/><text fill=\"#000000\" font-family=\"sans-serif\" font-size=\"12\" lengthAdjust=\"spacingAndGlyphs\" textLength=\"105\" x=\"382\" y=\"144.5352\">ChicagoPizzaStore</text><line style=\"stroke: #A80036; stroke-width: 1.5;\" x1=\"354\" x2=\"489\" y1=\"156\" y2=\"156\"/><line style=\"stroke: #A80036; stroke-width: 1.5;\" x1=\"354\" x2=\"489\" y1=\"164\" y2=\"164\"/><polygon fill=\"#FBFB77\" filter=\"url(#f1)\" points=\"6,8,6,63.9316,261,63.9316,261,18,251,8,6,8\" style=\"stroke: #A80036; stroke-width: 1.0;\"/><polygon fill=\"#FBFB77\" points=\"6,8,6,63.9316,261,63.9316,261,40,296.489,36,261,32,261,18,251,8,6,8\" style=\"stroke: #A80036; stroke-width: 1.0;\"/><line style=\"stroke: #A80036; stroke-width: 1.0;\" x1=\"251\" x2=\"251\" y1=\"8\" y2=\"18\"/><line style=\"stroke: #A80036; stroke-width: 1.0;\" x1=\"261\" x2=\"251\" y1=\"18\" y2=\"18\"/><text fill=\"#000000\" font-family=\"sans-serif\" font-size=\"13\" lengthAdjust=\"spacingAndGlyphs\" textLength=\"234\" x=\"12\" y=\"25.5684\">&quot;&quot;&quot;Public Pizza orderPizza(String type)</text><text fill=\"#000000\" font-family=\"sans-serif\" font-size=\"13\" lengthAdjust=\"spacingAndGlyphs\" textLength=\"73\" x=\"28\" y=\"40.8789\">Pizza pizza;</text><text fill=\"#000000\" font-family=\"sans-serif\" font-size=\"13\" lengthAdjust=\"spacingAndGlyphs\" textLength=\"163\" x=\"28\" y=\"56.1895\">pizza=createPizza(type)&quot;&quot;&quot;</text><path d=\"M641.781,76.598 C630.652,92.497 618.216,110.263 608.62,123.971 \" fill=\"none\" style=\"stroke: #A80036; stroke-width: 1.0;\"/><polygon fill=\"none\" points=\"636.154,72.43,653.358,60.06,647.624,80.459,636.154,72.43\" style=\"stroke: #A80036; stroke-width: 1.0;\"/><path d=\"M697.579,76.598 C708.852,92.497 721.45,110.263 731.17,123.971 \" fill=\"none\" style=\"stroke: #A80036; stroke-width: 1.0;\"/><polygon fill=\"none\" points=\"691.71,80.423,685.851,60.06,703.13,72.325,691.71,80.423\" style=\"stroke: #A80036; stroke-width: 1.0;\"/><path d=\"M592.5,192.0236 C592.5,205.5792 592.5,220.0381 592.5,231.6784 \" fill=\"none\" style=\"stroke: #A80036; stroke-width: 1.0;\"/><polygon fill=\"none\" points=\"585.5,192.0005,592.5,172,599.5,192.0004,585.5,192.0005\" style=\"stroke: #A80036; stroke-width: 1.0;\"/><path d=\"M323.018,64.127 C309.82,82.504 292.569,106.525 280.039,123.971 \" fill=\"none\" style=\"stroke: #A80036; stroke-width: 1.0;\"/><polygon fill=\"#A80036\" points=\"325.939,60.06,317.4398,65.0364,323.0221,64.121,323.9375,69.7033,325.939,60.06\" style=\"stroke: #A80036; stroke-width: 1.0;\"/><path d=\"M361.982,64.127 C375.18,82.504 392.431,106.525 404.961,123.971 \" fill=\"none\" style=\"stroke: #A80036; stroke-width: 1.0;\"/><polygon fill=\"#A80036\" points=\"359.061,60.06,361.0625,69.7033,361.9779,64.121,367.5602,65.0364,359.061,60.06\" style=\"stroke: #A80036; stroke-width: 1.0;\"/></g></svg>"
      ],
      "text/plain": [
       "<IPython.core.display.SVG object>"
      ]
     },
     "execution_count": 9,
     "metadata": {},
     "output_type": "execute_result"
    }
   ],
   "source": [
    "%%plantuml\n",
    "@startuml\n",
    "\n",
    "Pizza <|-- ChicagoStylePizza\n",
    "Pizza <|-- NYStylePizza\n",
    "ChicagoStylePizza <|-- \"ChicagoStyleCheesePizza\"\n",
    "\n",
    "PizzaStore <-- NYPizzaStore\n",
    "PizzaStore <-- ChicagoPizzaStore\n",
    "note left of PizzaStore {\n",
    "    \"\"\"Public Pizza orderPizza(String type)\n",
    "        Pizza pizza;\n",
    "        pizza=createPizza(type)\"\"\"\n",
    "}\n",
    "\n",
    "\n",
    "@enduml"
   ]
  },
  {
   "cell_type": "markdown",
   "metadata": {},
   "source": [
    "# 재현성\n",
    "\n",
    "* 소프트웨어를 누가 만들더라도 과학적으로 만들면 재현성이 보장됨.\n",
    "* 예술은 누가 하느냐에 따라 달라짐. 그것은 예술.\n",
    "\n",
    "\n",
    "* Dependency\n",
    "* Association\n",
    "* Aggregation"
   ]
  },
  {
   "cell_type": "code",
   "execution_count": 10,
   "metadata": {
    "collapsed": false
   },
   "outputs": [
    {
     "data": {
      "image/svg+xml": [
       "<svg height=\"110px\" style=\"width:231px;height:110px;\" version=\"1.1\" viewBox=\"0 0 231 110\" width=\"231px\" xmlns=\"http://www.w3.org/2000/svg\" xmlns:xlink=\"http://www.w3.org/1999/xlink\"><defs><filter height=\"300%\" id=\"f1\" width=\"300%\" x=\"-1\" y=\"-1\"><feGaussianBlur result=\"blurOut\" stdDeviation=\"2.0\"/><feColorMatrix in=\"blurOut\" result=\"blurOut2\" type=\"matrix\" values=\"0 0 0 0 0 0 0 0 0 0 0 0 0 0 0 0 0 0 .4 0\"/><feOffset dx=\"4.0\" dy=\"4.0\" in=\"blurOut2\" result=\"blurOut3\"/><feBlend in=\"SourceGraphic\" in2=\"blurOut3\" mode=\"normal\"/></filter></defs><g><line style=\"stroke: #A80036; stroke-width: 1.0; stroke-dasharray: 5.0,5.0;\" x1=\"67\" x2=\"67\" y1=\"38.4883\" y2=\"72.4883\"/><line style=\"stroke: #A80036; stroke-width: 1.0; stroke-dasharray: 5.0,5.0;\" x1=\"181\" x2=\"181\" y1=\"38.4883\" y2=\"72.4883\"/><rect fill=\"#FEFECE\" filter=\"url(#f1)\" height=\"30.4883\" style=\"stroke: #A80036; stroke-width: 1.5;\" width=\"114\" x=\"8\" y=\"3\"/><text fill=\"#000000\" font-family=\"sans-serif\" font-size=\"14\" lengthAdjust=\"spacingAndGlyphs\" textLength=\"100\" x=\"15\" y=\"23.5352\">PizzaTestDrive</text><rect fill=\"#FEFECE\" filter=\"url(#f1)\" height=\"30.4883\" style=\"stroke: #A80036; stroke-width: 1.5;\" width=\"114\" x=\"8\" y=\"71.4883\"/><text fill=\"#000000\" font-family=\"sans-serif\" font-size=\"14\" lengthAdjust=\"spacingAndGlyphs\" textLength=\"100\" x=\"15\" y=\"92.0234\">PizzaTestDrive</text><rect fill=\"#FEFECE\" filter=\"url(#f1)\" height=\"30.4883\" style=\"stroke: #A80036; stroke-width: 1.5;\" width=\"86\" x=\"136\" y=\"3\"/><text fill=\"#000000\" font-family=\"sans-serif\" font-size=\"14\" lengthAdjust=\"spacingAndGlyphs\" textLength=\"72\" x=\"143\" y=\"23.5352\">PizzaStore</text><rect fill=\"#FEFECE\" filter=\"url(#f1)\" height=\"30.4883\" style=\"stroke: #A80036; stroke-width: 1.5;\" width=\"86\" x=\"136\" y=\"71.4883\"/><text fill=\"#000000\" font-family=\"sans-serif\" font-size=\"14\" lengthAdjust=\"spacingAndGlyphs\" textLength=\"72\" x=\"143\" y=\"92.0234\">PizzaStore</text><polygon fill=\"#A80036\" points=\"169,50.4883,179,54.4883,169,58.4883,173,54.4883\" style=\"stroke: #A80036; stroke-width: 1.0;\"/><line style=\"stroke: #A80036; stroke-width: 1.0;\" x1=\"67\" x2=\"175\" y1=\"54.4883\" y2=\"54.4883\"/></g></svg>"
      ],
      "text/plain": [
       "<IPython.core.display.SVG object>"
      ]
     },
     "execution_count": 10,
     "metadata": {},
     "output_type": "execute_result"
    }
   ],
   "source": [
    "%%plantuml\n",
    "@startuml\n",
    "\n",
    "PizzaTestDrive -> PizzaStore\n",
    "\n",
    "@enduml"
   ]
  },
  {
   "cell_type": "markdown",
   "metadata": {},
   "source": [
    "* Sequence Diagram"
   ]
  },
  {
   "cell_type": "code",
   "execution_count": 14,
   "metadata": {
    "collapsed": false
   },
   "outputs": [
    {
     "data": {
      "image/svg+xml": [
       "<svg height=\"169px\" style=\"width:290px;height:169px;\" version=\"1.1\" viewBox=\"0 0 290 169\" width=\"290px\" xmlns=\"http://www.w3.org/2000/svg\" xmlns:xlink=\"http://www.w3.org/1999/xlink\"><defs><filter height=\"300%\" id=\"f1\" width=\"300%\" x=\"-1\" y=\"-1\"><feGaussianBlur result=\"blurOut\" stdDeviation=\"2.0\"/><feColorMatrix in=\"blurOut\" result=\"blurOut2\" type=\"matrix\" values=\"0 0 0 0 0 0 0 0 0 0 0 0 0 0 0 0 0 0 .4 0\"/><feOffset dx=\"4.0\" dy=\"4.0\" in=\"blurOut2\" result=\"blurOut3\"/><feBlend in=\"SourceGraphic\" in2=\"blurOut3\" mode=\"normal\"/></filter></defs><g><line style=\"stroke: #A80036; stroke-width: 1.0; stroke-dasharray: 5.0,5.0;\" x1=\"37\" x2=\"37\" y1=\"38.4883\" y2=\"131.1094\"/><line style=\"stroke: #A80036; stroke-width: 1.0; stroke-dasharray: 5.0,5.0;\" x1=\"121\" x2=\"121\" y1=\"38.4883\" y2=\"131.1094\"/><line style=\"stroke: #A80036; stroke-width: 1.0; stroke-dasharray: 5.0,5.0;\" x1=\"230\" x2=\"230\" y1=\"38.4883\" y2=\"131.1094\"/><rect fill=\"#FEFECE\" filter=\"url(#f1)\" height=\"30.4883\" style=\"stroke: #A80036; stroke-width: 1.5;\" width=\"54\" x=\"8\" y=\"3\"/><text fill=\"#000000\" font-family=\"sans-serif\" font-size=\"14\" lengthAdjust=\"spacingAndGlyphs\" textLength=\"40\" x=\"15\" y=\"23.5352\">Client</text><rect fill=\"#FEFECE\" filter=\"url(#f1)\" height=\"30.4883\" style=\"stroke: #A80036; stroke-width: 1.5;\" width=\"54\" x=\"8\" y=\"130.1094\"/><text fill=\"#000000\" font-family=\"sans-serif\" font-size=\"14\" lengthAdjust=\"spacingAndGlyphs\" textLength=\"40\" x=\"15\" y=\"150.6445\">Client</text><rect fill=\"#FEFECE\" filter=\"url(#f1)\" height=\"30.4883\" style=\"stroke: #A80036; stroke-width: 1.5;\" width=\"86\" x=\"76\" y=\"3\"/><text fill=\"#000000\" font-family=\"sans-serif\" font-size=\"14\" lengthAdjust=\"spacingAndGlyphs\" textLength=\"72\" x=\"83\" y=\"23.5352\">PizzaStore</text><rect fill=\"#FEFECE\" filter=\"url(#f1)\" height=\"30.4883\" style=\"stroke: #A80036; stroke-width: 1.5;\" width=\"86\" x=\"76\" y=\"130.1094\"/><text fill=\"#000000\" font-family=\"sans-serif\" font-size=\"14\" lengthAdjust=\"spacingAndGlyphs\" textLength=\"72\" x=\"83\" y=\"150.6445\">PizzaStore</text><rect fill=\"#FEFECE\" filter=\"url(#f1)\" height=\"30.4883\" style=\"stroke: #A80036; stroke-width: 1.5;\" width=\"105\" x=\"176\" y=\"3\"/><text fill=\"#000000\" font-family=\"sans-serif\" font-size=\"14\" lengthAdjust=\"spacingAndGlyphs\" textLength=\"91\" x=\"183\" y=\"23.5352\">NYPizzaStore</text><rect fill=\"#FEFECE\" filter=\"url(#f1)\" height=\"30.4883\" style=\"stroke: #A80036; stroke-width: 1.5;\" width=\"105\" x=\"176\" y=\"130.1094\"/><text fill=\"#000000\" font-family=\"sans-serif\" font-size=\"14\" lengthAdjust=\"spacingAndGlyphs\" textLength=\"91\" x=\"183\" y=\"150.6445\">NYPizzaStore</text><polygon fill=\"#A80036\" points=\"109,50.4883,119,54.4883,109,58.4883,113,54.4883\" style=\"stroke: #A80036; stroke-width: 1.0;\"/><line style=\"stroke: #A80036; stroke-width: 1.0;\" x1=\"37\" x2=\"115\" y1=\"54.4883\" y2=\"54.4883\"/><polygon fill=\"#A80036\" points=\"218.5,79.4883,228.5,83.4883,218.5,87.4883,222.5,83.4883\" style=\"stroke: #A80036; stroke-width: 1.0;\"/><line style=\"stroke: #A80036; stroke-width: 1.0;\" x1=\"121\" x2=\"224.5\" y1=\"83.4883\" y2=\"83.4883\"/><text fill=\"#000000\" font-family=\"sans-serif\" font-size=\"13\" lengthAdjust=\"spacingAndGlyphs\" textLength=\"33\" x=\"128\" y=\"79.0566\">new()</text><polygon fill=\"#A80036\" points=\"218.5,108.7988,228.5,112.7988,218.5,116.7988,222.5,112.7988\" style=\"stroke: #A80036; stroke-width: 1.0;\"/><line style=\"stroke: #A80036; stroke-width: 1.0;\" x1=\"37\" x2=\"224.5\" y1=\"112.7988\" y2=\"112.7988\"/><text fill=\"#000000\" font-family=\"sans-serif\" font-size=\"13\" lengthAdjust=\"spacingAndGlyphs\" textLength=\"110\" x=\"44\" y=\"108.3672\">orderPizza(String)</text></g></svg>"
      ],
      "text/plain": [
       "<IPython.core.display.SVG object>"
      ]
     },
     "execution_count": 14,
     "metadata": {},
     "output_type": "execute_result"
    }
   ],
   "source": [
    "%%plantuml\n",
    "@startuml\n",
    "\n",
    "Client -> PizzaStore\n",
    "PizzaStore -> NYPizzaStore:new()\n",
    "Client -> NYPizzaStore:orderPizza(String)\n",
    "\n",
    "@enduml"
   ]
  },
  {
   "cell_type": "code",
   "execution_count": null,
   "metadata": {
    "collapsed": true
   },
   "outputs": [],
   "source": []
  }
 ],
 "metadata": {
  "kernelspec": {
   "display_name": "Python 2",
   "language": "python",
   "name": "python2"
  },
  "language_info": {
   "codemirror_mode": {
    "name": "ipython",
    "version": 2
   },
   "file_extension": ".py",
   "mimetype": "text/x-python",
   "name": "python",
   "nbconvert_exporter": "python",
   "pygments_lexer": "ipython2",
   "version": "2.7.10"
  }
 },
 "nbformat": 4,
 "nbformat_minor": 0
}
