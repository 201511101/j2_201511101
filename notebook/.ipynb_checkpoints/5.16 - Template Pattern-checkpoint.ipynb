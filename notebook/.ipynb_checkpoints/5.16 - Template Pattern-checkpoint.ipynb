{
 "cells": [
  {
   "cell_type": "code",
   "execution_count": 2,
   "metadata": {
    "collapsed": true
   },
   "outputs": [],
   "source": [
    "%load_ext plantuml_magics"
   ]
  },
  {
   "cell_type": "code",
   "execution_count": 4,
   "metadata": {
    "collapsed": false
   },
   "outputs": [
    {
     "data": {
      "image/svg+xml": [
       "<svg height=\"194px\" style=\"width:183px;height:194px;\" version=\"1.1\" viewBox=\"0 0 183 194\" width=\"183px\" xmlns=\"http://www.w3.org/2000/svg\" xmlns:xlink=\"http://www.w3.org/1999/xlink\"><defs><filter height=\"300%\" id=\"f1\" width=\"300%\" x=\"-1\" y=\"-1\"><feGaussianBlur result=\"blurOut\" stdDeviation=\"2.0\"/><feColorMatrix in=\"blurOut\" result=\"blurOut2\" type=\"matrix\" values=\"0 0 0 0 0 0 0 0 0 0 0 0 0 0 0 0 0 0 .4 0\"/><feOffset dx=\"4.0\" dy=\"4.0\" in=\"blurOut2\" result=\"blurOut3\"/><feBlend in=\"SourceGraphic\" in2=\"blurOut3\" mode=\"normal\"/></filter></defs><g><text fill=\"#000000\" font-family=\"sans-serif\" font-size=\"18\" lengthAdjust=\"spacingAndGlyphs\" textLength=\"69\" x=\"62\" y=\"17.4023\">&quot;Before&quot;</text><rect fill=\"#FEFECE\" filter=\"url(#f1)\" height=\"48\" style=\"stroke: #A80036; stroke-width: 1.5;\" width=\"69\" x=\"105.5\" y=\"29.1992\"/><ellipse cx=\"120.5\" cy=\"45.1992\" fill=\"#ADD1B2\" rx=\"11\" ry=\"11\" style=\"stroke: #A80036; stroke-width: 1.0;\"/><path d=\"M123.4731,50.8423 Q122.8921,51.1411 122.2529,51.2905 Q121.6138,51.4399 120.9082,51.4399 Q118.4014,51.4399 117.0815,49.7881 Q115.7617,48.1362 115.7617,45.0151 Q115.7617,41.8857 117.0815,40.2339 Q118.4014,38.582 120.9082,38.582 Q121.6138,38.582 122.2612,38.7314 Q122.9087,38.8809 123.4731,39.1797 L123.4731,41.9023 Q122.8423,41.3213 122.2488,41.0515 Q121.6553,40.7817 121.0244,40.7817 Q119.6797,40.7817 118.9949,41.8484 Q118.3101,42.915 118.3101,45.0151 Q118.3101,47.1069 118.9949,48.1736 Q119.6797,49.2402 121.0244,49.2402 Q121.6553,49.2402 122.2488,48.9705 Q122.8423,48.7007 123.4731,48.1196 Z \"/><text fill=\"#000000\" font-family=\"sans-serif\" font-size=\"12\" lengthAdjust=\"spacingAndGlyphs\" textLength=\"37\" x=\"134.5\" y=\"49.7344\">Coffee</text><line style=\"stroke: #A80036; stroke-width: 1.5;\" x1=\"106.5\" x2=\"173.5\" y1=\"61.1992\" y2=\"61.1992\"/><line style=\"stroke: #A80036; stroke-width: 1.5;\" x1=\"106.5\" x2=\"173.5\" y1=\"69.1992\" y2=\"69.1992\"/><rect fill=\"#FEFECE\" filter=\"url(#f1)\" height=\"48\" style=\"stroke: #A80036; stroke-width: 1.5;\" width=\"54\" x=\"11\" y=\"137.1992\"/><ellipse cx=\"26\" cy=\"153.1992\" fill=\"#ADD1B2\" rx=\"11\" ry=\"11\" style=\"stroke: #A80036; stroke-width: 1.0;\"/><path d=\"M28.9731,158.8423 Q28.3921,159.1411 27.7529,159.2905 Q27.1138,159.4399 26.4082,159.4399 Q23.9014,159.4399 22.5815,157.7881 Q21.2617,156.1362 21.2617,153.0151 Q21.2617,149.8857 22.5815,148.2339 Q23.9014,146.582 26.4082,146.582 Q27.1138,146.582 27.7612,146.7314 Q28.4087,146.8809 28.9731,147.1797 L28.9731,149.9023 Q28.3423,149.3213 27.7488,149.0515 Q27.1553,148.7817 26.5244,148.7817 Q25.1797,148.7817 24.4949,149.8484 Q23.8101,150.915 23.8101,153.0151 Q23.8101,155.1069 24.4949,156.1736 Q25.1797,157.2402 26.5244,157.2402 Q27.1553,157.2402 27.7488,156.9705 Q28.3423,156.7007 28.9731,156.1196 Z \"/><text fill=\"#000000\" font-family=\"sans-serif\" font-size=\"12\" lengthAdjust=\"spacingAndGlyphs\" textLength=\"22\" x=\"40\" y=\"157.7344\">Tea</text><line style=\"stroke: #A80036; stroke-width: 1.5;\" x1=\"12\" x2=\"64\" y1=\"169.1992\" y2=\"169.1992\"/><line style=\"stroke: #A80036; stroke-width: 1.5;\" x1=\"12\" x2=\"64\" y1=\"177.1992\" y2=\"177.1992\"/><rect fill=\"#FEFECE\" filter=\"url(#f1)\" height=\"48\" style=\"stroke: #A80036; stroke-width: 1.5;\" width=\"64\" x=\"6\" y=\"29.1992\"/><ellipse cx=\"21\" cy=\"45.1992\" fill=\"#ADD1B2\" rx=\"11\" ry=\"11\" style=\"stroke: #A80036; stroke-width: 1.0;\"/><path d=\"M23.9731,50.8423 Q23.3921,51.1411 22.7529,51.2905 Q22.1138,51.4399 21.4082,51.4399 Q18.9014,51.4399 17.5815,49.7881 Q16.2617,48.1362 16.2617,45.0151 Q16.2617,41.8857 17.5815,40.2339 Q18.9014,38.582 21.4082,38.582 Q22.1138,38.582 22.7612,38.7314 Q23.4087,38.8809 23.9731,39.1797 L23.9731,41.9023 Q23.3423,41.3213 22.7488,41.0515 Q22.1553,40.7817 21.5244,40.7817 Q20.1797,40.7817 19.4949,41.8484 Q18.8101,42.915 18.8101,45.0151 Q18.8101,47.1069 19.4949,48.1736 Q20.1797,49.2402 21.5244,49.2402 Q22.1553,49.2402 22.7488,48.9705 Q23.3423,48.7007 23.9731,48.1196 Z \"/><text fill=\"#000000\" font-family=\"sans-serif\" font-size=\"12\" lengthAdjust=\"spacingAndGlyphs\" textLength=\"32\" x=\"35\" y=\"49.7344\">Client</text><line style=\"stroke: #A80036; stroke-width: 1.5;\" x1=\"7\" x2=\"69\" y1=\"61.1992\" y2=\"61.1992\"/><line style=\"stroke: #A80036; stroke-width: 1.5;\" x1=\"7\" x2=\"69\" y1=\"69.1992\" y2=\"69.1992\"/><path d=\"M70.2734,53.1992 C80.2468,53.1992 90.2202,53.1992 100.1936,53.1992 \" fill=\"none\" style=\"stroke: #A80036; stroke-width: 1.0;\"/><polygon fill=\"#A80036\" points=\"105.4091,53.1992,96.4091,49.1992,100.4091,53.1992,96.4091,57.1992,105.4091,53.1992\" style=\"stroke: #A80036; stroke-width: 1.0;\"/><path d=\"M38,77.1992 C38,93.2022 38,114.6453 38,131.7272 \" fill=\"none\" style=\"stroke: #A80036; stroke-width: 1.0;\"/><polygon fill=\"#A80036\" points=\"38,136.8776,42,127.8776,38,131.8776,34,127.8776,38,136.8776\" style=\"stroke: #A80036; stroke-width: 1.0;\"/></g></svg>"
      ],
      "text/plain": [
       "<IPython.core.display.SVG object>"
      ]
     },
     "execution_count": 4,
     "metadata": {},
     "output_type": "execute_result"
    }
   ],
   "source": [
    "%%plantuml\n",
    "@startuml\n",
    "\n",
    "title \"Before\"\n",
    "\n",
    "class Coffee\n",
    "class Tea\n",
    "Client -right-> Coffee\n",
    "Client -down-> Tea\n",
    "\n",
    "@enduml"
   ]
  },
  {
   "cell_type": "code",
   "execution_count": 5,
   "metadata": {
    "collapsed": false
   },
   "outputs": [
    {
     "data": {
      "image/svg+xml": [
       "<svg height=\"116px\" style=\"width:264px;height:116px;\" version=\"1.1\" viewBox=\"0 0 264 116\" width=\"264px\" xmlns=\"http://www.w3.org/2000/svg\" xmlns:xlink=\"http://www.w3.org/1999/xlink\"><defs><filter height=\"300%\" id=\"f1\" width=\"300%\" x=\"-1\" y=\"-1\"><feGaussianBlur result=\"blurOut\" stdDeviation=\"2.0\"/><feColorMatrix in=\"blurOut\" result=\"blurOut2\" type=\"matrix\" values=\"0 0 0 0 0 0 0 0 0 0 0 0 0 0 0 0 0 0 .4 0\"/><feOffset dx=\"4.0\" dy=\"4.0\" in=\"blurOut2\" result=\"blurOut3\"/><feBlend in=\"SourceGraphic\" in2=\"blurOut3\" mode=\"normal\"/></filter></defs><g><rect fill=\"#FEFECE\" filter=\"url(#f1)\" height=\"99.8203\" style=\"stroke: #A80036; stroke-width: 1.5;\" width=\"117\" x=\"6\" y=\"8\"/><ellipse cx=\"42.6\" cy=\"24\" fill=\"#ADD1B2\" rx=\"11\" ry=\"11\" style=\"stroke: #A80036; stroke-width: 1.0;\"/><path d=\"M45.5731,29.6431 Q44.9921,29.9419 44.3529,30.0913 Q43.7138,30.2407 43.0082,30.2407 Q40.5014,30.2407 39.1815,28.5889 Q37.8617,26.937 37.8617,23.8159 Q37.8617,20.6865 39.1815,19.0347 Q40.5014,17.3828 43.0082,17.3828 Q43.7138,17.3828 44.3612,17.5322 Q45.0087,17.6816 45.5731,17.9805 L45.5731,20.7031 Q44.9423,20.1221 44.3488,19.8523 Q43.7553,19.5825 43.1244,19.5825 Q41.7797,19.5825 41.0949,20.6492 Q40.4101,21.7158 40.4101,23.8159 Q40.4101,25.9077 41.0949,26.9744 Q41.7797,28.041 43.1244,28.041 Q43.7553,28.041 44.3488,27.7712 Q44.9423,27.5015 45.5731,26.9204 Z \"/><text fill=\"#000000\" font-family=\"sans-serif\" font-size=\"12\" lengthAdjust=\"spacingAndGlyphs\" textLength=\"37\" x=\"61.4\" y=\"28.5352\">Coffee</text><line style=\"stroke: #A80036; stroke-width: 1.5;\" x1=\"7\" x2=\"122\" y1=\"40\" y2=\"40\"/><line style=\"stroke: #A80036; stroke-width: 1.5;\" x1=\"7\" x2=\"122\" y1=\"48\" y2=\"48\"/><text fill=\"#000000\" font-family=\"sans-serif\" font-size=\"11\" lengthAdjust=\"spacingAndGlyphs\" textLength=\"85\" x=\"12\" y=\"62.6348\">prepareRecipe()</text><text fill=\"#000000\" font-family=\"sans-serif\" font-size=\"11\" lengthAdjust=\"spacingAndGlyphs\" textLength=\"105\" x=\"12\" y=\"75.5898\">brewCoffeeGrinds()</text><text fill=\"#000000\" font-family=\"sans-serif\" font-size=\"11\" lengthAdjust=\"spacingAndGlyphs\" textLength=\"102\" x=\"12\" y=\"88.5449\">addSugarAndMilk()</text><text fill=\"#000000\" font-family=\"sans-serif\" font-size=\"11\" lengthAdjust=\"spacingAndGlyphs\" textLength=\"66\" x=\"12\" y=\"101.5\">pourInCup()</text><rect fill=\"#FEFECE\" filter=\"url(#f1)\" height=\"99.8203\" style=\"stroke: #A80036; stroke-width: 1.5;\" width=\"97\" x=\"158\" y=\"8\"/><ellipse cx=\"192.35\" cy=\"24\" fill=\"#ADD1B2\" rx=\"11\" ry=\"11\" style=\"stroke: #A80036; stroke-width: 1.0;\"/><path d=\"M195.3231,29.6431 Q194.7421,29.9419 194.1029,30.0913 Q193.4638,30.2407 192.7582,30.2407 Q190.2514,30.2407 188.9315,28.5889 Q187.6117,26.937 187.6117,23.8159 Q187.6117,20.6865 188.9315,19.0347 Q190.2514,17.3828 192.7582,17.3828 Q193.4638,17.3828 194.1112,17.5322 Q194.7587,17.6816 195.3231,17.9805 L195.3231,20.7031 Q194.6923,20.1221 194.0988,19.8523 Q193.5053,19.5825 192.8744,19.5825 Q191.5297,19.5825 190.8449,20.6492 Q190.1601,21.7158 190.1601,23.8159 Q190.1601,25.9077 190.8449,26.9744 Q191.5297,28.041 192.8744,28.041 Q193.5053,28.041 194.0988,27.7712 Q194.6923,27.5015 195.3231,26.9204 Z \"/><text fill=\"#000000\" font-family=\"sans-serif\" font-size=\"12\" lengthAdjust=\"spacingAndGlyphs\" textLength=\"22\" x=\"210.65\" y=\"28.5352\">Tea</text><line style=\"stroke: #A80036; stroke-width: 1.5;\" x1=\"159\" x2=\"254\" y1=\"40\" y2=\"40\"/><line style=\"stroke: #A80036; stroke-width: 1.5;\" x1=\"159\" x2=\"254\" y1=\"48\" y2=\"48\"/><text fill=\"#000000\" font-family=\"sans-serif\" font-size=\"11\" lengthAdjust=\"spacingAndGlyphs\" textLength=\"85\" x=\"164\" y=\"62.6348\">prepareRecipe()</text><text fill=\"#000000\" font-family=\"sans-serif\" font-size=\"11\" lengthAdjust=\"spacingAndGlyphs\" textLength=\"75\" x=\"164\" y=\"75.5898\">steepTeaBag()</text><text fill=\"#000000\" font-family=\"sans-serif\" font-size=\"11\" lengthAdjust=\"spacingAndGlyphs\" textLength=\"64\" x=\"164\" y=\"88.5449\">addLemon()</text><text fill=\"#000000\" font-family=\"sans-serif\" font-size=\"11\" lengthAdjust=\"spacingAndGlyphs\" textLength=\"58\" x=\"164\" y=\"101.5\">boilWater()</text></g></svg>"
      ],
      "text/plain": [
       "<IPython.core.display.SVG object>"
      ]
     },
     "execution_count": 5,
     "metadata": {},
     "output_type": "execute_result"
    }
   ],
   "source": [
    "%%plantuml\n",
    "@startuml\n",
    "\n",
    "class Coffee {\n",
    "    prepareRecipe()\n",
    "    brewCoffeeGrinds()\n",
    "    addSugarAndMilk()\n",
    "    pourInCup()\n",
    "}\n",
    "\n",
    "class Tea {\n",
    "    prepareRecipe()\n",
    "    steepTeaBag()\n",
    "    addLemon()\n",
    "    boilWater()\n",
    "}\n",
    "\n",
    "@enduml"
   ]
  },
  {
   "cell_type": "code",
   "execution_count": 6,
   "metadata": {
    "collapsed": false
   },
   "outputs": [
    {
     "data": {
      "image/svg+xml": [
       "<svg height=\"250px\" style=\"width:264px;height:250px;\" version=\"1.1\" viewBox=\"0 0 264 250\" width=\"264px\" xmlns=\"http://www.w3.org/2000/svg\" xmlns:xlink=\"http://www.w3.org/1999/xlink\"><defs><filter height=\"300%\" id=\"f1\" width=\"300%\" x=\"-1\" y=\"-1\"><feGaussianBlur result=\"blurOut\" stdDeviation=\"2.0\"/><feColorMatrix in=\"blurOut\" result=\"blurOut2\" type=\"matrix\" values=\"0 0 0 0 0 0 0 0 0 0 0 0 0 0 0 0 0 0 .4 0\"/><feOffset dx=\"4.0\" dy=\"4.0\" in=\"blurOut2\" result=\"blurOut3\"/><feBlend in=\"SourceGraphic\" in2=\"blurOut3\" mode=\"normal\"/></filter></defs><g><rect fill=\"#FEFECE\" filter=\"url(#f1)\" height=\"86.8652\" style=\"stroke: #A80036; stroke-width: 1.5;\" width=\"132\" x=\"69.5\" y=\"8\"/><ellipse cx=\"84.5\" cy=\"24\" fill=\"#ADD1B2\" rx=\"11\" ry=\"11\" style=\"stroke: #A80036; stroke-width: 1.0;\"/><path d=\"M87.4731,29.6431 Q86.8921,29.9419 86.2529,30.0913 Q85.6138,30.2407 84.9082,30.2407 Q82.4014,30.2407 81.0815,28.5889 Q79.7617,26.937 79.7617,23.8159 Q79.7617,20.6865 81.0815,19.0347 Q82.4014,17.3828 84.9082,17.3828 Q85.6138,17.3828 86.2612,17.5322 Q86.9087,17.6816 87.4731,17.9805 L87.4731,20.7031 Q86.8423,20.1221 86.2488,19.8523 Q85.6553,19.5825 85.0244,19.5825 Q83.6797,19.5825 82.9949,20.6492 Q82.3101,21.7158 82.3101,23.8159 Q82.3101,25.9077 82.9949,26.9744 Q83.6797,28.041 85.0244,28.041 Q85.6553,28.041 86.2488,27.7712 Q86.8423,27.5015 87.4731,26.9204 Z \"/><text fill=\"#000000\" font-family=\"sans-serif\" font-size=\"12\" lengthAdjust=\"spacingAndGlyphs\" textLength=\"100\" x=\"98.5\" y=\"28.5352\">CaffeineBeverage</text><line style=\"stroke: #A80036; stroke-width: 1.5;\" x1=\"70.5\" x2=\"200.5\" y1=\"40\" y2=\"40\"/><line style=\"stroke: #A80036; stroke-width: 1.5;\" x1=\"70.5\" x2=\"200.5\" y1=\"48\" y2=\"48\"/><text fill=\"#000000\" font-family=\"sans-serif\" font-size=\"11\" lengthAdjust=\"spacingAndGlyphs\" textLength=\"85\" x=\"75.5\" y=\"62.6348\">prepareRecipe()</text><text fill=\"#000000\" font-family=\"sans-serif\" font-size=\"11\" lengthAdjust=\"spacingAndGlyphs\" textLength=\"58\" x=\"75.5\" y=\"75.5898\">boilWater()</text><text fill=\"#000000\" font-family=\"sans-serif\" font-size=\"11\" lengthAdjust=\"spacingAndGlyphs\" textLength=\"66\" x=\"75.5\" y=\"88.5449\">pourInCup()</text><rect fill=\"#FEFECE\" filter=\"url(#f1)\" height=\"86.8652\" style=\"stroke: #A80036; stroke-width: 1.5;\" width=\"117\" x=\"6\" y=\"155\"/><ellipse cx=\"42.6\" cy=\"171\" fill=\"#ADD1B2\" rx=\"11\" ry=\"11\" style=\"stroke: #A80036; stroke-width: 1.0;\"/><path d=\"M45.5731,176.6431 Q44.9921,176.9419 44.3529,177.0913 Q43.7138,177.2407 43.0082,177.2407 Q40.5014,177.2407 39.1815,175.5889 Q37.8617,173.937 37.8617,170.8159 Q37.8617,167.6865 39.1815,166.0347 Q40.5014,164.3828 43.0082,164.3828 Q43.7138,164.3828 44.3612,164.5322 Q45.0087,164.6816 45.5731,164.9805 L45.5731,167.7031 Q44.9423,167.1221 44.3488,166.8523 Q43.7553,166.5825 43.1244,166.5825 Q41.7797,166.5825 41.0949,167.6492 Q40.4101,168.7158 40.4101,170.8159 Q40.4101,172.9077 41.0949,173.9744 Q41.7797,175.041 43.1244,175.041 Q43.7553,175.041 44.3488,174.7712 Q44.9423,174.5015 45.5731,173.9204 Z \"/><text fill=\"#000000\" font-family=\"sans-serif\" font-size=\"12\" lengthAdjust=\"spacingAndGlyphs\" textLength=\"37\" x=\"61.4\" y=\"175.5352\">Coffee</text><line style=\"stroke: #A80036; stroke-width: 1.5;\" x1=\"7\" x2=\"122\" y1=\"187\" y2=\"187\"/><line style=\"stroke: #A80036; stroke-width: 1.5;\" x1=\"7\" x2=\"122\" y1=\"195\" y2=\"195\"/><text fill=\"#000000\" font-family=\"sans-serif\" font-size=\"11\" lengthAdjust=\"spacingAndGlyphs\" textLength=\"85\" x=\"12\" y=\"209.6348\">prepareRecipe()</text><text fill=\"#000000\" font-family=\"sans-serif\" font-size=\"11\" lengthAdjust=\"spacingAndGlyphs\" textLength=\"105\" x=\"12\" y=\"222.5898\">brewCoffeeGrinds()</text><text fill=\"#000000\" font-family=\"sans-serif\" font-size=\"11\" lengthAdjust=\"spacingAndGlyphs\" textLength=\"102\" x=\"12\" y=\"235.5449\">addSugarAndMilk()</text><rect fill=\"#FEFECE\" filter=\"url(#f1)\" height=\"86.8652\" style=\"stroke: #A80036; stroke-width: 1.5;\" width=\"97\" x=\"158\" y=\"155\"/><ellipse cx=\"192.35\" cy=\"171\" fill=\"#ADD1B2\" rx=\"11\" ry=\"11\" style=\"stroke: #A80036; stroke-width: 1.0;\"/><path d=\"M195.3231,176.6431 Q194.7421,176.9419 194.1029,177.0913 Q193.4638,177.2407 192.7582,177.2407 Q190.2514,177.2407 188.9315,175.5889 Q187.6117,173.937 187.6117,170.8159 Q187.6117,167.6865 188.9315,166.0347 Q190.2514,164.3828 192.7582,164.3828 Q193.4638,164.3828 194.1112,164.5322 Q194.7587,164.6816 195.3231,164.9805 L195.3231,167.7031 Q194.6923,167.1221 194.0988,166.8523 Q193.5053,166.5825 192.8744,166.5825 Q191.5297,166.5825 190.8449,167.6492 Q190.1601,168.7158 190.1601,170.8159 Q190.1601,172.9077 190.8449,173.9744 Q191.5297,175.041 192.8744,175.041 Q193.5053,175.041 194.0988,174.7712 Q194.6923,174.5015 195.3231,173.9204 Z \"/><text fill=\"#000000\" font-family=\"sans-serif\" font-size=\"12\" lengthAdjust=\"spacingAndGlyphs\" textLength=\"22\" x=\"210.65\" y=\"175.5352\">Tea</text><line style=\"stroke: #A80036; stroke-width: 1.5;\" x1=\"159\" x2=\"254\" y1=\"187\" y2=\"187\"/><line style=\"stroke: #A80036; stroke-width: 1.5;\" x1=\"159\" x2=\"254\" y1=\"195\" y2=\"195\"/><text fill=\"#000000\" font-family=\"sans-serif\" font-size=\"11\" lengthAdjust=\"spacingAndGlyphs\" textLength=\"85\" x=\"164\" y=\"209.6348\">prepareRecipe()</text><text fill=\"#000000\" font-family=\"sans-serif\" font-size=\"11\" lengthAdjust=\"spacingAndGlyphs\" textLength=\"75\" x=\"164\" y=\"222.5898\">steepTeaBag()</text><text fill=\"#000000\" font-family=\"sans-serif\" font-size=\"11\" lengthAdjust=\"spacingAndGlyphs\" textLength=\"64\" x=\"164\" y=\"235.5449\">addLemon()</text><path d=\"M105.6275,113.507 C98.8641,127.32 91.821,141.704 85.5142,154.5838 \" fill=\"none\" style=\"stroke: #A80036; stroke-width: 1.0;\"/><polygon fill=\"none\" points=\"99.4995,110.104,114.582,95.221,112.073,116.261,99.4995,110.104\" style=\"stroke: #A80036; stroke-width: 1.0;\"/><path d=\"M165.372,113.507 C172.136,127.32 179.179,141.704 185.486,154.5838 \" fill=\"none\" style=\"stroke: #A80036; stroke-width: 1.0;\"/><polygon fill=\"none\" points=\"158.927,116.261,156.418,95.221,171.5,110.104,158.927,116.261\" style=\"stroke: #A80036; stroke-width: 1.0;\"/></g></svg>"
      ],
      "text/plain": [
       "<IPython.core.display.SVG object>"
      ]
     },
     "execution_count": 6,
     "metadata": {},
     "output_type": "execute_result"
    }
   ],
   "source": [
    "%%plantuml\n",
    "@startuml\n",
    "\n",
    "class CaffeineBeverage {\n",
    "    prepareRecipe()\n",
    "    boilWater()\n",
    "    pourInCup()\n",
    "}\n",
    "\n",
    "class Coffee {\n",
    "    prepareRecipe()\n",
    "    brewCoffeeGrinds()\n",
    "    addSugarAndMilk()\n",
    "}\n",
    "\n",
    "class Tea {\n",
    "    prepareRecipe()\n",
    "    steepTeaBag()\n",
    "    addLemon()\n",
    "}\n",
    "\n",
    "CaffeineBeverage <|-- Coffee\n",
    "CaffeineBeverage <|-- Tea\n",
    "\n",
    "@enduml"
   ]
  },
  {
   "cell_type": "code",
   "execution_count": 11,
   "metadata": {
    "collapsed": false
   },
   "outputs": [
    {
     "data": {
      "image/svg+xml": [
       "<svg height=\"225px\" style=\"width:230px;height:225px;\" version=\"1.1\" viewBox=\"0 0 230 225\" width=\"230px\" xmlns=\"http://www.w3.org/2000/svg\" xmlns:xlink=\"http://www.w3.org/1999/xlink\"><defs><filter height=\"300%\" id=\"f1\" width=\"300%\" x=\"-1\" y=\"-1\"><feGaussianBlur result=\"blurOut\" stdDeviation=\"2.0\"/><feColorMatrix in=\"blurOut\" result=\"blurOut2\" type=\"matrix\" values=\"0 0 0 0 0 0 0 0 0 0 0 0 0 0 0 0 0 0 .4 0\"/><feOffset dx=\"4.0\" dy=\"4.0\" in=\"blurOut2\" result=\"blurOut3\"/><feBlend in=\"SourceGraphic\" in2=\"blurOut3\" mode=\"normal\"/></filter></defs><g><rect fill=\"#FEFECE\" filter=\"url(#f1)\" height=\"99.8203\" style=\"stroke: #A80036; stroke-width: 1.5;\" width=\"215\" x=\"6\" y=\"8\"/><ellipse cx=\"70.25\" cy=\"24\" fill=\"#A9DCDF\" rx=\"11\" ry=\"11\" style=\"stroke: #A80036; stroke-width: 1.0;\"/><path d=\"M70.3633,19.3481 L69.2095,24.4199 L71.5254,24.4199 Z M68.8691,17.1069 L71.8657,17.1069 L75.2109,29.5 L72.7622,29.5 L71.9985,26.437 L68.7197,26.437 L67.9727,29.5 L65.5239,29.5 Z \"/><text fill=\"#000000\" font-family=\"sans-serif\" font-size=\"12\" font-style=\"italic\" lengthAdjust=\"spacingAndGlyphs\" textLength=\"78\" x=\"90.75\" y=\"28.5352\">AbstractClass</text><line style=\"stroke: #A80036; stroke-width: 1.5;\" x1=\"7\" x2=\"220\" y1=\"40\" y2=\"40\"/><line style=\"stroke: #A80036; stroke-width: 1.5;\" x1=\"7\" x2=\"220\" y1=\"48\" y2=\"48\"/><ellipse cx=\"17\" cy=\"59.9775\" fill=\"#84BE84\" rx=\"3\" ry=\"3\" style=\"stroke: #038048; stroke-width: 1.0;\"/><text fill=\"#000000\" font-family=\"sans-serif\" font-size=\"11\" lengthAdjust=\"spacingAndGlyphs\" textLength=\"120\" x=\"26\" y=\"62.6348\">templateMethod():void</text><ellipse cx=\"17\" cy=\"72.9326\" fill=\"#84BE84\" rx=\"3\" ry=\"3\" style=\"stroke: #038048; stroke-width: 1.0;\"/><text fill=\"#000000\" font-family=\"sans-serif\" font-size=\"11\" lengthAdjust=\"spacingAndGlyphs\" textLength=\"189\" x=\"26\" y=\"75.5898\">abstract primitiveOperation1():void</text><ellipse cx=\"17\" cy=\"85.8877\" fill=\"#84BE84\" rx=\"3\" ry=\"3\" style=\"stroke: #038048; stroke-width: 1.0;\"/><text fill=\"#000000\" font-family=\"sans-serif\" font-size=\"11\" lengthAdjust=\"spacingAndGlyphs\" textLength=\"161\" x=\"26\" y=\"88.5449\">final concreteOperation():void</text><ellipse cx=\"17\" cy=\"98.8428\" fill=\"#84BE84\" rx=\"3\" ry=\"3\" style=\"stroke: #038048; stroke-width: 1.0;\"/><text fill=\"#000000\" font-family=\"sans-serif\" font-size=\"11\" lengthAdjust=\"spacingAndGlyphs\" textLength=\"61\" x=\"26\" y=\"101.5\">hook():void</text><rect fill=\"#FEFECE\" filter=\"url(#f1)\" height=\"48\" style=\"stroke: #A80036; stroke-width: 1.5;\" width=\"113\" x=\"57\" y=\"168\"/><ellipse cx=\"72\" cy=\"184\" fill=\"#ADD1B2\" rx=\"11\" ry=\"11\" style=\"stroke: #A80036; stroke-width: 1.0;\"/><path d=\"M74.9731,189.6431 Q74.3921,189.9419 73.7529,190.0913 Q73.1138,190.2407 72.4082,190.2407 Q69.9014,190.2407 68.5815,188.5889 Q67.2617,186.937 67.2617,183.8159 Q67.2617,180.6865 68.5815,179.0347 Q69.9014,177.3828 72.4082,177.3828 Q73.1138,177.3828 73.7612,177.5322 Q74.4087,177.6816 74.9731,177.9805 L74.9731,180.7031 Q74.3423,180.1221 73.7488,179.8523 Q73.1553,179.5825 72.5244,179.5825 Q71.1797,179.5825 70.4949,180.6492 Q69.8101,181.7158 69.8101,183.8159 Q69.8101,185.9077 70.4949,186.9744 Q71.1797,188.041 72.5244,188.041 Q73.1553,188.041 73.7488,187.7712 Q74.3423,187.5015 74.9731,186.9204 Z \"/><text fill=\"#000000\" font-family=\"sans-serif\" font-size=\"12\" lengthAdjust=\"spacingAndGlyphs\" textLength=\"81\" x=\"86\" y=\"188.5352\">ConcreteClass</text><line style=\"stroke: #A80036; stroke-width: 1.5;\" x1=\"58\" x2=\"169\" y1=\"200\" y2=\"200\"/><line style=\"stroke: #A80036; stroke-width: 1.5;\" x1=\"58\" x2=\"169\" y1=\"208\" y2=\"208\"/><path d=\"M113.5,128.1607 C113.5,142.418 113.5,156.4781 113.5,167.6717 \" fill=\"none\" style=\"stroke: #A80036; stroke-width: 1.0;\"/><polygon fill=\"none\" points=\"106.5,128.152,113.5,108.152,120.5,128.1519,106.5,128.152\" style=\"stroke: #A80036; stroke-width: 1.0;\"/></g></svg>"
      ],
      "text/plain": [
       "<IPython.core.display.SVG object>"
      ]
     },
     "execution_count": 11,
     "metadata": {},
     "output_type": "execute_result"
    }
   ],
   "source": [
    "%%plantuml\n",
    "@startuml\n",
    "\n",
    "abstract class AbstractClass {\n",
    "    +templateMethod():void\n",
    "    +abstract primitiveOperation1():void\n",
    "    +final concreteOperation():void\n",
    "    +hook():void\n",
    "}\n",
    "\n",
    "class ConcreteClass\n",
    "\n",
    "AbstractClass <|-- ConcreteClass\n",
    "\n",
    "@enduml"
   ]
  },
  {
   "cell_type": "markdown",
   "metadata": {},
   "source": [
    "* final - 수정불가"
   ]
  },
  {
   "cell_type": "code",
   "execution_count": 12,
   "metadata": {
    "collapsed": false
   },
   "outputs": [
    {
     "data": {
      "image/svg+xml": [
       "<svg height=\"263px\" style=\"width:342px;height:263px;\" version=\"1.1\" viewBox=\"0 0 342 263\" width=\"342px\" xmlns=\"http://www.w3.org/2000/svg\" xmlns:xlink=\"http://www.w3.org/1999/xlink\"><defs><filter height=\"300%\" id=\"f1\" width=\"300%\" x=\"-1\" y=\"-1\"><feGaussianBlur result=\"blurOut\" stdDeviation=\"2.0\"/><feColorMatrix in=\"blurOut\" result=\"blurOut2\" type=\"matrix\" values=\"0 0 0 0 0 0 0 0 0 0 0 0 0 0 0 0 0 0 .4 0\"/><feOffset dx=\"4.0\" dy=\"4.0\" in=\"blurOut2\" result=\"blurOut3\"/><feBlend in=\"SourceGraphic\" in2=\"blurOut3\" mode=\"normal\"/></filter></defs><g><rect fill=\"#FEFECE\" filter=\"url(#f1)\" height=\"112.7754\" style=\"stroke: #A80036; stroke-width: 1.5;\" width=\"192\" x=\"72.5\" y=\"8\"/><ellipse cx=\"114.5\" cy=\"24\" fill=\"#ADD1B2\" rx=\"11\" ry=\"11\" style=\"stroke: #A80036; stroke-width: 1.0;\"/><path d=\"M117.4731,29.6431 Q116.8921,29.9419 116.2529,30.0913 Q115.6138,30.2407 114.9082,30.2407 Q112.4014,30.2407 111.0815,28.5889 Q109.7617,26.937 109.7617,23.8159 Q109.7617,20.6865 111.0815,19.0347 Q112.4014,17.3828 114.9082,17.3828 Q115.6138,17.3828 116.2612,17.5322 Q116.9087,17.6816 117.4731,17.9805 L117.4731,20.7031 Q116.8423,20.1221 116.2488,19.8523 Q115.6553,19.5825 115.0244,19.5825 Q113.6797,19.5825 112.9949,20.6492 Q112.3101,21.7158 112.3101,23.8159 Q112.3101,25.9077 112.9949,26.9744 Q113.6797,28.041 115.0244,28.041 Q115.6553,28.041 116.2488,27.7712 Q116.8423,27.5015 117.4731,26.9204 Z \"/><text fill=\"#000000\" font-family=\"sans-serif\" font-size=\"12\" lengthAdjust=\"spacingAndGlyphs\" textLength=\"100\" x=\"134.5\" y=\"28.5352\">CaffeineBeverage</text><line style=\"stroke: #A80036; stroke-width: 1.5;\" x1=\"73.5\" x2=\"263.5\" y1=\"40\" y2=\"40\"/><line style=\"stroke: #A80036; stroke-width: 1.5;\" x1=\"73.5\" x2=\"263.5\" y1=\"48\" y2=\"48\"/><ellipse cx=\"83.5\" cy=\"59.9775\" fill=\"#84BE84\" rx=\"3\" ry=\"3\" style=\"stroke: #038048; stroke-width: 1.0;\"/><text fill=\"#000000\" font-family=\"sans-serif\" font-size=\"11\" lengthAdjust=\"spacingAndGlyphs\" textLength=\"137\" x=\"92.5\" y=\"62.6348\">final prepareRecipe():void</text><ellipse cx=\"83.5\" cy=\"72.9326\" fill=\"#84BE84\" rx=\"3\" ry=\"3\" style=\"stroke: #038048; stroke-width: 1.0;\"/><text fill=\"#000000\" font-family=\"sans-serif\" font-size=\"11\" lengthAdjust=\"spacingAndGlyphs\" textLength=\"107\" x=\"92.5\" y=\"75.5898\">abstract brew():void</text><ellipse cx=\"83.5\" cy=\"85.8877\" fill=\"#84BE84\" rx=\"3\" ry=\"3\" style=\"stroke: #038048; stroke-width: 1.0;\"/><text fill=\"#000000\" font-family=\"sans-serif\" font-size=\"11\" lengthAdjust=\"spacingAndGlyphs\" textLength=\"166\" x=\"92.5\" y=\"88.5449\">abstract addCondiments():void</text><ellipse cx=\"83.5\" cy=\"98.8428\" fill=\"#84BE84\" rx=\"3\" ry=\"3\" style=\"stroke: #038048; stroke-width: 1.0;\"/><text fill=\"#000000\" font-family=\"sans-serif\" font-size=\"11\" lengthAdjust=\"spacingAndGlyphs\" textLength=\"84\" x=\"92.5\" y=\"101.5\">boilWater():void</text><ellipse cx=\"83.5\" cy=\"111.7979\" fill=\"#84BE84\" rx=\"3\" ry=\"3\" style=\"stroke: #038048; stroke-width: 1.0;\"/><text fill=\"#000000\" font-family=\"sans-serif\" font-size=\"11\" lengthAdjust=\"spacingAndGlyphs\" textLength=\"92\" x=\"92.5\" y=\"114.4551\">pourInCup():void</text><rect fill=\"#FEFECE\" filter=\"url(#f1)\" height=\"73.9102\" style=\"stroke: #A80036; stroke-width: 1.5;\" width=\"145\" x=\"6\" y=\"181\"/><ellipse cx=\"55.75\" cy=\"197\" fill=\"#ADD1B2\" rx=\"11\" ry=\"11\" style=\"stroke: #A80036; stroke-width: 1.0;\"/><path d=\"M58.7231,202.6431 Q58.1421,202.9419 57.5029,203.0913 Q56.8638,203.2407 56.1582,203.2407 Q53.6514,203.2407 52.3315,201.5889 Q51.0117,199.937 51.0117,196.8159 Q51.0117,193.6865 52.3315,192.0347 Q53.6514,190.3828 56.1582,190.3828 Q56.8638,190.3828 57.5112,190.5322 Q58.1587,190.6816 58.7231,190.9805 L58.7231,193.7031 Q58.0923,193.1221 57.4988,192.8523 Q56.9053,192.5825 56.2744,192.5825 Q54.9297,192.5825 54.2449,193.6492 Q53.5601,194.7158 53.5601,196.8159 Q53.5601,198.9077 54.2449,199.9744 Q54.9297,201.041 56.2744,201.041 Q56.9053,201.041 57.4988,200.7712 Q58.0923,200.5015 58.7231,199.9204 Z \"/><text fill=\"#000000\" font-family=\"sans-serif\" font-size=\"12\" lengthAdjust=\"spacingAndGlyphs\" textLength=\"37\" x=\"76.25\" y=\"201.5352\">Coffee</text><line style=\"stroke: #A80036; stroke-width: 1.5;\" x1=\"7\" x2=\"150\" y1=\"213\" y2=\"213\"/><line style=\"stroke: #A80036; stroke-width: 1.5;\" x1=\"7\" x2=\"150\" y1=\"221\" y2=\"221\"/><ellipse cx=\"17\" cy=\"232.9775\" fill=\"#84BE84\" rx=\"3\" ry=\"3\" style=\"stroke: #038048; stroke-width: 1.0;\"/><text fill=\"#000000\" font-family=\"sans-serif\" font-size=\"11\" lengthAdjust=\"spacingAndGlyphs\" textLength=\"60\" x=\"26\" y=\"235.6348\">brew():void</text><ellipse cx=\"17\" cy=\"245.9326\" fill=\"#84BE84\" rx=\"3\" ry=\"3\" style=\"stroke: #038048; stroke-width: 1.0;\"/><text fill=\"#000000\" font-family=\"sans-serif\" font-size=\"11\" lengthAdjust=\"spacingAndGlyphs\" textLength=\"119\" x=\"26\" y=\"248.5898\">addCondiments():void</text><rect fill=\"#FEFECE\" filter=\"url(#f1)\" height=\"73.9102\" style=\"stroke: #A80036; stroke-width: 1.5;\" width=\"147\" x=\"186\" y=\"181\"/><ellipse cx=\"244.25\" cy=\"197\" fill=\"#ADD1B2\" rx=\"11\" ry=\"11\" style=\"stroke: #A80036; stroke-width: 1.0;\"/><path d=\"M247.2231,202.6431 Q246.6421,202.9419 246.0029,203.0913 Q245.3638,203.2407 244.6582,203.2407 Q242.1514,203.2407 240.8315,201.5889 Q239.5117,199.937 239.5117,196.8159 Q239.5117,193.6865 240.8315,192.0347 Q242.1514,190.3828 244.6582,190.3828 Q245.3638,190.3828 246.0112,190.5322 Q246.6587,190.6816 247.2231,190.9805 L247.2231,193.7031 Q246.5923,193.1221 245.9988,192.8523 Q245.4053,192.5825 244.7744,192.5825 Q243.4297,192.5825 242.7449,193.6492 Q242.0601,194.7158 242.0601,196.8159 Q242.0601,198.9077 242.7449,199.9744 Q243.4297,201.041 244.7744,201.041 Q245.4053,201.041 245.9988,200.7712 Q246.5923,200.5015 247.2231,199.9204 Z \"/><text fill=\"#000000\" font-family=\"sans-serif\" font-size=\"12\" lengthAdjust=\"spacingAndGlyphs\" textLength=\"22\" x=\"264.75\" y=\"201.5352\">Tea</text><line style=\"stroke: #A80036; stroke-width: 1.5;\" x1=\"187\" x2=\"332\" y1=\"213\" y2=\"213\"/><line style=\"stroke: #A80036; stroke-width: 1.5;\" x1=\"187\" x2=\"332\" y1=\"221\" y2=\"221\"/><ellipse cx=\"197\" cy=\"232.9775\" fill=\"#84BE84\" rx=\"3\" ry=\"3\" style=\"stroke: #038048; stroke-width: 1.0;\"/><text fill=\"#000000\" font-family=\"sans-serif\" font-size=\"11\" lengthAdjust=\"spacingAndGlyphs\" textLength=\"60\" x=\"206\" y=\"235.6348\">brew():void</text><ellipse cx=\"197\" cy=\"245.9326\" fill=\"#84BE84\" rx=\"3\" ry=\"3\" style=\"stroke: #038048; stroke-width: 1.0;\"/><text fill=\"#000000\" font-family=\"sans-serif\" font-size=\"11\" lengthAdjust=\"spacingAndGlyphs\" textLength=\"121\" x=\"206\" y=\"248.5898\">addCOndiments():void</text><path d=\"M125.019,138.693 C116.325,153.327 107.556,168.0892 100.0108,180.7902 \" fill=\"none\" style=\"stroke: #A80036; stroke-width: 1.0;\"/><polygon fill=\"none\" points=\"119.265,134.672,135.498,121.053,131.302,141.823,119.265,134.672\" style=\"stroke: #A80036; stroke-width: 1.0;\"/><path d=\"M212.174,138.211 C221.059,153.003 230.037,167.9497 237.75,180.7902 \" fill=\"none\" style=\"stroke: #A80036; stroke-width: 1.0;\"/><polygon fill=\"none\" points=\"206.166,141.802,201.868,121.053,218.167,134.593,206.166,141.802\" style=\"stroke: #A80036; stroke-width: 1.0;\"/></g></svg>"
      ],
      "text/plain": [
       "<IPython.core.display.SVG object>"
      ]
     },
     "execution_count": 12,
     "metadata": {},
     "output_type": "execute_result"
    }
   ],
   "source": [
    "%%plantuml\n",
    "@startuml\n",
    "\n",
    "class CaffeineBeverage {\n",
    "    +final prepareRecipe():void\n",
    "    +abstract brew():void\n",
    "    +abstract addCondiments():void\n",
    "    +boilWater():void\n",
    "    +pourInCup():void\n",
    "}\n",
    "\n",
    "class Coffee {\n",
    "    +brew():void\n",
    "    +addCondiments():void\n",
    "}\n",
    "\n",
    "class Tea {\n",
    "    +brew():void\n",
    "    +addCOndiments():void\n",
    "}\n",
    "\n",
    "CaffeineBeverage <|-- Coffee\n",
    "CaffeineBeverage <|-- Tea\n",
    "\n",
    "@enduml"
   ]
  },
  {
   "cell_type": "code",
   "execution_count": 14,
   "metadata": {
    "collapsed": false
   },
   "outputs": [
    {
     "data": {
      "image/svg+xml": [
       "<svg height=\"289px\" style=\"width:506px;height:289px;\" version=\"1.1\" viewBox=\"0 0 506 289\" width=\"506px\" xmlns=\"http://www.w3.org/2000/svg\" xmlns:xlink=\"http://www.w3.org/1999/xlink\"><defs><filter height=\"300%\" id=\"f1\" width=\"300%\" x=\"-1\" y=\"-1\"><feGaussianBlur result=\"blurOut\" stdDeviation=\"2.0\"/><feColorMatrix in=\"blurOut\" result=\"blurOut2\" type=\"matrix\" values=\"0 0 0 0 0 0 0 0 0 0 0 0 0 0 0 0 0 0 .4 0\"/><feOffset dx=\"4.0\" dy=\"4.0\" in=\"blurOut2\" result=\"blurOut3\"/><feBlend in=\"SourceGraphic\" in2=\"blurOut3\" mode=\"normal\"/></filter></defs><g><rect fill=\"#FEFECE\" filter=\"url(#f1)\" height=\"125.7305\" style=\"stroke: #A80036; stroke-width: 1.5;\" width=\"228\" x=\"137\" y=\"8\"/><ellipse cx=\"170.9\" cy=\"24\" fill=\"#ADD1B2\" rx=\"11\" ry=\"11\" style=\"stroke: #A80036; stroke-width: 1.0;\"/><path d=\"M173.8731,29.6431 Q173.2921,29.9419 172.6529,30.0913 Q172.0138,30.2407 171.3082,30.2407 Q168.8014,30.2407 167.4815,28.5889 Q166.1617,26.937 166.1617,23.8159 Q166.1617,20.6865 167.4815,19.0347 Q168.8014,17.3828 171.3082,17.3828 Q172.0138,17.3828 172.6612,17.5322 Q173.3087,17.6816 173.8731,17.9805 L173.8731,20.7031 Q173.2423,20.1221 172.6488,19.8523 Q172.0553,19.5825 171.4244,19.5825 Q170.0797,19.5825 169.3949,20.6492 Q168.7101,21.7158 168.7101,23.8159 Q168.7101,25.9077 169.3949,26.9744 Q170.0797,28.041 171.4244,28.041 Q172.0553,28.041 172.6488,27.7712 Q173.2423,27.5015 173.8731,26.9204 Z \"/><text fill=\"#000000\" font-family=\"sans-serif\" font-size=\"12\" lengthAdjust=\"spacingAndGlyphs\" textLength=\"154\" x=\"189.1\" y=\"28.5352\">CaffeineBeverageWithHook</text><line style=\"stroke: #A80036; stroke-width: 1.5;\" x1=\"138\" x2=\"364\" y1=\"40\" y2=\"40\"/><line style=\"stroke: #A80036; stroke-width: 1.5;\" x1=\"138\" x2=\"364\" y1=\"48\" y2=\"48\"/><ellipse cx=\"148\" cy=\"59.9775\" fill=\"#84BE84\" rx=\"3\" ry=\"3\" style=\"stroke: #038048; stroke-width: 1.0;\"/><text fill=\"#000000\" font-family=\"sans-serif\" font-size=\"11\" lengthAdjust=\"spacingAndGlyphs\" textLength=\"137\" x=\"157\" y=\"62.6348\">final prepareRecipe():void</text><ellipse cx=\"148\" cy=\"72.9326\" fill=\"#84BE84\" rx=\"3\" ry=\"3\" style=\"stroke: #038048; stroke-width: 1.0;\"/><text fill=\"#000000\" font-family=\"sans-serif\" font-size=\"11\" lengthAdjust=\"spacingAndGlyphs\" textLength=\"107\" x=\"157\" y=\"75.5898\">abstract brew():void</text><ellipse cx=\"148\" cy=\"85.8877\" fill=\"#84BE84\" rx=\"3\" ry=\"3\" style=\"stroke: #038048; stroke-width: 1.0;\"/><text fill=\"#000000\" font-family=\"sans-serif\" font-size=\"11\" lengthAdjust=\"spacingAndGlyphs\" textLength=\"166\" x=\"157\" y=\"88.5449\">abstract addCondiments():void</text><ellipse cx=\"148\" cy=\"98.8428\" fill=\"#84BE84\" rx=\"3\" ry=\"3\" style=\"stroke: #038048; stroke-width: 1.0;\"/><text fill=\"#000000\" font-family=\"sans-serif\" font-size=\"11\" lengthAdjust=\"spacingAndGlyphs\" textLength=\"84\" x=\"157\" y=\"101.5\">boilWater():void</text><ellipse cx=\"148\" cy=\"111.7979\" fill=\"#84BE84\" rx=\"3\" ry=\"3\" style=\"stroke: #038048; stroke-width: 1.0;\"/><text fill=\"#000000\" font-family=\"sans-serif\" font-size=\"11\" lengthAdjust=\"spacingAndGlyphs\" textLength=\"92\" x=\"157\" y=\"114.4551\">pourInCup():void</text><ellipse cx=\"148\" cy=\"124.7529\" fill=\"#84BE84\" rx=\"3\" ry=\"3\" style=\"stroke: #038048; stroke-width: 1.0;\"/><text fill=\"#000000\" font-family=\"sans-serif\" font-size=\"11\" lengthAdjust=\"spacingAndGlyphs\" textLength=\"202\" x=\"157\" y=\"127.4102\">customerWantsCondiments():boolean</text><rect fill=\"#FEFECE\" filter=\"url(#f1)\" height=\"86.8652\" style=\"stroke: #A80036; stroke-width: 1.5;\" width=\"228\" x=\"6\" y=\"194\"/><ellipse cx=\"70.25\" cy=\"210\" fill=\"#ADD1B2\" rx=\"11\" ry=\"11\" style=\"stroke: #A80036; stroke-width: 1.0;\"/><path d=\"M73.2231,215.6431 Q72.6421,215.9419 72.0029,216.0913 Q71.3638,216.2407 70.6582,216.2407 Q68.1514,216.2407 66.8315,214.5889 Q65.5117,212.937 65.5117,209.8159 Q65.5117,206.6865 66.8315,205.0347 Q68.1514,203.3828 70.6582,203.3828 Q71.3638,203.3828 72.0112,203.5322 Q72.6587,203.6816 73.2231,203.9805 L73.2231,206.7031 Q72.5923,206.1221 71.9988,205.8523 Q71.4053,205.5825 70.7744,205.5825 Q69.4297,205.5825 68.7449,206.6492 Q68.0601,207.7158 68.0601,209.8159 Q68.0601,211.9077 68.7449,212.9744 Q69.4297,214.041 70.7744,214.041 Q71.4053,214.041 71.9988,213.7712 Q72.5923,213.5015 73.2231,212.9204 Z \"/><text fill=\"#000000\" font-family=\"sans-serif\" font-size=\"12\" lengthAdjust=\"spacingAndGlyphs\" textLength=\"91\" x=\"90.75\" y=\"214.5352\">CoffeeWithHook</text><line style=\"stroke: #A80036; stroke-width: 1.5;\" x1=\"7\" x2=\"233\" y1=\"226\" y2=\"226\"/><line style=\"stroke: #A80036; stroke-width: 1.5;\" x1=\"7\" x2=\"233\" y1=\"234\" y2=\"234\"/><ellipse cx=\"17\" cy=\"245.9775\" fill=\"#84BE84\" rx=\"3\" ry=\"3\" style=\"stroke: #038048; stroke-width: 1.0;\"/><text fill=\"#000000\" font-family=\"sans-serif\" font-size=\"11\" lengthAdjust=\"spacingAndGlyphs\" textLength=\"60\" x=\"26\" y=\"248.6348\">brew():void</text><ellipse cx=\"17\" cy=\"258.9326\" fill=\"#84BE84\" rx=\"3\" ry=\"3\" style=\"stroke: #038048; stroke-width: 1.0;\"/><text fill=\"#000000\" font-family=\"sans-serif\" font-size=\"11\" lengthAdjust=\"spacingAndGlyphs\" textLength=\"119\" x=\"26\" y=\"261.5898\">addCondiments():void</text><ellipse cx=\"17\" cy=\"271.8877\" fill=\"#84BE84\" rx=\"3\" ry=\"3\" style=\"stroke: #038048; stroke-width: 1.0;\"/><text fill=\"#000000\" font-family=\"sans-serif\" font-size=\"11\" lengthAdjust=\"spacingAndGlyphs\" textLength=\"202\" x=\"26\" y=\"274.5449\">customerWantsCondiments():boolean</text><rect fill=\"#FEFECE\" filter=\"url(#f1)\" height=\"86.8652\" style=\"stroke: #A80036; stroke-width: 1.5;\" width=\"228\" x=\"269\" y=\"194\"/><ellipse cx=\"340.75\" cy=\"210\" fill=\"#ADD1B2\" rx=\"11\" ry=\"11\" style=\"stroke: #A80036; stroke-width: 1.0;\"/><path d=\"M343.7231,215.6431 Q343.1421,215.9419 342.5029,216.0913 Q341.8638,216.2407 341.1582,216.2407 Q338.6514,216.2407 337.3315,214.5889 Q336.0117,212.937 336.0117,209.8159 Q336.0117,206.6865 337.3315,205.0347 Q338.6514,203.3828 341.1582,203.3828 Q341.8638,203.3828 342.5112,203.5322 Q343.1587,203.6816 343.7231,203.9805 L343.7231,206.7031 Q343.0923,206.1221 342.4988,205.8523 Q341.9053,205.5825 341.2744,205.5825 Q339.9297,205.5825 339.2449,206.6492 Q338.5601,207.7158 338.5601,209.8159 Q338.5601,211.9077 339.2449,212.9744 Q339.9297,214.041 341.2744,214.041 Q341.9053,214.041 342.4988,213.7712 Q343.0923,213.5015 343.7231,212.9204 Z \"/><text fill=\"#000000\" font-family=\"sans-serif\" font-size=\"12\" lengthAdjust=\"spacingAndGlyphs\" textLength=\"76\" x=\"361.25\" y=\"214.5352\">TeaWithHook</text><line style=\"stroke: #A80036; stroke-width: 1.5;\" x1=\"270\" x2=\"496\" y1=\"226\" y2=\"226\"/><line style=\"stroke: #A80036; stroke-width: 1.5;\" x1=\"270\" x2=\"496\" y1=\"234\" y2=\"234\"/><ellipse cx=\"280\" cy=\"245.9775\" fill=\"#84BE84\" rx=\"3\" ry=\"3\" style=\"stroke: #038048; stroke-width: 1.0;\"/><text fill=\"#000000\" font-family=\"sans-serif\" font-size=\"11\" lengthAdjust=\"spacingAndGlyphs\" textLength=\"60\" x=\"289\" y=\"248.6348\">brew():void</text><ellipse cx=\"280\" cy=\"258.9326\" fill=\"#84BE84\" rx=\"3\" ry=\"3\" style=\"stroke: #038048; stroke-width: 1.0;\"/><text fill=\"#000000\" font-family=\"sans-serif\" font-size=\"11\" lengthAdjust=\"spacingAndGlyphs\" textLength=\"119\" x=\"289\" y=\"261.5898\">addCondiments():void</text><ellipse cx=\"280\" cy=\"271.8877\" fill=\"#84BE84\" rx=\"3\" ry=\"3\" style=\"stroke: #038048; stroke-width: 1.0;\"/><text fill=\"#000000\" font-family=\"sans-serif\" font-size=\"11\" lengthAdjust=\"spacingAndGlyphs\" textLength=\"202\" x=\"289\" y=\"274.5449\">customerWantsCondiments():boolean</text><path d=\"M188.683,150.253 C176.775,165.206 164.727,180.336 154.117,193.6587 \" fill=\"none\" style=\"stroke: #A80036; stroke-width: 1.0;\"/><polygon fill=\"none\" points=\"183.54,145.475,201.475,134.19,194.491,154.196,183.54,145.475\" style=\"stroke: #A80036; stroke-width: 1.0;\"/><path d=\"M313.793,150.253 C325.791,165.206 337.932,180.336 348.623,193.6587 \" fill=\"none\" style=\"stroke: #A80036; stroke-width: 1.0;\"/><polygon fill=\"none\" points=\"307.961,154.17,300.904,134.19,318.88,145.408,307.961,154.17\" style=\"stroke: #A80036; stroke-width: 1.0;\"/></g></svg>"
      ],
      "text/plain": [
       "<IPython.core.display.SVG object>"
      ]
     },
     "execution_count": 14,
     "metadata": {},
     "output_type": "execute_result"
    }
   ],
   "source": [
    "%%plantuml\n",
    "@startuml\n",
    "\n",
    "class CaffeineBeverageWithHook {\n",
    "    +final prepareRecipe():void\n",
    "    +abstract brew():void\n",
    "    +abstract addCondiments():void\n",
    "    +boilWater():void\n",
    "    +pourInCup():void\n",
    "    +customerWantsCondiments():boolean\n",
    "}\n",
    "\n",
    "class CoffeeWithHook {\n",
    "    +brew():void\n",
    "    +addCondiments():void\n",
    "    +customerWantsCondiments():boolean\n",
    "}\n",
    "\n",
    "class TeaWithHook {\n",
    "    +brew():void\n",
    "    +addCondiments():void\n",
    "    +customerWantsCondiments():boolean\n",
    "}\n",
    "\n",
    "CaffeineBeverageWithHook <|-- CoffeeWithHook\n",
    "CaffeineBeverageWithHook <|-- TeaWithHook\n",
    "\n",
    "@enduml"
   ]
  },
  {
   "cell_type": "code",
   "execution_count": null,
   "metadata": {
    "collapsed": true
   },
   "outputs": [],
   "source": []
  }
 ],
 "metadata": {
  "kernelspec": {
   "display_name": "Python 2",
   "language": "python",
   "name": "python2"
  },
  "language_info": {
   "codemirror_mode": {
    "name": "ipython",
    "version": 2
   },
   "file_extension": ".py",
   "mimetype": "text/x-python",
   "name": "python",
   "nbconvert_exporter": "python",
   "pygments_lexer": "ipython2",
   "version": "2.7.10"
  }
 },
 "nbformat": 4,
 "nbformat_minor": 0
}
