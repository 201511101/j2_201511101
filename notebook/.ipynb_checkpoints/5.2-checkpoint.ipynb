{
 "cells": [
  {
   "cell_type": "code",
   "execution_count": 1,
   "metadata": {
    "collapsed": true
   },
   "outputs": [],
   "source": [
    "%load_ext plantuml_magics"
   ]
  },
  {
   "cell_type": "code",
   "execution_count": 3,
   "metadata": {
    "collapsed": false
   },
   "outputs": [
    {
     "data": {
      "image/svg+xml": [
       "<svg height=\"128px\" style=\"width:407px;height:128px;\" version=\"1.1\" viewBox=\"0 0 407 128\" width=\"407px\" xmlns=\"http://www.w3.org/2000/svg\" xmlns:xlink=\"http://www.w3.org/1999/xlink\"><defs><filter height=\"300%\" id=\"f1\" width=\"300%\" x=\"-1\" y=\"-1\"><feGaussianBlur result=\"blurOut\" stdDeviation=\"2.0\"/><feColorMatrix in=\"blurOut\" result=\"blurOut2\" type=\"matrix\" values=\"0 0 0 0 0 0 0 0 0 0 0 0 0 0 0 0 0 0 .4 0\"/><feOffset dx=\"4.0\" dy=\"4.0\" in=\"blurOut2\" result=\"blurOut3\"/><feBlend in=\"SourceGraphic\" in2=\"blurOut3\" mode=\"normal\"/></filter></defs><g><rect fill=\"#FEFECE\" filter=\"url(#f1)\" height=\"48\" style=\"stroke: #A80036; stroke-width: 1.5;\" width=\"64\" x=\"6\" y=\"71\"/><ellipse cx=\"21\" cy=\"87\" fill=\"#ADD1B2\" rx=\"11\" ry=\"11\" style=\"stroke: #A80036; stroke-width: 1.0;\"/><path d=\"M23.9731,92.6431 Q23.3921,92.9419 22.7529,93.0913 Q22.1138,93.2407 21.4082,93.2407 Q18.9014,93.2407 17.5815,91.5889 Q16.2617,89.937 16.2617,86.8159 Q16.2617,83.6865 17.5815,82.0347 Q18.9014,80.3828 21.4082,80.3828 Q22.1138,80.3828 22.7612,80.5322 Q23.4087,80.6816 23.9731,80.9805 L23.9731,83.7031 Q23.3423,83.1221 22.7488,82.8523 Q22.1553,82.5825 21.5244,82.5825 Q20.1797,82.5825 19.4949,83.6492 Q18.8101,84.7158 18.8101,86.8159 Q18.8101,88.9077 19.4949,89.9744 Q20.1797,91.041 21.5244,91.041 Q22.1553,91.041 22.7488,90.7712 Q23.3423,90.5015 23.9731,89.9204 Z \"/><text fill=\"#000000\" font-family=\"sans-serif\" font-size=\"12\" lengthAdjust=\"spacingAndGlyphs\" textLength=\"32\" x=\"35\" y=\"91.5352\">Client</text><line style=\"stroke: #A80036; stroke-width: 1.5;\" x1=\"7\" x2=\"69\" y1=\"103\" y2=\"103\"/><line style=\"stroke: #A80036; stroke-width: 1.5;\" x1=\"7\" x2=\"69\" y1=\"111\" y2=\"111\"/><rect fill=\"#FEFECE\" filter=\"url(#f1)\" height=\"48\" style=\"stroke: #A80036; stroke-width: 1.5;\" width=\"59\" x=\"255.5\" y=\"71\"/><ellipse cx=\"270.5\" cy=\"87\" fill=\"#ADD1B2\" rx=\"11\" ry=\"11\" style=\"stroke: #A80036; stroke-width: 1.0;\"/><path d=\"M273.4731,92.6431 Q272.8921,92.9419 272.2529,93.0913 Q271.6138,93.2407 270.9082,93.2407 Q268.4014,93.2407 267.0815,91.5889 Q265.7617,89.937 265.7617,86.8159 Q265.7617,83.6865 267.0815,82.0347 Q268.4014,80.3828 270.9082,80.3828 Q271.6138,80.3828 272.2612,80.5322 Q272.9087,80.6816 273.4731,80.9805 L273.4731,83.7031 Q272.8423,83.1221 272.2488,82.8523 Q271.6553,82.5825 271.0244,82.5825 Q269.6797,82.5825 268.9949,83.6492 Q268.3101,84.7158 268.3101,86.8159 Q268.3101,88.9077 268.9949,89.9744 Q269.6797,91.041 271.0244,91.041 Q271.6553,91.041 272.2488,90.7712 Q272.8423,90.5015 273.4731,89.9204 Z \"/><text fill=\"#000000\" font-family=\"sans-serif\" font-size=\"12\" lengthAdjust=\"spacingAndGlyphs\" textLength=\"27\" x=\"284.5\" y=\"91.5352\">Light</text><line style=\"stroke: #A80036; stroke-width: 1.5;\" x1=\"256.5\" x2=\"313.5\" y1=\"103\" y2=\"103\"/><line style=\"stroke: #A80036; stroke-width: 1.5;\" x1=\"256.5\" x2=\"313.5\" y1=\"111\" y2=\"111\"/><rect fill=\"#FEFECE\" filter=\"url(#f1)\" height=\"48\" style=\"stroke: #A80036; stroke-width: 1.5;\" width=\"74\" x=\"146\" y=\"71\"/><ellipse cx=\"161\" cy=\"87\" fill=\"#ADD1B2\" rx=\"11\" ry=\"11\" style=\"stroke: #A80036; stroke-width: 1.0;\"/><path d=\"M163.9731,92.6431 Q163.3921,92.9419 162.7529,93.0913 Q162.1138,93.2407 161.4082,93.2407 Q158.9014,93.2407 157.5815,91.5889 Q156.2617,89.937 156.2617,86.8159 Q156.2617,83.6865 157.5815,82.0347 Q158.9014,80.3828 161.4082,80.3828 Q162.1138,80.3828 162.7612,80.5322 Q163.4087,80.6816 163.9731,80.9805 L163.9731,83.7031 Q163.3423,83.1221 162.7488,82.8523 Q162.1553,82.5825 161.5244,82.5825 Q160.1797,82.5825 159.4949,83.6492 Q158.8101,84.7158 158.8101,86.8159 Q158.8101,88.9077 159.4949,89.9744 Q160.1797,91.041 161.5244,91.041 Q162.1553,91.041 162.7488,90.7712 Q163.3423,90.5015 163.9731,89.9204 Z \"/><text fill=\"#000000\" font-family=\"sans-serif\" font-size=\"12\" lengthAdjust=\"spacingAndGlyphs\" textLength=\"42\" x=\"175\" y=\"91.5352\">Garage</text><line style=\"stroke: #A80036; stroke-width: 1.5;\" x1=\"147\" x2=\"219\" y1=\"103\" y2=\"103\"/><line style=\"stroke: #A80036; stroke-width: 1.5;\" x1=\"147\" x2=\"219\" y1=\"111\" y2=\"111\"/><rect fill=\"#FEFECE\" filter=\"url(#f1)\" height=\"48\" style=\"stroke: #A80036; stroke-width: 1.5;\" width=\"48\" x=\"350\" y=\"71\"/><ellipse cx=\"365\" cy=\"87\" fill=\"#ADD1B2\" rx=\"11\" ry=\"11\" style=\"stroke: #A80036; stroke-width: 1.0;\"/><path d=\"M367.9731,92.6431 Q367.3921,92.9419 366.7529,93.0913 Q366.1138,93.2407 365.4082,93.2407 Q362.9014,93.2407 361.5815,91.5889 Q360.2617,89.937 360.2617,86.8159 Q360.2617,83.6865 361.5815,82.0347 Q362.9014,80.3828 365.4082,80.3828 Q366.1138,80.3828 366.7612,80.5322 Q367.4087,80.6816 367.9731,80.9805 L367.9731,83.7031 Q367.3423,83.1221 366.7488,82.8523 Q366.1553,82.5825 365.5244,82.5825 Q364.1797,82.5825 363.4949,83.6492 Q362.8101,84.7158 362.8101,86.8159 Q362.8101,88.9077 363.4949,89.9744 Q364.1797,91.041 365.5244,91.041 Q366.1553,91.041 366.7488,90.7712 Q367.3423,90.5015 367.9731,89.9204 Z \"/><text fill=\"#000000\" font-family=\"sans-serif\" font-size=\"12\" lengthAdjust=\"spacingAndGlyphs\" textLength=\"16\" x=\"379\" y=\"91.5352\">TV</text><line style=\"stroke: #A80036; stroke-width: 1.5;\" x1=\"351\" x2=\"397\" y1=\"103\" y2=\"103\"/><line style=\"stroke: #A80036; stroke-width: 1.5;\" x1=\"351\" x2=\"397\" y1=\"111\" y2=\"111\"/><path d=\"M65.0654,70.8367 C92.2245,49.5665 135.699,23.4899 176,34 C203.034,41.0502 230.465,56.454 251.046,70.0176 \" fill=\"none\" style=\"stroke: #A80036; stroke-width: 1.0;\"/><polygon fill=\"#A80036\" points=\"255.331,72.8803,250.0689,64.555,251.1733,70.103,245.6253,71.2074,255.331,72.8803\" style=\"stroke: #A80036; stroke-width: 1.0;\"/><text fill=\"#000000\" font-family=\"sans-serif\" font-size=\"13\" lengthAdjust=\"spacingAndGlyphs\" textLength=\"24\" x=\"151\" y=\"37.5684\">on()</text><path d=\"M70.1802,95 C90.9683,95 118.241,95 140.764,95 \" fill=\"none\" style=\"stroke: #A80036; stroke-width: 1.0;\"/><polygon fill=\"#A80036\" points=\"145.788,95,136.788,91,140.788,95,136.788,99,145.788,95\" style=\"stroke: #A80036; stroke-width: 1.0;\"/><text fill=\"#000000\" font-family=\"sans-serif\" font-size=\"13\" lengthAdjust=\"spacingAndGlyphs\" textLength=\"39\" x=\"88.5\" y=\"88.5684\">open()</text></g></svg>"
      ],
      "text/plain": [
       "<IPython.core.display.SVG object>"
      ]
     },
     "execution_count": 3,
     "metadata": {},
     "output_type": "execute_result"
    }
   ],
   "source": [
    "%%plantuml\n",
    "@startuml\n",
    "\n",
    "class Client\n",
    "class Light\n",
    "class Garage\n",
    "class TV\n",
    "\n",
    "Client -> Light:on()\n",
    "Client -> Garage:open()\n",
    "    \n",
    "@enduml"
   ]
  },
  {
   "cell_type": "markdown",
   "metadata": {},
   "source": [
    "# 하나로 통일할 수 없을까?\n",
    "* -> Command 패턴\n",
    "* 함수를 하나로 통일하는 방법"
   ]
  },
  {
   "cell_type": "code",
   "execution_count": 13,
   "metadata": {
    "collapsed": false
   },
   "outputs": [
    {
     "data": {
      "image/svg+xml": [
       "<svg height=\"215px\" style=\"width:625px;height:215px;\" version=\"1.1\" viewBox=\"0 0 625 215\" width=\"625px\" xmlns=\"http://www.w3.org/2000/svg\" xmlns:xlink=\"http://www.w3.org/1999/xlink\"><defs><filter height=\"300%\" id=\"f1\" width=\"300%\" x=\"-1\" y=\"-1\"><feGaussianBlur result=\"blurOut\" stdDeviation=\"2.0\"/><feColorMatrix in=\"blurOut\" result=\"blurOut2\" type=\"matrix\" values=\"0 0 0 0 0 0 0 0 0 0 0 0 0 0 0 0 0 0 .4 0\"/><feOffset dx=\"4.0\" dy=\"4.0\" in=\"blurOut2\" result=\"blurOut3\"/><feBlend in=\"SourceGraphic\" in2=\"blurOut3\" mode=\"normal\"/></filter></defs><g><rect fill=\"#FEFECE\" filter=\"url(#f1)\" height=\"60.9551\" style=\"stroke: #A80036; stroke-width: 1.5;\" width=\"91\" x=\"197.5\" y=\"146\"/><ellipse cx=\"220.15\" cy=\"162\" fill=\"#ADD1B2\" rx=\"11\" ry=\"11\" style=\"stroke: #A80036; stroke-width: 1.0;\"/><path d=\"M223.1231,167.6431 Q222.5421,167.9419 221.9029,168.0913 Q221.2638,168.2407 220.5582,168.2407 Q218.0514,168.2407 216.7315,166.5889 Q215.4117,164.937 215.4117,161.8159 Q215.4117,158.6865 216.7315,157.0347 Q218.0514,155.3828 220.5582,155.3828 Q221.2638,155.3828 221.9112,155.5322 Q222.5587,155.6816 223.1231,155.9805 L223.1231,158.7031 Q222.4923,158.1221 221.8988,157.8523 Q221.3053,157.5825 220.6744,157.5825 Q219.3297,157.5825 218.6449,158.6492 Q217.9601,159.7158 217.9601,161.8159 Q217.9601,163.9077 218.6449,164.9744 Q219.3297,166.041 220.6744,166.041 Q221.3053,166.041 221.8988,165.7712 Q222.4923,165.5015 223.1231,164.9204 Z \"/><text fill=\"#000000\" font-family=\"sans-serif\" font-size=\"12\" lengthAdjust=\"spacingAndGlyphs\" textLength=\"42\" x=\"235.85\" y=\"166.5352\">Invoker</text><line style=\"stroke: #A80036; stroke-width: 1.5;\" x1=\"198.5\" x2=\"287.5\" y1=\"178\" y2=\"178\"/><line style=\"stroke: #A80036; stroke-width: 1.5;\" x1=\"198.5\" x2=\"287.5\" y1=\"186\" y2=\"186\"/><text fill=\"#000000\" font-family=\"sans-serif\" font-size=\"11\" lengthAdjust=\"spacingAndGlyphs\" textLength=\"79\" x=\"203.5\" y=\"200.6348\">setCommand()</text><rect fill=\"#FEFECE\" filter=\"url(#f1)\" height=\"60.9551\" style=\"stroke: #A80036; stroke-width: 1.5;\" width=\"91\" x=\"349.5\" y=\"8\"/><ellipse cx=\"364.5\" cy=\"24\" fill=\"#B4A7E5\" rx=\"11\" ry=\"11\" style=\"stroke: #A80036; stroke-width: 1.0;\"/><path d=\"M360.4277,19.7651 L360.4277,17.6069 L367.8071,17.6069 L367.8071,19.7651 L365.3418,19.7651 L365.3418,27.8418 L367.8071,27.8418 L367.8071,30 L360.4277,30 L360.4277,27.8418 L362.8931,27.8418 L362.8931,19.7651 Z \"/><text fill=\"#000000\" font-family=\"sans-serif\" font-size=\"12\" font-style=\"italic\" lengthAdjust=\"spacingAndGlyphs\" textLength=\"59\" x=\"378.5\" y=\"28.5352\">Command</text><line style=\"stroke: #A80036; stroke-width: 1.5;\" x1=\"350.5\" x2=\"439.5\" y1=\"40\" y2=\"40\"/><line style=\"stroke: #A80036; stroke-width: 1.5;\" x1=\"350.5\" x2=\"439.5\" y1=\"48\" y2=\"48\"/><text fill=\"#000000\" font-family=\"sans-serif\" font-size=\"11\" lengthAdjust=\"spacingAndGlyphs\" textLength=\"50\" x=\"355.5\" y=\"62.6348\">execute()</text><rect fill=\"#FEFECE\" filter=\"url(#f1)\" height=\"48\" style=\"stroke: #A80036; stroke-width: 1.5;\" width=\"142\" x=\"324\" y=\"152.5\"/><ellipse cx=\"339\" cy=\"168.5\" fill=\"#ADD1B2\" rx=\"11\" ry=\"11\" style=\"stroke: #A80036; stroke-width: 1.0;\"/><path d=\"M341.9731,174.1431 Q341.3921,174.4419 340.7529,174.5913 Q340.1138,174.7407 339.4082,174.7407 Q336.9014,174.7407 335.5815,173.0889 Q334.2617,171.437 334.2617,168.3159 Q334.2617,165.1865 335.5815,163.5347 Q336.9014,161.8828 339.4082,161.8828 Q340.1138,161.8828 340.7612,162.0322 Q341.4087,162.1816 341.9731,162.4805 L341.9731,165.2031 Q341.3423,164.6221 340.7488,164.3523 Q340.1553,164.0825 339.5244,164.0825 Q338.1797,164.0825 337.4949,165.1492 Q336.8101,166.2158 336.8101,168.3159 Q336.8101,170.4077 337.4949,171.4744 Q338.1797,172.541 339.5244,172.541 Q340.1553,172.541 340.7488,172.2712 Q341.3423,172.0015 341.9731,171.4204 Z \"/><text fill=\"#000000\" font-family=\"sans-serif\" font-size=\"12\" lengthAdjust=\"spacingAndGlyphs\" textLength=\"110\" x=\"353\" y=\"173.0352\">ConcreteCommand</text><line style=\"stroke: #A80036; stroke-width: 1.5;\" x1=\"325\" x2=\"465\" y1=\"184.5\" y2=\"184.5\"/><line style=\"stroke: #A80036; stroke-width: 1.5;\" x1=\"325\" x2=\"465\" y1=\"192.5\" y2=\"192.5\"/><rect fill=\"#FEFECE\" filter=\"url(#f1)\" height=\"48\" style=\"stroke: #A80036; stroke-width: 1.5;\" width=\"64\" x=\"6\" y=\"152.5\"/><ellipse cx=\"21\" cy=\"168.5\" fill=\"#ADD1B2\" rx=\"11\" ry=\"11\" style=\"stroke: #A80036; stroke-width: 1.0;\"/><path d=\"M23.9731,174.1431 Q23.3921,174.4419 22.7529,174.5913 Q22.1138,174.7407 21.4082,174.7407 Q18.9014,174.7407 17.5815,173.0889 Q16.2617,171.437 16.2617,168.3159 Q16.2617,165.1865 17.5815,163.5347 Q18.9014,161.8828 21.4082,161.8828 Q22.1138,161.8828 22.7612,162.0322 Q23.4087,162.1816 23.9731,162.4805 L23.9731,165.2031 Q23.3423,164.6221 22.7488,164.3523 Q22.1553,164.0825 21.5244,164.0825 Q20.1797,164.0825 19.4949,165.1492 Q18.8101,166.2158 18.8101,168.3159 Q18.8101,170.4077 19.4949,171.4744 Q20.1797,172.541 21.5244,172.541 Q22.1553,172.541 22.7488,172.2712 Q23.3423,172.0015 23.9731,171.4204 Z \"/><text fill=\"#000000\" font-family=\"sans-serif\" font-size=\"12\" lengthAdjust=\"spacingAndGlyphs\" textLength=\"32\" x=\"35\" y=\"173.0352\">Client</text><line style=\"stroke: #A80036; stroke-width: 1.5;\" x1=\"7\" x2=\"69\" y1=\"184.5\" y2=\"184.5\"/><line style=\"stroke: #A80036; stroke-width: 1.5;\" x1=\"7\" x2=\"69\" y1=\"192.5\" y2=\"192.5\"/><rect fill=\"#FEFECE\" filter=\"url(#f1)\" height=\"48\" style=\"stroke: #A80036; stroke-width: 1.5;\" width=\"81\" x=\"535.5\" y=\"152.5\"/><ellipse cx=\"550.5\" cy=\"168.5\" fill=\"#ADD1B2\" rx=\"11\" ry=\"11\" style=\"stroke: #A80036; stroke-width: 1.0;\"/><path d=\"M553.4731,174.1431 Q552.8921,174.4419 552.2529,174.5913 Q551.6138,174.7407 550.9082,174.7407 Q548.4014,174.7407 547.0815,173.0889 Q545.7617,171.437 545.7617,168.3159 Q545.7617,165.1865 547.0815,163.5347 Q548.4014,161.8828 550.9082,161.8828 Q551.6138,161.8828 552.2612,162.0322 Q552.9087,162.1816 553.4731,162.4805 L553.4731,165.2031 Q552.8423,164.6221 552.2488,164.3523 Q551.6553,164.0825 551.0244,164.0825 Q549.6797,164.0825 548.9949,165.1492 Q548.3101,166.2158 548.3101,168.3159 Q548.3101,170.4077 548.9949,171.4744 Q549.6797,172.541 551.0244,172.541 Q551.6553,172.541 552.2488,172.2712 Q552.8423,172.0015 553.4731,171.4204 Z \"/><text fill=\"#000000\" font-family=\"sans-serif\" font-size=\"12\" lengthAdjust=\"spacingAndGlyphs\" textLength=\"49\" x=\"564.5\" y=\"173.0352\">Receiver</text><line style=\"stroke: #A80036; stroke-width: 1.5;\" x1=\"536.5\" x2=\"615.5\" y1=\"184.5\" y2=\"184.5\"/><line style=\"stroke: #A80036; stroke-width: 1.5;\" x1=\"536.5\" x2=\"615.5\" y1=\"192.5\" y2=\"192.5\"/><path d=\"M395,89.345 C395,110.9111 395,135.1059 395,152.3524 \" fill=\"none\" style=\"stroke: #A80036; stroke-width: 1.0; stroke-dasharray: 7.0,7.0;\"/><polygon fill=\"none\" points=\"388,89.01,395,69.01,402,89.01,388,89.01\" style=\"stroke: #A80036; stroke-width: 1.0;\"/><path d=\"M70.2509,156.3011 C98.0126,140.1781 139.763,118.872 179.5,110 C240.704,96.335 309.677,125.7987 352.741,149.7737 \" fill=\"none\" style=\"stroke: #A80036; stroke-width: 1.0;\"/><polygon fill=\"#A80036\" points=\"357.343,152.3702,351.4684,144.4652,352.9878,149.9142,347.5388,151.4336,357.343,152.3702\" style=\"stroke: #A80036; stroke-width: 1.0;\"/><text fill=\"#000000\" font-family=\"sans-serif\" font-size=\"13\" lengthAdjust=\"spacingAndGlyphs\" textLength=\"33\" x=\"180.5\" y=\"112.5684\">new()</text><path d=\"M70.0312,176.5 C102.6859,176.5 153.835,176.5 192.055,176.5 \" fill=\"none\" style=\"stroke: #A80036; stroke-width: 1.0;\"/><polygon fill=\"#A80036\" points=\"197.122,176.5,188.122,172.5,192.122,176.5,188.122,180.5,197.122,176.5\" style=\"stroke: #A80036; stroke-width: 1.0;\"/><text fill=\"#000000\" font-family=\"sans-serif\" font-size=\"13\" lengthAdjust=\"spacingAndGlyphs\" textLength=\"91\" x=\"88.25\" y=\"170.0684\">setCommand()</text><path d=\"M466.057,176.5 C487.394,176.5 508.731,176.5 530.069,176.5 \" fill=\"none\" style=\"stroke: #A80036; stroke-width: 1.0;\"/><polygon fill=\"#A80036\" points=\"535.201,176.5,526.201,172.5,530.201,176.5,526.201,180.5,535.201,176.5\" style=\"stroke: #A80036; stroke-width: 1.0;\"/></g></svg>"
      ],
      "text/plain": [
       "<IPython.core.display.SVG object>"
      ]
     },
     "execution_count": 13,
     "metadata": {},
     "output_type": "execute_result"
    }
   ],
   "source": [
    "%%plantuml\n",
    "@startuml\n",
    "\n",
    "class Invoker {\n",
    "    setCommand()\n",
    "} \n",
    "\n",
    "Interface Command {\n",
    "    execute()\n",
    "}\n",
    "\n",
    "Command <|.. ConcreteCommand\n",
    "Client -> ConcreteCommand:new()\n",
    "Client -> Invoker:setCommand()\n",
    "\n",
    "class Receiver\n",
    "\n",
    "ConcreteCommand -> Receiver\n",
    "    \n",
    "@enduml"
   ]
  },
  {
   "cell_type": "markdown",
   "metadata": {},
   "source": [
    "* Invoker의 역할 - 리모콘, 등록하는 기능 - Observer의 Register와 비슷한 기능 - Observer와 매우 유사한 기능\n",
    "* Light는 Receiver 역할\n",
    "* Command가 중간에 들어와서 함수 이름을 하나로 통일시킨다는 의미가 있다.\n",
    "* https://github.com/smu405/j/blob/master/7_command.ipynb - 4. 설계\n",
    "* 명칭과 역할부터 이해하기.\n",
    "* Command를 쓰지 않으면 메뉴가 너무 늘어나서 메뉴만 쓰는데 코드가 몇십줄이 따라붙어야하는 현상이 일어남."
   ]
  },
  {
   "cell_type": "code",
   "execution_count": 26,
   "metadata": {
    "collapsed": false
   },
   "outputs": [
    {
     "data": {
      "image/svg+xml": [
       "<svg height=\"371px\" style=\"width:290px;height:371px;\" version=\"1.1\" viewBox=\"0 0 290 371\" width=\"290px\" xmlns=\"http://www.w3.org/2000/svg\" xmlns:xlink=\"http://www.w3.org/1999/xlink\"><defs><filter height=\"300%\" id=\"f1\" width=\"300%\" x=\"-1\" y=\"-1\"><feGaussianBlur result=\"blurOut\" stdDeviation=\"2.0\"/><feColorMatrix in=\"blurOut\" result=\"blurOut2\" type=\"matrix\" values=\"0 0 0 0 0 0 0 0 0 0 0 0 0 0 0 0 0 0 .4 0\"/><feOffset dx=\"4.0\" dy=\"4.0\" in=\"blurOut2\" result=\"blurOut3\"/><feBlend in=\"SourceGraphic\" in2=\"blurOut3\" mode=\"normal\"/></filter></defs><g><rect fill=\"#FEFECE\" filter=\"url(#f1)\" height=\"73.9102\" style=\"stroke: #A80036; stroke-width: 1.5;\" width=\"75\" x=\"61\" y=\"289\"/><ellipse cx=\"83.2\" cy=\"305\" fill=\"#ADD1B2\" rx=\"11\" ry=\"11\" style=\"stroke: #A80036; stroke-width: 1.0;\"/><path d=\"M86.1731,310.6431 Q85.5921,310.9419 84.9529,311.0913 Q84.3138,311.2407 83.6082,311.2407 Q81.1014,311.2407 79.7815,309.5889 Q78.4617,307.937 78.4617,304.8159 Q78.4617,301.6865 79.7815,300.0347 Q81.1014,298.3828 83.6082,298.3828 Q84.3138,298.3828 84.9612,298.5322 Q85.6087,298.6816 86.1731,298.9805 L86.1731,301.7031 Q85.5423,301.1221 84.9488,300.8523 Q84.3553,300.5825 83.7244,300.5825 Q82.3797,300.5825 81.6949,301.6492 Q81.0101,302.7158 81.0101,304.8159 Q81.0101,306.9077 81.6949,307.9744 Q82.3797,309.041 83.7244,309.041 Q84.3553,309.041 84.9488,308.7712 Q85.5423,308.5015 86.1731,307.9204 Z \"/><text fill=\"#000000\" font-family=\"sans-serif\" font-size=\"12\" lengthAdjust=\"spacingAndGlyphs\" textLength=\"27\" x=\"98.8\" y=\"309.5352\">Light</text><line style=\"stroke: #A80036; stroke-width: 1.5;\" x1=\"62\" x2=\"135\" y1=\"321\" y2=\"321\"/><line style=\"stroke: #A80036; stroke-width: 1.5;\" x1=\"62\" x2=\"135\" y1=\"329\" y2=\"329\"/><ellipse cx=\"72\" cy=\"340.9775\" fill=\"#84BE84\" rx=\"3\" ry=\"3\" style=\"stroke: #038048; stroke-width: 1.0;\"/><text fill=\"#000000\" font-family=\"sans-serif\" font-size=\"11\" lengthAdjust=\"spacingAndGlyphs\" textLength=\"48\" x=\"81\" y=\"343.6348\">on():void</text><ellipse cx=\"72\" cy=\"353.9326\" fill=\"#84BE84\" rx=\"3\" ry=\"3\" style=\"stroke: #038048; stroke-width: 1.0;\"/><text fill=\"#000000\" font-family=\"sans-serif\" font-size=\"11\" lengthAdjust=\"spacingAndGlyphs\" textLength=\"49\" x=\"81\" y=\"356.5898\">off():void</text><rect fill=\"#FEFECE\" filter=\"url(#f1)\" height=\"73.9102\" style=\"stroke: #A80036; stroke-width: 1.5;\" width=\"102\" x=\"179.5\" y=\"8\"/><ellipse cx=\"194.5\" cy=\"24\" fill=\"#ADD1B2\" rx=\"11\" ry=\"11\" style=\"stroke: #A80036; stroke-width: 1.0;\"/><path d=\"M197.4731,29.6431 Q196.8921,29.9419 196.2529,30.0913 Q195.6138,30.2407 194.9082,30.2407 Q192.4014,30.2407 191.0815,28.5889 Q189.7617,26.937 189.7617,23.8159 Q189.7617,20.6865 191.0815,19.0347 Q192.4014,17.3828 194.9082,17.3828 Q195.6138,17.3828 196.2612,17.5322 Q196.9087,17.6816 197.4731,17.9805 L197.4731,20.7031 Q196.8423,20.1221 196.2488,19.8523 Q195.6553,19.5825 195.0244,19.5825 Q193.6797,19.5825 192.9949,20.6492 Q192.3101,21.7158 192.3101,23.8159 Q192.3101,25.9077 192.9949,26.9744 Q193.6797,28.041 195.0244,28.041 Q195.6553,28.041 196.2488,27.7712 Q196.8423,27.5015 197.4731,26.9204 Z \"/><text fill=\"#000000\" font-family=\"sans-serif\" font-size=\"12\" lengthAdjust=\"spacingAndGlyphs\" textLength=\"70\" x=\"208.5\" y=\"28.5352\">GarageDoor</text><line style=\"stroke: #A80036; stroke-width: 1.5;\" x1=\"180.5\" x2=\"280.5\" y1=\"40\" y2=\"40\"/><line style=\"stroke: #A80036; stroke-width: 1.5;\" x1=\"180.5\" x2=\"280.5\" y1=\"48\" y2=\"48\"/><ellipse cx=\"190.5\" cy=\"59.9775\" fill=\"#84BE84\" rx=\"3\" ry=\"3\" style=\"stroke: #038048; stroke-width: 1.0;\"/><text fill=\"#000000\" font-family=\"sans-serif\" font-size=\"11\" lengthAdjust=\"spacingAndGlyphs\" textLength=\"48\" x=\"199.5\" y=\"62.6348\">up():void</text><ellipse cx=\"190.5\" cy=\"72.9326\" fill=\"#84BE84\" rx=\"3\" ry=\"3\" style=\"stroke: #038048; stroke-width: 1.0;\"/><text fill=\"#000000\" font-family=\"sans-serif\" font-size=\"11\" lengthAdjust=\"spacingAndGlyphs\" textLength=\"63\" x=\"199.5\" y=\"75.5898\">down():void</text><rect fill=\"#FEFECE\" filter=\"url(#f1)\" height=\"60.9551\" style=\"stroke: #A80036; stroke-width: 1.5;\" width=\"91\" x=\"53\" y=\"14.5\"/><ellipse cx=\"68\" cy=\"30.5\" fill=\"#B4A7E5\" rx=\"11\" ry=\"11\" style=\"stroke: #A80036; stroke-width: 1.0;\"/><path d=\"M63.9277,26.2651 L63.9277,24.1069 L71.3071,24.1069 L71.3071,26.2651 L68.8418,26.2651 L68.8418,34.3418 L71.3071,34.3418 L71.3071,36.5 L63.9277,36.5 L63.9277,34.3418 L66.3931,34.3418 L66.3931,26.2651 Z \"/><text fill=\"#000000\" font-family=\"sans-serif\" font-size=\"12\" font-style=\"italic\" lengthAdjust=\"spacingAndGlyphs\" textLength=\"59\" x=\"82\" y=\"35.0352\">Command</text><line style=\"stroke: #A80036; stroke-width: 1.5;\" x1=\"54\" x2=\"143\" y1=\"46.5\" y2=\"46.5\"/><line style=\"stroke: #A80036; stroke-width: 1.5;\" x1=\"54\" x2=\"143\" y1=\"54.5\" y2=\"54.5\"/><ellipse cx=\"64\" cy=\"66.4775\" fill=\"#84BE84\" rx=\"3\" ry=\"3\" style=\"stroke: #038048; stroke-width: 1.0;\"/><text fill=\"#000000\" font-family=\"sans-serif\" font-size=\"11\" lengthAdjust=\"spacingAndGlyphs\" textLength=\"50\" x=\"73\" y=\"69.1348\">execute()</text><rect fill=\"#FEFECE\" filter=\"url(#f1)\" height=\"86.8652\" style=\"stroke: #A80036; stroke-width: 1.5;\" width=\"185\" x=\"6\" y=\"142\"/><ellipse cx=\"43.95\" cy=\"158\" fill=\"#ADD1B2\" rx=\"11\" ry=\"11\" style=\"stroke: #A80036; stroke-width: 1.0;\"/><path d=\"M46.9231,163.6431 Q46.3421,163.9419 45.7029,164.0913 Q45.0638,164.2407 44.3582,164.2407 Q41.8514,164.2407 40.5315,162.5889 Q39.2117,160.937 39.2117,157.8159 Q39.2117,154.6865 40.5315,153.0347 Q41.8514,151.3828 44.3582,151.3828 Q45.0638,151.3828 45.7112,151.5322 Q46.3587,151.6816 46.9231,151.9805 L46.9231,154.7031 Q46.2923,154.1221 45.6988,153.8523 Q45.1053,153.5825 44.4744,153.5825 Q43.1297,153.5825 42.4449,154.6492 Q41.7601,155.7158 41.7601,157.8159 Q41.7601,159.9077 42.4449,160.9744 Q43.1297,162.041 44.4744,162.041 Q45.1053,162.041 45.6988,161.7712 Q46.2923,161.5015 46.9231,160.9204 Z \"/><text fill=\"#000000\" font-family=\"sans-serif\" font-size=\"12\" lengthAdjust=\"spacingAndGlyphs\" textLength=\"102\" x=\"63.05\" y=\"162.5352\">LightOnCommand</text><line style=\"stroke: #A80036; stroke-width: 1.5;\" x1=\"7\" x2=\"190\" y1=\"174\" y2=\"174\"/><rect fill=\"none\" height=\"6\" style=\"stroke: #C82930; stroke-width: 1.0;\" width=\"6\" x=\"14\" y=\"182.9775\"/><text fill=\"#000000\" font-family=\"sans-serif\" font-size=\"11\" lengthAdjust=\"spacingAndGlyphs\" textLength=\"54\" x=\"26\" y=\"188.6348\">light:Light</text><line style=\"stroke: #A80036; stroke-width: 1.5;\" x1=\"7\" x2=\"190\" y1=\"194.9551\" y2=\"194.9551\"/><ellipse cx=\"17\" cy=\"206.9326\" fill=\"#84BE84\" rx=\"3\" ry=\"3\" style=\"stroke: #038048; stroke-width: 1.0;\"/><text fill=\"#000000\" font-family=\"sans-serif\" font-size=\"11\" lengthAdjust=\"spacingAndGlyphs\" textLength=\"159\" x=\"26\" y=\"209.5898\">LightOnCommand(Light):void</text><ellipse cx=\"17\" cy=\"219.8877\" fill=\"#84BE84\" rx=\"3\" ry=\"3\" style=\"stroke: #038048; stroke-width: 1.0;\"/><text fill=\"#000000\" font-family=\"sans-serif\" font-size=\"11\" lengthAdjust=\"spacingAndGlyphs\" textLength=\"76\" x=\"26\" y=\"222.5449\">execute():void</text><path d=\"M98.5,95.836 C98.5,110.939 98.5,127.382 98.5,141.961 \" fill=\"none\" style=\"stroke: #A80036; stroke-width: 1.0; stroke-dasharray: 7.0,7.0;\"/><polygon fill=\"none\" points=\"91.5001,95.712,98.5,75.712,105.5001,95.712,91.5001,95.712\" style=\"stroke: #A80036; stroke-width: 1.0;\"/><path d=\"M98.5,229.185 C98.5,246.472 98.5,266.3625 98.5,283.525 \" fill=\"none\" style=\"stroke: #A80036; stroke-width: 1.0;\"/><polygon fill=\"#A80036\" points=\"98.5,288.7578,102.5,279.7578,98.5,283.7578,94.5,279.7578,98.5,288.7578\" style=\"stroke: #A80036; stroke-width: 1.0;\"/></g></svg>"
      ],
      "text/plain": [
       "<IPython.core.display.SVG object>"
      ]
     },
     "execution_count": 26,
     "metadata": {},
     "output_type": "execute_result"
    }
   ],
   "source": [
    "%%plantuml\n",
    "@startuml\n",
    "\n",
    "class Light {\n",
    "    +on():void\n",
    "    +off():void\n",
    "}\n",
    "\n",
    "class GarageDoor {\n",
    "    +up():void\n",
    "    +down():void\n",
    "}\n",
    "\n",
    "interface Command {\n",
    "    +execute()\n",
    "}\n",
    "\n",
    "class LightOnCommand {\n",
    "    -light:Light\n",
    "    +LightOnCommand(Light):void\n",
    "    +execute():void\n",
    "}\n",
    "\n",
    "Command <|.. LightOnCommand\n",
    "LightOnCommand --> Light\n",
    "\n",
    "@enduml"
   ]
  },
  {
   "cell_type": "code",
   "execution_count": 24,
   "metadata": {
    "collapsed": false
   },
   "outputs": [
    {
     "data": {
      "image/svg+xml": [
       "<svg height=\"358px\" style=\"width:427px;height:358px;\" version=\"1.1\" viewBox=\"0 0 427 358\" width=\"427px\" xmlns=\"http://www.w3.org/2000/svg\" xmlns:xlink=\"http://www.w3.org/1999/xlink\"><defs><filter height=\"300%\" id=\"f1\" width=\"300%\" x=\"-1\" y=\"-1\"><feGaussianBlur result=\"blurOut\" stdDeviation=\"2.0\"/><feColorMatrix in=\"blurOut\" result=\"blurOut2\" type=\"matrix\" values=\"0 0 0 0 0 0 0 0 0 0 0 0 0 0 0 0 0 0 .4 0\"/><feOffset dx=\"4.0\" dy=\"4.0\" in=\"blurOut2\" result=\"blurOut3\"/><feBlend in=\"SourceGraphic\" in2=\"blurOut3\" mode=\"normal\"/></filter></defs><g><rect fill=\"#FEFECE\" filter=\"url(#f1)\" height=\"73.9102\" style=\"stroke: #A80036; stroke-width: 1.5;\" width=\"75\" x=\"61\" y=\"276\"/><ellipse cx=\"83.2\" cy=\"292\" fill=\"#ADD1B2\" rx=\"11\" ry=\"11\" style=\"stroke: #A80036; stroke-width: 1.0;\"/><path d=\"M86.1731,297.6431 Q85.5921,297.9419 84.9529,298.0913 Q84.3138,298.2407 83.6082,298.2407 Q81.1014,298.2407 79.7815,296.5889 Q78.4617,294.937 78.4617,291.8159 Q78.4617,288.6865 79.7815,287.0347 Q81.1014,285.3828 83.6082,285.3828 Q84.3138,285.3828 84.9612,285.5322 Q85.6087,285.6816 86.1731,285.9805 L86.1731,288.7031 Q85.5423,288.1221 84.9488,287.8523 Q84.3553,287.5825 83.7244,287.5825 Q82.3797,287.5825 81.6949,288.6492 Q81.0101,289.7158 81.0101,291.8159 Q81.0101,293.9077 81.6949,294.9744 Q82.3797,296.041 83.7244,296.041 Q84.3553,296.041 84.9488,295.7712 Q85.5423,295.5015 86.1731,294.9204 Z \"/><text fill=\"#000000\" font-family=\"sans-serif\" font-size=\"12\" lengthAdjust=\"spacingAndGlyphs\" textLength=\"27\" x=\"98.8\" y=\"296.5352\">Light</text><line style=\"stroke: #A80036; stroke-width: 1.5;\" x1=\"62\" x2=\"135\" y1=\"308\" y2=\"308\"/><line style=\"stroke: #A80036; stroke-width: 1.5;\" x1=\"62\" x2=\"135\" y1=\"316\" y2=\"316\"/><ellipse cx=\"72\" cy=\"327.9775\" fill=\"#84BE84\" rx=\"3\" ry=\"3\" style=\"stroke: #038048; stroke-width: 1.0;\"/><text fill=\"#000000\" font-family=\"sans-serif\" font-size=\"11\" lengthAdjust=\"spacingAndGlyphs\" textLength=\"48\" x=\"81\" y=\"330.6348\">on():void</text><ellipse cx=\"72\" cy=\"340.9326\" fill=\"#84BE84\" rx=\"3\" ry=\"3\" style=\"stroke: #038048; stroke-width: 1.0;\"/><text fill=\"#000000\" font-family=\"sans-serif\" font-size=\"11\" lengthAdjust=\"spacingAndGlyphs\" textLength=\"49\" x=\"81\" y=\"343.5898\">off():void</text><rect fill=\"#FEFECE\" filter=\"url(#f1)\" height=\"73.9102\" style=\"stroke: #A80036; stroke-width: 1.5;\" width=\"102\" x=\"271.5\" y=\"276\"/><ellipse cx=\"286.5\" cy=\"292\" fill=\"#ADD1B2\" rx=\"11\" ry=\"11\" style=\"stroke: #A80036; stroke-width: 1.0;\"/><path d=\"M289.4731,297.6431 Q288.8921,297.9419 288.2529,298.0913 Q287.6138,298.2407 286.9082,298.2407 Q284.4014,298.2407 283.0815,296.5889 Q281.7617,294.937 281.7617,291.8159 Q281.7617,288.6865 283.0815,287.0347 Q284.4014,285.3828 286.9082,285.3828 Q287.6138,285.3828 288.2612,285.5322 Q288.9087,285.6816 289.4731,285.9805 L289.4731,288.7031 Q288.8423,288.1221 288.2488,287.8523 Q287.6553,287.5825 287.0244,287.5825 Q285.6797,287.5825 284.9949,288.6492 Q284.3101,289.7158 284.3101,291.8159 Q284.3101,293.9077 284.9949,294.9744 Q285.6797,296.041 287.0244,296.041 Q287.6553,296.041 288.2488,295.7712 Q288.8423,295.5015 289.4731,294.9204 Z \"/><text fill=\"#000000\" font-family=\"sans-serif\" font-size=\"12\" lengthAdjust=\"spacingAndGlyphs\" textLength=\"70\" x=\"300.5\" y=\"296.5352\">GarageDoor</text><line style=\"stroke: #A80036; stroke-width: 1.5;\" x1=\"272.5\" x2=\"372.5\" y1=\"308\" y2=\"308\"/><line style=\"stroke: #A80036; stroke-width: 1.5;\" x1=\"272.5\" x2=\"372.5\" y1=\"316\" y2=\"316\"/><ellipse cx=\"282.5\" cy=\"327.9775\" fill=\"#84BE84\" rx=\"3\" ry=\"3\" style=\"stroke: #038048; stroke-width: 1.0;\"/><text fill=\"#000000\" font-family=\"sans-serif\" font-size=\"11\" lengthAdjust=\"spacingAndGlyphs\" textLength=\"48\" x=\"291.5\" y=\"330.6348\">up():void</text><ellipse cx=\"282.5\" cy=\"340.9326\" fill=\"#84BE84\" rx=\"3\" ry=\"3\" style=\"stroke: #038048; stroke-width: 1.0;\"/><text fill=\"#000000\" font-family=\"sans-serif\" font-size=\"11\" lengthAdjust=\"spacingAndGlyphs\" textLength=\"63\" x=\"291.5\" y=\"343.5898\">down():void</text><rect fill=\"#FEFECE\" filter=\"url(#f1)\" height=\"60.9551\" style=\"stroke: #A80036; stroke-width: 1.5;\" width=\"91\" x=\"165\" y=\"8\"/><ellipse cx=\"180\" cy=\"24\" fill=\"#B4A7E5\" rx=\"11\" ry=\"11\" style=\"stroke: #A80036; stroke-width: 1.0;\"/><path d=\"M175.9277,19.7651 L175.9277,17.6069 L183.3071,17.6069 L183.3071,19.7651 L180.8418,19.7651 L180.8418,27.8418 L183.3071,27.8418 L183.3071,30 L175.9277,30 L175.9277,27.8418 L178.3931,27.8418 L178.3931,19.7651 Z \"/><text fill=\"#000000\" font-family=\"sans-serif\" font-size=\"12\" font-style=\"italic\" lengthAdjust=\"spacingAndGlyphs\" textLength=\"59\" x=\"194\" y=\"28.5352\">Command</text><line style=\"stroke: #A80036; stroke-width: 1.5;\" x1=\"166\" x2=\"255\" y1=\"40\" y2=\"40\"/><line style=\"stroke: #A80036; stroke-width: 1.5;\" x1=\"166\" x2=\"255\" y1=\"48\" y2=\"48\"/><ellipse cx=\"176\" cy=\"59.9775\" fill=\"#84BE84\" rx=\"3\" ry=\"3\" style=\"stroke: #038048; stroke-width: 1.0;\"/><text fill=\"#000000\" font-family=\"sans-serif\" font-size=\"11\" lengthAdjust=\"spacingAndGlyphs\" textLength=\"50\" x=\"185\" y=\"62.6348\">execute()</text><rect fill=\"#FEFECE\" filter=\"url(#f1)\" height=\"86.8652\" style=\"stroke: #A80036; stroke-width: 1.5;\" width=\"185\" x=\"6\" y=\"129\"/><ellipse cx=\"43.95\" cy=\"145\" fill=\"#ADD1B2\" rx=\"11\" ry=\"11\" style=\"stroke: #A80036; stroke-width: 1.0;\"/><path d=\"M46.9231,150.6431 Q46.3421,150.9419 45.7029,151.0913 Q45.0638,151.2407 44.3582,151.2407 Q41.8514,151.2407 40.5315,149.5889 Q39.2117,147.937 39.2117,144.8159 Q39.2117,141.6865 40.5315,140.0347 Q41.8514,138.3828 44.3582,138.3828 Q45.0638,138.3828 45.7112,138.5322 Q46.3587,138.6816 46.9231,138.9805 L46.9231,141.7031 Q46.2923,141.1221 45.6988,140.8523 Q45.1053,140.5825 44.4744,140.5825 Q43.1297,140.5825 42.4449,141.6492 Q41.7601,142.7158 41.7601,144.8159 Q41.7601,146.9077 42.4449,147.9744 Q43.1297,149.041 44.4744,149.041 Q45.1053,149.041 45.6988,148.7712 Q46.2923,148.5015 46.9231,147.9204 Z \"/><text fill=\"#000000\" font-family=\"sans-serif\" font-size=\"12\" lengthAdjust=\"spacingAndGlyphs\" textLength=\"102\" x=\"63.05\" y=\"149.5352\">LightOnCommand</text><line style=\"stroke: #A80036; stroke-width: 1.5;\" x1=\"7\" x2=\"190\" y1=\"161\" y2=\"161\"/><rect fill=\"none\" height=\"6\" style=\"stroke: #C82930; stroke-width: 1.0;\" width=\"6\" x=\"14\" y=\"169.9775\"/><text fill=\"#000000\" font-family=\"sans-serif\" font-size=\"11\" lengthAdjust=\"spacingAndGlyphs\" textLength=\"54\" x=\"26\" y=\"175.6348\">light:Light</text><line style=\"stroke: #A80036; stroke-width: 1.5;\" x1=\"7\" x2=\"190\" y1=\"181.9551\" y2=\"181.9551\"/><ellipse cx=\"17\" cy=\"193.9326\" fill=\"#84BE84\" rx=\"3\" ry=\"3\" style=\"stroke: #038048; stroke-width: 1.0;\"/><text fill=\"#000000\" font-family=\"sans-serif\" font-size=\"11\" lengthAdjust=\"spacingAndGlyphs\" textLength=\"159\" x=\"26\" y=\"196.5898\">LightOnCommand(Light):void</text><ellipse cx=\"17\" cy=\"206.8877\" fill=\"#84BE84\" rx=\"3\" ry=\"3\" style=\"stroke: #038048; stroke-width: 1.0;\"/><text fill=\"#000000\" font-family=\"sans-serif\" font-size=\"11\" lengthAdjust=\"spacingAndGlyphs\" textLength=\"76\" x=\"26\" y=\"209.5449\">execute():void</text><rect fill=\"#FEFECE\" filter=\"url(#f1)\" height=\"48\" style=\"stroke: #A80036; stroke-width: 1.5;\" width=\"192\" x=\"226.5\" y=\"148.5\"/><ellipse cx=\"241.5\" cy=\"164.5\" fill=\"#ADD1B2\" rx=\"11\" ry=\"11\" style=\"stroke: #A80036; stroke-width: 1.0;\"/><path d=\"M244.4731,170.1431 Q243.8921,170.4419 243.2529,170.5913 Q242.6138,170.7407 241.9082,170.7407 Q239.4014,170.7407 238.0815,169.0889 Q236.7617,167.437 236.7617,164.3159 Q236.7617,161.1865 238.0815,159.5347 Q239.4014,157.8828 241.9082,157.8828 Q242.6138,157.8828 243.2612,158.0322 Q243.9087,158.1816 244.4731,158.4805 L244.4731,161.2031 Q243.8423,160.6221 243.2488,160.3523 Q242.6553,160.0825 242.0244,160.0825 Q240.6797,160.0825 239.9949,161.1492 Q239.3101,162.2158 239.3101,164.3159 Q239.3101,166.4077 239.9949,167.4744 Q240.6797,168.541 242.0244,168.541 Q242.6553,168.541 243.2488,168.2712 Q243.8423,168.0015 244.4731,167.4204 Z \"/><text fill=\"#000000\" font-family=\"sans-serif\" font-size=\"12\" lengthAdjust=\"spacingAndGlyphs\" textLength=\"160\" x=\"255.5\" y=\"169.0352\">GarageDoorOpenCommand</text><line style=\"stroke: #A80036; stroke-width: 1.5;\" x1=\"227.5\" x2=\"417.5\" y1=\"180.5\" y2=\"180.5\"/><line style=\"stroke: #A80036; stroke-width: 1.5;\" x1=\"227.5\" x2=\"417.5\" y1=\"188.5\" y2=\"188.5\"/><path d=\"M172.274,84.552 C160.081,98.922 146.634,114.77 134.597,128.957 \" fill=\"none\" style=\"stroke: #A80036; stroke-width: 1.0; stroke-dasharray: 7.0,7.0;\"/><polygon fill=\"none\" points=\"167.088,79.845,185.365,69.123,177.763,88.902,167.088,79.845\" style=\"stroke: #A80036; stroke-width: 1.0;\"/><path d=\"M98.5,216.185 C98.5,233.472 98.5,253.3625 98.5,270.525 \" fill=\"none\" style=\"stroke: #A80036; stroke-width: 1.0;\"/><polygon fill=\"#A80036\" points=\"98.5,275.7578,102.5,266.7578,98.5,270.7578,94.5,266.7578,98.5,275.7578\" style=\"stroke: #A80036; stroke-width: 1.0;\"/><path d=\"M248.801,84.64 C266.908,105.98 287.766,130.564 302.661,148.118 \" fill=\"none\" style=\"stroke: #A80036; stroke-width: 1.0; stroke-dasharray: 7.0,7.0;\"/><polygon fill=\"none\" points=\"243.237,88.902,235.635,69.123,253.912,79.845,243.237,88.902\" style=\"stroke: #A80036; stroke-width: 1.0;\"/><path d=\"M322.5,196.682 C322.5,216.884 322.5,246.659 322.5,270.8927 \" fill=\"none\" style=\"stroke: #A80036; stroke-width: 1.0;\"/><polygon fill=\"#A80036\" points=\"322.5,275.9744,326.5,266.9744,322.5,270.9744,318.5,266.9744,322.5,275.9744\" style=\"stroke: #A80036; stroke-width: 1.0;\"/></g></svg>"
      ],
      "text/plain": [
       "<IPython.core.display.SVG object>"
      ]
     },
     "execution_count": 24,
     "metadata": {},
     "output_type": "execute_result"
    }
   ],
   "source": [
    "%%plantuml\n",
    "@startuml\n",
    "\n",
    "class Light {\n",
    "    +on():void\n",
    "    +off():void\n",
    "}\n",
    "\n",
    "class GarageDoor {\n",
    "    +up():void\n",
    "    +down():void\n",
    "}\n",
    "\n",
    "interface Command {\n",
    "    +execute()\n",
    "}\n",
    "\n",
    "class LightOnCommand {\n",
    "    -light:Light\n",
    "    +LightOnCommand(Light):void\n",
    "    +execute():void\n",
    "}\n",
    "\n",
    "Command <|.. LightOnCommand\n",
    "LightOnCommand --> Light\n",
    "\n",
    "class GarageDoorOpenCommand\n",
    "\n",
    "Command <|.. GarageDoorOpenCommand\n",
    "GarageDoorOpenCommand -down-> GarageDoor\n",
    "\n",
    "@enduml"
   ]
  },
  {
   "cell_type": "markdown",
   "metadata": {},
   "source": [
    "* Interface <|.."
   ]
  },
  {
   "cell_type": "code",
   "execution_count": 31,
   "metadata": {
    "collapsed": false
   },
   "outputs": [
    {
     "data": {
      "image/svg+xml": [
       "<svg height=\"386px\" style=\"width:674px;height:386px;\" version=\"1.1\" viewBox=\"0 0 674 386\" width=\"674px\" xmlns=\"http://www.w3.org/2000/svg\" xmlns:xlink=\"http://www.w3.org/1999/xlink\"><defs><filter height=\"300%\" id=\"f1\" width=\"300%\" x=\"-1\" y=\"-1\"><feGaussianBlur result=\"blurOut\" stdDeviation=\"2.0\"/><feColorMatrix in=\"blurOut\" result=\"blurOut2\" type=\"matrix\" values=\"0 0 0 0 0 0 0 0 0 0 0 0 0 0 0 0 0 0 .4 0\"/><feOffset dx=\"4.0\" dy=\"4.0\" in=\"blurOut2\" result=\"blurOut3\"/><feBlend in=\"SourceGraphic\" in2=\"blurOut3\" mode=\"normal\"/></filter></defs><g><rect fill=\"#FEFECE\" filter=\"url(#f1)\" height=\"73.9102\" style=\"stroke: #A80036; stroke-width: 1.5;\" width=\"75\" x=\"307.5\" y=\"304\"/><ellipse cx=\"329.7\" cy=\"320\" fill=\"#ADD1B2\" rx=\"11\" ry=\"11\" style=\"stroke: #A80036; stroke-width: 1.0;\"/><path d=\"M332.6731,325.6431 Q332.0921,325.9419 331.4529,326.0913 Q330.8138,326.2407 330.1082,326.2407 Q327.6014,326.2407 326.2815,324.5889 Q324.9617,322.937 324.9617,319.8159 Q324.9617,316.6865 326.2815,315.0347 Q327.6014,313.3828 330.1082,313.3828 Q330.8138,313.3828 331.4612,313.5322 Q332.1087,313.6816 332.6731,313.9805 L332.6731,316.7031 Q332.0423,316.1221 331.4488,315.8523 Q330.8553,315.5825 330.2244,315.5825 Q328.8797,315.5825 328.1949,316.6492 Q327.5101,317.7158 327.5101,319.8159 Q327.5101,321.9077 328.1949,322.9744 Q328.8797,324.041 330.2244,324.041 Q330.8553,324.041 331.4488,323.7712 Q332.0423,323.5015 332.6731,322.9204 Z \"/><text fill=\"#000000\" font-family=\"sans-serif\" font-size=\"12\" lengthAdjust=\"spacingAndGlyphs\" textLength=\"27\" x=\"345.3\" y=\"324.5352\">Light</text><line style=\"stroke: #A80036; stroke-width: 1.5;\" x1=\"308.5\" x2=\"381.5\" y1=\"336\" y2=\"336\"/><line style=\"stroke: #A80036; stroke-width: 1.5;\" x1=\"308.5\" x2=\"381.5\" y1=\"344\" y2=\"344\"/><ellipse cx=\"318.5\" cy=\"355.9775\" fill=\"#84BE84\" rx=\"3\" ry=\"3\" style=\"stroke: #038048; stroke-width: 1.0;\"/><text fill=\"#000000\" font-family=\"sans-serif\" font-size=\"11\" lengthAdjust=\"spacingAndGlyphs\" textLength=\"48\" x=\"327.5\" y=\"358.6348\">on():void</text><ellipse cx=\"318.5\" cy=\"368.9326\" fill=\"#84BE84\" rx=\"3\" ry=\"3\" style=\"stroke: #038048; stroke-width: 1.0;\"/><text fill=\"#000000\" font-family=\"sans-serif\" font-size=\"11\" lengthAdjust=\"spacingAndGlyphs\" textLength=\"49\" x=\"327.5\" y=\"371.5898\">off():void</text><rect fill=\"#FEFECE\" filter=\"url(#f1)\" height=\"73.9102\" style=\"stroke: #A80036; stroke-width: 1.5;\" width=\"102\" x=\"518\" y=\"304\"/><ellipse cx=\"533\" cy=\"320\" fill=\"#ADD1B2\" rx=\"11\" ry=\"11\" style=\"stroke: #A80036; stroke-width: 1.0;\"/><path d=\"M535.9731,325.6431 Q535.3921,325.9419 534.7529,326.0913 Q534.1138,326.2407 533.4082,326.2407 Q530.9014,326.2407 529.5815,324.5889 Q528.2617,322.937 528.2617,319.8159 Q528.2617,316.6865 529.5815,315.0347 Q530.9014,313.3828 533.4082,313.3828 Q534.1138,313.3828 534.7612,313.5322 Q535.4087,313.6816 535.9731,313.9805 L535.9731,316.7031 Q535.3423,316.1221 534.7488,315.8523 Q534.1553,315.5825 533.5244,315.5825 Q532.1797,315.5825 531.4949,316.6492 Q530.8101,317.7158 530.8101,319.8159 Q530.8101,321.9077 531.4949,322.9744 Q532.1797,324.041 533.5244,324.041 Q534.1553,324.041 534.7488,323.7712 Q535.3423,323.5015 535.9731,322.9204 Z \"/><text fill=\"#000000\" font-family=\"sans-serif\" font-size=\"12\" lengthAdjust=\"spacingAndGlyphs\" textLength=\"70\" x=\"547\" y=\"324.5352\">GarageDoor</text><line style=\"stroke: #A80036; stroke-width: 1.5;\" x1=\"519\" x2=\"619\" y1=\"336\" y2=\"336\"/><line style=\"stroke: #A80036; stroke-width: 1.5;\" x1=\"519\" x2=\"619\" y1=\"344\" y2=\"344\"/><ellipse cx=\"529\" cy=\"355.9775\" fill=\"#84BE84\" rx=\"3\" ry=\"3\" style=\"stroke: #038048; stroke-width: 1.0;\"/><text fill=\"#000000\" font-family=\"sans-serif\" font-size=\"11\" lengthAdjust=\"spacingAndGlyphs\" textLength=\"48\" x=\"538\" y=\"358.6348\">up():void</text><ellipse cx=\"529\" cy=\"368.9326\" fill=\"#84BE84\" rx=\"3\" ry=\"3\" style=\"stroke: #038048; stroke-width: 1.0;\"/><text fill=\"#000000\" font-family=\"sans-serif\" font-size=\"11\" lengthAdjust=\"spacingAndGlyphs\" textLength=\"63\" x=\"538\" y=\"371.5898\">down():void</text><rect fill=\"#FEFECE\" filter=\"url(#f1)\" height=\"60.9551\" style=\"stroke: #A80036; stroke-width: 1.5;\" width=\"91\" x=\"434.5\" y=\"21\"/><ellipse cx=\"449.5\" cy=\"37\" fill=\"#B4A7E5\" rx=\"11\" ry=\"11\" style=\"stroke: #A80036; stroke-width: 1.0;\"/><path d=\"M445.4277,32.7651 L445.4277,30.6069 L452.8071,30.6069 L452.8071,32.7651 L450.3418,32.7651 L450.3418,40.8418 L452.8071,40.8418 L452.8071,43 L445.4277,43 L445.4277,40.8418 L447.8931,40.8418 L447.8931,32.7651 Z \"/><text fill=\"#000000\" font-family=\"sans-serif\" font-size=\"12\" font-style=\"italic\" lengthAdjust=\"spacingAndGlyphs\" textLength=\"59\" x=\"463.5\" y=\"41.5352\">Command</text><line style=\"stroke: #A80036; stroke-width: 1.5;\" x1=\"435.5\" x2=\"524.5\" y1=\"53\" y2=\"53\"/><line style=\"stroke: #A80036; stroke-width: 1.5;\" x1=\"435.5\" x2=\"524.5\" y1=\"61\" y2=\"61\"/><ellipse cx=\"445.5\" cy=\"72.9775\" fill=\"#84BE84\" rx=\"3\" ry=\"3\" style=\"stroke: #038048; stroke-width: 1.0;\"/><text fill=\"#000000\" font-family=\"sans-serif\" font-size=\"11\" lengthAdjust=\"spacingAndGlyphs\" textLength=\"50\" x=\"454.5\" y=\"75.6348\">execute()</text><rect fill=\"#FEFECE\" filter=\"url(#f1)\" height=\"86.8652\" style=\"stroke: #A80036; stroke-width: 1.5;\" width=\"185\" x=\"252.5\" y=\"156\"/><ellipse cx=\"290.45\" cy=\"172\" fill=\"#ADD1B2\" rx=\"11\" ry=\"11\" style=\"stroke: #A80036; stroke-width: 1.0;\"/><path d=\"M293.4231,177.6431 Q292.8421,177.9419 292.2029,178.0913 Q291.5638,178.2407 290.8582,178.2407 Q288.3514,178.2407 287.0315,176.5889 Q285.7117,174.937 285.7117,171.8159 Q285.7117,168.6865 287.0315,167.0347 Q288.3514,165.3828 290.8582,165.3828 Q291.5638,165.3828 292.2112,165.5322 Q292.8587,165.6816 293.4231,165.9805 L293.4231,168.7031 Q292.7923,168.1221 292.1988,167.8523 Q291.6053,167.5825 290.9744,167.5825 Q289.6297,167.5825 288.9449,168.6492 Q288.2601,169.7158 288.2601,171.8159 Q288.2601,173.9077 288.9449,174.9744 Q289.6297,176.041 290.9744,176.041 Q291.6053,176.041 292.1988,175.7712 Q292.7923,175.5015 293.4231,174.9204 Z \"/><text fill=\"#000000\" font-family=\"sans-serif\" font-size=\"12\" lengthAdjust=\"spacingAndGlyphs\" textLength=\"102\" x=\"309.55\" y=\"176.5352\">LightOnCommand</text><line style=\"stroke: #A80036; stroke-width: 1.5;\" x1=\"253.5\" x2=\"436.5\" y1=\"188\" y2=\"188\"/><rect fill=\"none\" height=\"6\" style=\"stroke: #C82930; stroke-width: 1.0;\" width=\"6\" x=\"260.5\" y=\"196.9775\"/><text fill=\"#000000\" font-family=\"sans-serif\" font-size=\"11\" lengthAdjust=\"spacingAndGlyphs\" textLength=\"54\" x=\"272.5\" y=\"202.6348\">light:Light</text><line style=\"stroke: #A80036; stroke-width: 1.5;\" x1=\"253.5\" x2=\"436.5\" y1=\"208.9551\" y2=\"208.9551\"/><ellipse cx=\"263.5\" cy=\"220.9326\" fill=\"#84BE84\" rx=\"3\" ry=\"3\" style=\"stroke: #038048; stroke-width: 1.0;\"/><text fill=\"#000000\" font-family=\"sans-serif\" font-size=\"11\" lengthAdjust=\"spacingAndGlyphs\" textLength=\"159\" x=\"272.5\" y=\"223.5898\">LightOnCommand(Light):void</text><ellipse cx=\"263.5\" cy=\"233.8877\" fill=\"#84BE84\" rx=\"3\" ry=\"3\" style=\"stroke: #038048; stroke-width: 1.0;\"/><text fill=\"#000000\" font-family=\"sans-serif\" font-size=\"11\" lengthAdjust=\"spacingAndGlyphs\" textLength=\"76\" x=\"272.5\" y=\"236.5449\">execute():void</text><rect fill=\"#FEFECE\" filter=\"url(#f1)\" height=\"48\" style=\"stroke: #A80036; stroke-width: 1.5;\" width=\"192\" x=\"473\" y=\"175.5\"/><ellipse cx=\"488\" cy=\"191.5\" fill=\"#ADD1B2\" rx=\"11\" ry=\"11\" style=\"stroke: #A80036; stroke-width: 1.0;\"/><path d=\"M490.9731,197.1431 Q490.3921,197.4419 489.7529,197.5913 Q489.1138,197.7407 488.4082,197.7407 Q485.9014,197.7407 484.5815,196.0889 Q483.2617,194.437 483.2617,191.3159 Q483.2617,188.1865 484.5815,186.5347 Q485.9014,184.8828 488.4082,184.8828 Q489.1138,184.8828 489.7612,185.0322 Q490.4087,185.1816 490.9731,185.4805 L490.9731,188.2031 Q490.3423,187.6221 489.7488,187.3523 Q489.1553,187.0825 488.5244,187.0825 Q487.1797,187.0825 486.4949,188.1492 Q485.8101,189.2158 485.8101,191.3159 Q485.8101,193.4077 486.4949,194.4744 Q487.1797,195.541 488.5244,195.541 Q489.1553,195.541 489.7488,195.2712 Q490.3423,195.0015 490.9731,194.4204 Z \"/><text fill=\"#000000\" font-family=\"sans-serif\" font-size=\"12\" lengthAdjust=\"spacingAndGlyphs\" textLength=\"160\" x=\"502\" y=\"196.0352\">GarageDoorOpenCommand</text><line style=\"stroke: #A80036; stroke-width: 1.5;\" x1=\"474\" x2=\"664\" y1=\"207.5\" y2=\"207.5\"/><line style=\"stroke: #A80036; stroke-width: 1.5;\" x1=\"474\" x2=\"664\" y1=\"215.5\" y2=\"215.5\"/><rect fill=\"#FEFECE\" filter=\"url(#f1)\" height=\"86.8652\" style=\"stroke: #A80036; stroke-width: 1.5;\" width=\"160\" x=\"205\" y=\"8\"/><ellipse cx=\"222.25\" cy=\"24\" fill=\"#ADD1B2\" rx=\"11\" ry=\"11\" style=\"stroke: #A80036; stroke-width: 1.0;\"/><path d=\"M225.2231,29.6431 Q224.6421,29.9419 224.0029,30.0913 Q223.3638,30.2407 222.6582,30.2407 Q220.1514,30.2407 218.8315,28.5889 Q217.5117,26.937 217.5117,23.8159 Q217.5117,20.6865 218.8315,19.0347 Q220.1514,17.3828 222.6582,17.3828 Q223.3638,17.3828 224.0112,17.5322 Q224.6587,17.6816 225.2231,17.9805 L225.2231,20.7031 Q224.5923,20.1221 223.9988,19.8523 Q223.4053,19.5825 222.7744,19.5825 Q221.4297,19.5825 220.7449,20.6492 Q220.0601,21.7158 220.0601,23.8159 Q220.0601,25.9077 220.7449,26.9744 Q221.4297,28.041 222.7744,28.041 Q223.4053,28.041 223.9988,27.7712 Q224.5923,27.5015 225.2231,26.9204 Z \"/><text fill=\"#000000\" font-family=\"sans-serif\" font-size=\"12\" lengthAdjust=\"spacingAndGlyphs\" textLength=\"123\" x=\"236.75\" y=\"28.5352\">SimpleRemoteControl</text><line style=\"stroke: #A80036; stroke-width: 1.5;\" x1=\"206\" x2=\"364\" y1=\"40\" y2=\"40\"/><rect fill=\"none\" height=\"6\" style=\"stroke: #C82930; stroke-width: 1.0;\" width=\"6\" x=\"213\" y=\"48.9775\"/><text fill=\"#000000\" font-family=\"sans-serif\" font-size=\"11\" lengthAdjust=\"spacingAndGlyphs\" textLength=\"78\" x=\"225\" y=\"54.6348\">slot:Command</text><line style=\"stroke: #A80036; stroke-width: 1.5;\" x1=\"206\" x2=\"364\" y1=\"60.9551\" y2=\"60.9551\"/><ellipse cx=\"216\" cy=\"72.9326\" fill=\"#84BE84\" rx=\"3\" ry=\"3\" style=\"stroke: #038048; stroke-width: 1.0;\"/><text fill=\"#000000\" font-family=\"sans-serif\" font-size=\"11\" lengthAdjust=\"spacingAndGlyphs\" textLength=\"134\" x=\"225\" y=\"75.5898\">setCommand(Command)</text><ellipse cx=\"216\" cy=\"85.8877\" fill=\"#84BE84\" rx=\"3\" ry=\"3\" style=\"stroke: #038048; stroke-width: 1.0;\"/><text fill=\"#000000\" font-family=\"sans-serif\" font-size=\"11\" lengthAdjust=\"spacingAndGlyphs\" textLength=\"86\" x=\"225\" y=\"88.5449\">buttonPressed()</text><rect fill=\"#FEFECE\" filter=\"url(#f1)\" height=\"48\" style=\"stroke: #A80036; stroke-width: 1.5;\" width=\"64\" x=\"6\" y=\"27.5\"/><ellipse cx=\"21\" cy=\"43.5\" fill=\"#ADD1B2\" rx=\"11\" ry=\"11\" style=\"stroke: #A80036; stroke-width: 1.0;\"/><path d=\"M23.9731,49.1431 Q23.3921,49.4419 22.7529,49.5913 Q22.1138,49.7407 21.4082,49.7407 Q18.9014,49.7407 17.5815,48.0889 Q16.2617,46.437 16.2617,43.3159 Q16.2617,40.1865 17.5815,38.5347 Q18.9014,36.8828 21.4082,36.8828 Q22.1138,36.8828 22.7612,37.0322 Q23.4087,37.1816 23.9731,37.4805 L23.9731,40.2031 Q23.3423,39.6221 22.7488,39.3523 Q22.1553,39.0825 21.5244,39.0825 Q20.1797,39.0825 19.4949,40.1492 Q18.8101,41.2158 18.8101,43.3159 Q18.8101,45.4077 19.4949,46.4744 Q20.1797,47.541 21.5244,47.541 Q22.1553,47.541 22.7488,47.2712 Q23.3423,47.0015 23.9731,46.4204 Z \"/><text fill=\"#000000\" font-family=\"sans-serif\" font-size=\"12\" lengthAdjust=\"spacingAndGlyphs\" textLength=\"32\" x=\"35\" y=\"48.0352\">Client</text><line style=\"stroke: #A80036; stroke-width: 1.5;\" x1=\"7\" x2=\"69\" y1=\"59.5\" y2=\"59.5\"/><line style=\"stroke: #A80036; stroke-width: 1.5;\" x1=\"7\" x2=\"69\" y1=\"67.5\" y2=\"67.5\"/><path d=\"M438.888,96.962 C421.547,115.716 401.447,137.453 384.306,155.992 \" fill=\"none\" style=\"stroke: #A80036; stroke-width: 1.0; stroke-dasharray: 7.0,7.0;\"/><polygon fill=\"none\" points=\"433.963,91.977,452.681,82.045,444.242,101.482,433.963,91.977\" style=\"stroke: #A80036; stroke-width: 1.0;\"/><path d=\"M345,243.113 C345,260.685 345,280.9803 345,298.4415 \" fill=\"none\" style=\"stroke: #A80036; stroke-width: 1.0;\"/><polygon fill=\"#A80036\" points=\"345,303.7633,349,294.7633,345,298.7633,341,294.7633,345,303.7633\" style=\"stroke: #A80036; stroke-width: 1.0;\"/><path d=\"M508.606,99.427 C524.047,124.756 542.426,154.907 554.821,175.24 \" fill=\"none\" style=\"stroke: #A80036; stroke-width: 1.0; stroke-dasharray: 7.0,7.0;\"/><polygon fill=\"none\" points=\"502.444,102.766,498.01,82.045,514.398,95.479,502.444,102.766\" style=\"stroke: #A80036; stroke-width: 1.0;\"/><path d=\"M569,223.536 C569,243.909 569,274.125 569,298.6733 \" fill=\"none\" style=\"stroke: #A80036; stroke-width: 1.0;\"/><polygon fill=\"#A80036\" points=\"569,303.8201,573,294.8201,569,298.8201,565,294.8201,569,303.8201\" style=\"stroke: #A80036; stroke-width: 1.0;\"/><path d=\"M365.361,51.5 C386.643,51.5 407.924,51.5 429.205,51.5 \" fill=\"none\" style=\"stroke: #A80036; stroke-width: 1.0;\"/><polygon fill=\"#A80036\" points=\"434.324,51.5,425.324,47.5,429.324,51.5,425.324,55.5,434.324,51.5\" style=\"stroke: #A80036; stroke-width: 1.0;\"/><path d=\"M70.269,65.775 C76.9949,68.151 84.1307,70.247 91,71.5 C126.399,77.957 165.84,75.606 199.867,70.648 \" fill=\"none\" style=\"stroke: #A80036; stroke-width: 1.0;\"/><polygon fill=\"#A80036\" points=\"204.847,69.898,195.3511,67.285,199.9029,70.6437,196.5442,75.1955,204.847,69.898\" style=\"stroke: #A80036; stroke-width: 1.0;\"/><text fill=\"#000000\" font-family=\"sans-serif\" font-size=\"13\" lengthAdjust=\"spacingAndGlyphs\" textLength=\"91\" x=\"92\" y=\"68.0684\">setCommand()</text><path d=\"M70.0377,51.5 C102.7793,51.5 155.033,51.5 199.823,51.5 \" fill=\"none\" style=\"stroke: #A80036; stroke-width: 1.0;\"/><polygon fill=\"#A80036\" points=\"204.966,51.5,195.966,47.5,199.966,51.5,195.966,55.5,204.966,51.5\" style=\"stroke: #A80036; stroke-width: 1.0;\"/><text fill=\"#000000\" font-family=\"sans-serif\" font-size=\"13\" lengthAdjust=\"spacingAndGlyphs\" textLength=\"98\" x=\"88.5\" y=\"45.0684\">buttonPressed()</text></g></svg>"
      ],
      "text/plain": [
       "<IPython.core.display.SVG object>"
      ]
     },
     "execution_count": 31,
     "metadata": {},
     "output_type": "execute_result"
    }
   ],
   "source": [
    "%%plantuml\n",
    "@startuml\n",
    "\n",
    "class Light {\n",
    "    +on():void\n",
    "    +off():void\n",
    "}\n",
    "\n",
    "class GarageDoor {\n",
    "    +up():void\n",
    "    +down():void\n",
    "}\n",
    "\n",
    "interface Command {\n",
    "    +execute()\n",
    "}\n",
    "\n",
    "class LightOnCommand {\n",
    "    -light:Light\n",
    "    +LightOnCommand(Light):void\n",
    "    +execute():void\n",
    "}\n",
    "\n",
    "Command <|.. LightOnCommand\n",
    "LightOnCommand --> Light\n",
    "\n",
    "class GarageDoorOpenCommand\n",
    "\n",
    "Command <|.. GarageDoorOpenCommand\n",
    "GarageDoorOpenCommand -down-> GarageDoor\n",
    "\n",
    "class SimpleRemoteControl {\n",
    "    -slot:Command\n",
    "    +setCommand(Command)\n",
    "    +buttonPressed()\n",
    "}\n",
    "\n",
    "SimpleRemoteControl -> Command\n",
    "Client -> SimpleRemoteControl:setCommand()\n",
    "Client -> SimpleRemoteControl:buttonPressed()\n",
    "\n",
    "@enduml"
   ]
  },
  {
   "cell_type": "markdown",
   "metadata": {},
   "source": [
    "* 런타임에 결정하도록 함\n",
    "* pseudo Strategy Pattern\n",
    "* 객체로서 비교와 객체의 속성을 비교하는건 서로 다른 것."
   ]
  },
  {
   "cell_type": "code",
   "execution_count": 35,
   "metadata": {
    "collapsed": false
   },
   "outputs": [
    {
     "data": {
      "image/svg+xml": [
       "<svg height=\"243px\" style=\"width:503px;height:243px;\" version=\"1.1\" viewBox=\"0 0 503 243\" width=\"503px\" xmlns=\"http://www.w3.org/2000/svg\" xmlns:xlink=\"http://www.w3.org/1999/xlink\"><defs><filter height=\"300%\" id=\"f1\" width=\"300%\" x=\"-1\" y=\"-1\"><feGaussianBlur result=\"blurOut\" stdDeviation=\"2.0\"/><feColorMatrix in=\"blurOut\" result=\"blurOut2\" type=\"matrix\" values=\"0 0 0 0 0 0 0 0 0 0 0 0 0 0 0 0 0 0 .4 0\"/><feOffset dx=\"4.0\" dy=\"4.0\" in=\"blurOut2\" result=\"blurOut3\"/><feBlend in=\"SourceGraphic\" in2=\"blurOut3\" mode=\"normal\"/></filter></defs><g><line style=\"stroke: #A80036; stroke-width: 1.0; stroke-dasharray: 5.0,5.0;\" x1=\"37\" x2=\"37\" y1=\"38.4883\" y2=\"205.041\"/><line style=\"stroke: #A80036; stroke-width: 1.0; stroke-dasharray: 5.0,5.0;\" x1=\"199\" x2=\"199\" y1=\"38.4883\" y2=\"205.041\"/><line style=\"stroke: #A80036; stroke-width: 1.0; stroke-dasharray: 5.0,5.0;\" x1=\"319\" x2=\"319\" y1=\"38.4883\" y2=\"205.041\"/><line style=\"stroke: #A80036; stroke-width: 1.0; stroke-dasharray: 5.0,5.0;\" x1=\"426\" x2=\"426\" y1=\"38.4883\" y2=\"205.041\"/><rect fill=\"#FEFECE\" filter=\"url(#f1)\" height=\"30.4883\" style=\"stroke: #A80036; stroke-width: 1.5;\" width=\"54\" x=\"8\" y=\"3\"/><text fill=\"#000000\" font-family=\"sans-serif\" font-size=\"14\" lengthAdjust=\"spacingAndGlyphs\" textLength=\"40\" x=\"15\" y=\"23.5352\">Client</text><rect fill=\"#FEFECE\" filter=\"url(#f1)\" height=\"30.4883\" style=\"stroke: #A80036; stroke-width: 1.5;\" width=\"54\" x=\"8\" y=\"204.041\"/><text fill=\"#000000\" font-family=\"sans-serif\" font-size=\"14\" lengthAdjust=\"spacingAndGlyphs\" textLength=\"40\" x=\"15\" y=\"224.5762\">Client</text><rect fill=\"#FEFECE\" filter=\"url(#f1)\" height=\"30.4883\" style=\"stroke: #A80036; stroke-width: 1.5;\" width=\"164\" x=\"115\" y=\"3\"/><text fill=\"#000000\" font-family=\"sans-serif\" font-size=\"14\" lengthAdjust=\"spacingAndGlyphs\" textLength=\"150\" x=\"122\" y=\"23.5352\">SimpleRemoteControl</text><rect fill=\"#FEFECE\" filter=\"url(#f1)\" height=\"30.4883\" style=\"stroke: #A80036; stroke-width: 1.5;\" width=\"164\" x=\"115\" y=\"204.041\"/><text fill=\"#000000\" font-family=\"sans-serif\" font-size=\"14\" lengthAdjust=\"spacingAndGlyphs\" textLength=\"150\" x=\"122\" y=\"224.5762\">SimpleRemoteControl</text><rect fill=\"#FEFECE\" filter=\"url(#f1)\" height=\"30.4883\" style=\"stroke: #A80036; stroke-width: 1.5;\" width=\"48\" x=\"293\" y=\"3\"/><text fill=\"#000000\" font-family=\"sans-serif\" font-size=\"14\" lengthAdjust=\"spacingAndGlyphs\" textLength=\"34\" x=\"300\" y=\"23.5352\">Light</text><rect fill=\"#FEFECE\" filter=\"url(#f1)\" height=\"30.4883\" style=\"stroke: #A80036; stroke-width: 1.5;\" width=\"48\" x=\"293\" y=\"204.041\"/><text fill=\"#000000\" font-family=\"sans-serif\" font-size=\"14\" lengthAdjust=\"spacingAndGlyphs\" textLength=\"34\" x=\"300\" y=\"224.5762\">Light</text><rect fill=\"#FEFECE\" filter=\"url(#f1)\" height=\"30.4883\" style=\"stroke: #A80036; stroke-width: 1.5;\" width=\"139\" x=\"355\" y=\"3\"/><text fill=\"#000000\" font-family=\"sans-serif\" font-size=\"14\" lengthAdjust=\"spacingAndGlyphs\" textLength=\"125\" x=\"362\" y=\"23.5352\">LightOnCommand</text><rect fill=\"#FEFECE\" filter=\"url(#f1)\" height=\"30.4883\" style=\"stroke: #A80036; stroke-width: 1.5;\" width=\"139\" x=\"355\" y=\"204.041\"/><text fill=\"#000000\" font-family=\"sans-serif\" font-size=\"14\" lengthAdjust=\"spacingAndGlyphs\" textLength=\"125\" x=\"362\" y=\"224.5762\">LightOnCommand</text><polygon fill=\"#A80036\" points=\"187,65.4883,197,69.4883,187,73.4883,191,69.4883\" style=\"stroke: #A80036; stroke-width: 1.0;\"/><line style=\"stroke: #A80036; stroke-width: 1.0;\" x1=\"37\" x2=\"193\" y1=\"69.4883\" y2=\"69.4883\"/><text fill=\"#000000\" font-family=\"sans-serif\" font-size=\"13\" lengthAdjust=\"spacingAndGlyphs\" textLength=\"87\" x=\"44\" y=\"65.0566\">remote=new()</text><polygon fill=\"#A80036\" points=\"307,94.7988,317,98.7988,307,102.7988,311,98.7988\" style=\"stroke: #A80036; stroke-width: 1.0;\"/><line style=\"stroke: #A80036; stroke-width: 1.0;\" x1=\"37\" x2=\"313\" y1=\"98.7988\" y2=\"98.7988\"/><text fill=\"#000000\" font-family=\"sans-serif\" font-size=\"13\" lengthAdjust=\"spacingAndGlyphs\" textLength=\"72\" x=\"44\" y=\"94.3672\">light=new()</text><polygon fill=\"#A80036\" points=\"414.5,124.1094,424.5,128.1094,414.5,132.1094,418.5,128.1094\" style=\"stroke: #A80036; stroke-width: 1.0;\"/><line style=\"stroke: #A80036; stroke-width: 1.0;\" x1=\"37\" x2=\"420.5\" y1=\"128.1094\" y2=\"128.1094\"/><text fill=\"#000000\" font-family=\"sans-serif\" font-size=\"13\" lengthAdjust=\"spacingAndGlyphs\" textLength=\"90\" x=\"44\" y=\"123.6777\">lightOn=new()</text><polygon fill=\"#A80036\" points=\"187,153.4199,197,157.4199,187,161.4199,191,157.4199\" style=\"stroke: #A80036; stroke-width: 1.0;\"/><line style=\"stroke: #A80036; stroke-width: 1.0;\" x1=\"37\" x2=\"193\" y1=\"157.4199\" y2=\"157.4199\"/><text fill=\"#000000\" font-family=\"sans-serif\" font-size=\"13\" lengthAdjust=\"spacingAndGlyphs\" textLength=\"138\" x=\"44\" y=\"152.9883\">setCommand(lightOn)</text><polygon fill=\"#A80036\" points=\"187,182.7305,197,186.7305,187,190.7305,191,186.7305\" style=\"stroke: #A80036; stroke-width: 1.0;\"/><line style=\"stroke: #A80036; stroke-width: 1.0;\" x1=\"37\" x2=\"193\" y1=\"186.7305\" y2=\"186.7305\"/><text fill=\"#000000\" font-family=\"sans-serif\" font-size=\"13\" lengthAdjust=\"spacingAndGlyphs\" textLength=\"98\" x=\"44\" y=\"182.2988\">buttonPressed()</text></g></svg>"
      ],
      "text/plain": [
       "<IPython.core.display.SVG object>"
      ]
     },
     "execution_count": 35,
     "metadata": {},
     "output_type": "execute_result"
    }
   ],
   "source": [
    "%%plantuml\n",
    "@startuml\n",
    "\n",
    "Client -> SimpleRemoteControl:remote=new()\n",
    "Client -> Light:light=new()\n",
    "Client -> LightOnCommand:lightOn=new()\n",
    "Client -> SimpleRemoteControl:setCommand(lightOn)\n",
    "Client -> SimpleRemoteControl:buttonPressed()\n",
    "\n",
    "@enduml"
   ]
  },
  {
   "cell_type": "markdown",
   "metadata": {},
   "source": [
    "* Sequence Diagram"
   ]
  },
  {
   "cell_type": "code",
   "execution_count": null,
   "metadata": {
    "collapsed": true
   },
   "outputs": [],
   "source": []
  }
 ],
 "metadata": {
  "kernelspec": {
   "display_name": "Python 2",
   "language": "python",
   "name": "python2"
  },
  "language_info": {
   "codemirror_mode": {
    "name": "ipython",
    "version": 2
   },
   "file_extension": ".py",
   "mimetype": "text/x-python",
   "name": "python",
   "nbconvert_exporter": "python",
   "pygments_lexer": "ipython2",
   "version": "2.7.10"
  }
 },
 "nbformat": 4,
 "nbformat_minor": 0
}
