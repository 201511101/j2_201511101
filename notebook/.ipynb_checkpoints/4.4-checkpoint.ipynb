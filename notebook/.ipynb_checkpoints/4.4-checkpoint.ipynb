{
 "cells": [
  {
   "cell_type": "code",
   "execution_count": 3,
   "metadata": {
    "collapsed": false,
    "scrolled": true
   },
   "outputs": [
    {
     "name": "stdout",
     "output_type": "stream",
     "text": [
      "Installed plantuml_magics.py. To use it, type:\n",
      "  %load_ext plantuml_magics\n"
     ]
    },
    {
     "name": "stderr",
     "output_type": "stream",
     "text": [
      "/usr/local/lib/python2.7/site-packages/IPython/core/magics/extension.py:47: UserWarning: %install_ext` is deprecated, please distribute your extension(s)as a python packages.\n",
      "  \"as a python packages.\", UserWarning)\n"
     ]
    }
   ],
   "source": [
    "%install_ext https://raw.githubusercontent.com/sberke/ipython-plantuml/master/plantuml_magics.py"
   ]
  },
  {
   "cell_type": "code",
   "execution_count": 6,
   "metadata": {
    "collapsed": false
   },
   "outputs": [
    {
     "name": "stdout",
     "output_type": "stream",
     "text": [
      "The plantuml_magics extension is already loaded. To reload it, use:\n",
      "  %reload_ext plantuml_magics\n"
     ]
    }
   ],
   "source": [
    "%load_ext plantuml_magics"
   ]
  },
  {
   "cell_type": "code",
   "execution_count": 10,
   "metadata": {
    "collapsed": false
   },
   "outputs": [
    {
     "data": {
      "image/svg+xml": [
       "<svg height=\"333px\" style=\"width:355px;height:333px;\" version=\"1.1\" viewBox=\"0 0 355 333\" width=\"355px\" xmlns=\"http://www.w3.org/2000/svg\" xmlns:xlink=\"http://www.w3.org/1999/xlink\"><defs><filter height=\"300%\" id=\"f1\" width=\"300%\" x=\"-1\" y=\"-1\"><feGaussianBlur result=\"blurOut\" stdDeviation=\"2.0\"/><feColorMatrix in=\"blurOut\" result=\"blurOut2\" type=\"matrix\" values=\"0 0 0 0 0 0 0 0 0 0 0 0 0 0 0 0 0 0 .4 0\"/><feOffset dx=\"4.0\" dy=\"4.0\" in=\"blurOut2\" result=\"blurOut3\"/><feBlend in=\"SourceGraphic\" in2=\"blurOut3\" mode=\"normal\"/></filter></defs><g><rect fill=\"#FEFECE\" filter=\"url(#f1)\" height=\"73.9102\" style=\"stroke: #A80036; stroke-width: 1.5;\" width=\"99\" x=\"35\" y=\"8\"/><ellipse cx=\"50.45\" cy=\"24\" fill=\"#ADD1B2\" rx=\"11\" ry=\"11\" style=\"stroke: #A80036; stroke-width: 1.0;\"/><path d=\"M53.4231,29.6431 Q52.8421,29.9419 52.2029,30.0913 Q51.5638,30.2407 50.8582,30.2407 Q48.3514,30.2407 47.0315,28.5889 Q45.7117,26.937 45.7117,23.8159 Q45.7117,20.6865 47.0315,19.0347 Q48.3514,17.3828 50.8582,17.3828 Q51.5638,17.3828 52.2112,17.5322 Q52.8587,17.6816 53.4231,17.9805 L53.4231,20.7031 Q52.7923,20.1221 52.1988,19.8523 Q51.6053,19.5825 50.9744,19.5825 Q49.6297,19.5825 48.9449,20.6492 Q48.2601,21.7158 48.2601,23.8159 Q48.2601,25.9077 48.9449,26.9744 Q49.6297,28.041 50.9744,28.041 Q51.6053,28.041 52.1988,27.7712 Q52.7923,27.5015 53.4231,26.9204 Z \"/><text fill=\"#000000\" font-family=\"sans-serif\" font-size=\"12\" lengthAdjust=\"spacingAndGlyphs\" textLength=\"66\" x=\"64.55\" y=\"28.5352\">Component</text><line style=\"stroke: #A80036; stroke-width: 1.5;\" x1=\"36\" x2=\"133\" y1=\"40\" y2=\"40\"/><line style=\"stroke: #A80036; stroke-width: 1.5;\" x1=\"36\" x2=\"133\" y1=\"48\" y2=\"48\"/><text fill=\"#000000\" font-family=\"sans-serif\" font-size=\"11\" lengthAdjust=\"spacingAndGlyphs\" textLength=\"87\" x=\"41\" y=\"62.6348\">getDescription()</text><text fill=\"#000000\" font-family=\"sans-serif\" font-size=\"11\" lengthAdjust=\"spacingAndGlyphs\" textLength=\"31\" x=\"41\" y=\"75.5898\">cost()</text><rect fill=\"#FEFECE\" filter=\"url(#f1)\" height=\"73.9102\" style=\"stroke: #A80036; stroke-width: 1.5;\" width=\"138\" x=\"15.5\" y=\"142\"/><ellipse cx=\"52.55\" cy=\"158\" fill=\"#ADD1B2\" rx=\"11\" ry=\"11\" style=\"stroke: #A80036; stroke-width: 1.0;\"/><path d=\"M55.5231,163.6431 Q54.9421,163.9419 54.3029,164.0913 Q53.6638,164.2407 52.9582,164.2407 Q50.4514,164.2407 49.1315,162.5889 Q47.8117,160.937 47.8117,157.8159 Q47.8117,154.6865 49.1315,153.0347 Q50.4514,151.3828 52.9582,151.3828 Q53.6638,151.3828 54.3112,151.5322 Q54.9587,151.6816 55.5231,151.9805 L55.5231,154.7031 Q54.8923,154.1221 54.2988,153.8523 Q53.7053,153.5825 53.0744,153.5825 Q51.7297,153.5825 51.0449,154.6492 Q50.3601,155.7158 50.3601,157.8159 Q50.3601,159.9077 51.0449,160.9744 Q51.7297,162.041 53.0744,162.041 Q53.7053,162.041 54.2988,161.7712 Q54.8923,161.5015 55.5231,160.9204 Z \"/><text fill=\"#000000\" font-family=\"sans-serif\" font-size=\"12\" lengthAdjust=\"spacingAndGlyphs\" textLength=\"57\" x=\"71.45\" y=\"162.5352\">Decorator</text><line style=\"stroke: #A80036; stroke-width: 1.5;\" x1=\"16.5\" x2=\"152.5\" y1=\"174\" y2=\"174\"/><text fill=\"#000000\" font-family=\"sans-serif\" font-size=\"11\" lengthAdjust=\"spacingAndGlyphs\" textLength=\"72\" x=\"21.5\" y=\"188.6348\">c:Component</text><text fill=\"#000000\" font-family=\"sans-serif\" font-size=\"11\" lengthAdjust=\"spacingAndGlyphs\" textLength=\"126\" x=\"21.5\" y=\"201.5898\">abstract getDescription</text><line style=\"stroke: #A80036; stroke-width: 1.5;\" x1=\"16.5\" x2=\"152.5\" y1=\"207.9102\" y2=\"207.9102\"/><rect fill=\"#FEFECE\" filter=\"url(#f1)\" height=\"48\" style=\"stroke: #A80036; stroke-width: 1.5;\" width=\"157\" x=\"6\" y=\"276\"/><ellipse cx=\"21\" cy=\"292\" fill=\"#ADD1B2\" rx=\"11\" ry=\"11\" style=\"stroke: #A80036; stroke-width: 1.0;\"/><path d=\"M23.9731,297.6431 Q23.3921,297.9419 22.7529,298.0913 Q22.1138,298.2407 21.4082,298.2407 Q18.9014,298.2407 17.5815,296.5889 Q16.2617,294.937 16.2617,291.8159 Q16.2617,288.6865 17.5815,287.0347 Q18.9014,285.3828 21.4082,285.3828 Q22.1138,285.3828 22.7612,285.5322 Q23.4087,285.6816 23.9731,285.9805 L23.9731,288.7031 Q23.3423,288.1221 22.7488,287.8523 Q22.1553,287.5825 21.5244,287.5825 Q20.1797,287.5825 19.4949,288.6492 Q18.8101,289.7158 18.8101,291.8159 Q18.8101,293.9077 19.4949,294.9744 Q20.1797,296.041 21.5244,296.041 Q22.1553,296.041 22.7488,295.7712 Q23.3423,295.5015 23.9731,294.9204 Z \"/><text fill=\"#000000\" font-family=\"sans-serif\" font-size=\"12\" lengthAdjust=\"spacingAndGlyphs\" textLength=\"125\" x=\"35\" y=\"296.5352\">ConcreteComponent1</text><line style=\"stroke: #A80036; stroke-width: 1.5;\" x1=\"7\" x2=\"162\" y1=\"308\" y2=\"308\"/><line style=\"stroke: #A80036; stroke-width: 1.5;\" x1=\"7\" x2=\"162\" y1=\"316\" y2=\"316\"/><rect fill=\"#FEFECE\" filter=\"url(#f1)\" height=\"48\" style=\"stroke: #A80036; stroke-width: 1.5;\" width=\"157\" x=\"189\" y=\"155\"/><ellipse cx=\"204\" cy=\"171\" fill=\"#ADD1B2\" rx=\"11\" ry=\"11\" style=\"stroke: #A80036; stroke-width: 1.0;\"/><path d=\"M206.9731,176.6431 Q206.3921,176.9419 205.7529,177.0913 Q205.1138,177.2407 204.4082,177.2407 Q201.9014,177.2407 200.5815,175.5889 Q199.2617,173.937 199.2617,170.8159 Q199.2617,167.6865 200.5815,166.0347 Q201.9014,164.3828 204.4082,164.3828 Q205.1138,164.3828 205.7612,164.5322 Q206.4087,164.6816 206.9731,164.9805 L206.9731,167.7031 Q206.3423,167.1221 205.7488,166.8523 Q205.1553,166.5825 204.5244,166.5825 Q203.1797,166.5825 202.4949,167.6492 Q201.8101,168.7158 201.8101,170.8159 Q201.8101,172.9077 202.4949,173.9744 Q203.1797,175.041 204.5244,175.041 Q205.1553,175.041 205.7488,174.7712 Q206.3423,174.5015 206.9731,173.9204 Z \"/><text fill=\"#000000\" font-family=\"sans-serif\" font-size=\"12\" lengthAdjust=\"spacingAndGlyphs\" textLength=\"125\" x=\"218\" y=\"175.5352\">ConcreteComponent2</text><line style=\"stroke: #A80036; stroke-width: 1.5;\" x1=\"190\" x2=\"345\" y1=\"187\" y2=\"187\"/><line style=\"stroke: #A80036; stroke-width: 1.5;\" x1=\"190\" x2=\"345\" y1=\"195\" y2=\"195\"/><path d=\"M84.5,236.0684 C84.5,250.1232 84.5,264.4342 84.5,275.8505 \" fill=\"none\" style=\"stroke: #A80036; stroke-width: 1.0;\"/><polygon fill=\"none\" points=\"77.5001,236.0269,84.5,216.027,91.5001,236.0268,77.5001,236.0269\" style=\"stroke: #A80036; stroke-width: 1.0;\"/><path d=\"M150.534,93.631 C179.467,114.501 212.092,138.034 235.52,154.932 \" fill=\"none\" style=\"stroke: #A80036; stroke-width: 1.0;\"/><polygon fill=\"none\" points=\"146.148,99.098,134.022,81.721,154.338,87.744,146.148,99.098\" style=\"stroke: #A80036; stroke-width: 1.0;\"/><path d=\"M58.4995,102.379 C57.7992,115.796 58.5732,129.755 60.8215,141.974 \" fill=\"none\" style=\"stroke: #A80036; stroke-width: 1.0;\"/><polygon fill=\"none\" points=\"51.5943,101.149,60.8135,82.07,65.5043,102.733,51.5943,101.149\" style=\"stroke: #A80036; stroke-width: 1.0;\"/><path d=\"M84.5,128.791 C84.5,113.294 84.5,96.475 84.5,82.07 \" fill=\"none\" style=\"stroke: #A80036; stroke-width: 1.0;\"/><polygon fill=\"#A80036\" points=\"84.5,141.974,88.5,135.974,84.5,129.974,80.5,135.974,84.5,141.974\" style=\"stroke: #A80036; stroke-width: 1.0;\"/><path d=\"M108.179,141.974 C111.283,125.1 111.577,104.908 109.058,87.408 \" fill=\"none\" style=\"stroke: #A80036; stroke-width: 1.0;\"/><polygon fill=\"#A80036\" points=\"108.187,82.07,105.6892,91.5969,108.9925,87.0047,113.5847,90.308,108.187,82.07\" style=\"stroke: #A80036; stroke-width: 1.0;\"/></g></svg>"
      ],
      "text/plain": [
       "<IPython.core.display.SVG object>"
      ]
     },
     "execution_count": 10,
     "metadata": {},
     "output_type": "execute_result"
    }
   ],
   "source": [
    "%%plantuml\n",
    "@startuml\n",
    "class Component {\n",
    "    getDescription()\n",
    "    cost()\n",
    "    }\n",
    "    \n",
    "class Decorator {\n",
    "    c:Component\n",
    "    abstract getDescription\n",
    "    }\n",
    "    \n",
    "Decorator <|-- ConcreteComponent1\n",
    "Component <|-- ConcreteComponent2\n",
    "Component <|-- Decorator\n",
    "Decorator *-- Component\n",
    "Decorator --> Component\n",
    "@enduml"
   ]
  },
  {
   "cell_type": "code",
   "execution_count": null,
   "metadata": {
    "collapsed": true
   },
   "outputs": [],
   "source": []
  }
 ],
 "metadata": {
  "kernelspec": {
   "display_name": "Python 2",
   "language": "python",
   "name": "python2"
  },
  "language_info": {
   "codemirror_mode": {
    "name": "ipython",
    "version": 2
   },
   "file_extension": ".py",
   "mimetype": "text/x-python",
   "name": "python",
   "nbconvert_exporter": "python",
   "pygments_lexer": "ipython2",
   "version": "2.7.10"
  }
 },
 "nbformat": 4,
 "nbformat_minor": 0
}
