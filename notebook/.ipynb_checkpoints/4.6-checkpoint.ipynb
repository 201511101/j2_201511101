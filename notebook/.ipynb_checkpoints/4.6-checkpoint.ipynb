{
 "cells": [
  {
   "cell_type": "code",
   "execution_count": 1,
   "metadata": {
    "collapsed": false
   },
   "outputs": [
    {
     "name": "stdout",
     "output_type": "stream",
     "text": [
      "Installed plantuml_magics.py. To use it, type:\n",
      "  %load_ext plantuml_magics\n"
     ]
    },
    {
     "name": "stderr",
     "output_type": "stream",
     "text": [
      "/usr/local/lib/python2.7/site-packages/IPython/core/magics/extension.py:47: UserWarning: %install_ext` is deprecated, please distribute your extension(s)as a python packages.\n",
      "  \"as a python packages.\", UserWarning)\n"
     ]
    }
   ],
   "source": [
    "%install_ext https://raw.githubusercontent.com/sberke/ipython-plantuml/master/plantuml_magics.py"
   ]
  },
  {
   "cell_type": "code",
   "execution_count": 2,
   "metadata": {
    "collapsed": true
   },
   "outputs": [],
   "source": [
    "%load_ext plantuml_magics"
   ]
  },
  {
   "cell_type": "code",
   "execution_count": 3,
   "metadata": {
    "collapsed": false
   },
   "outputs": [
    {
     "data": {
      "image/svg+xml": [
       "<svg height=\"128px\" style=\"width:384px;height:128px;\" version=\"1.1\" viewBox=\"0 0 384 128\" width=\"384px\" xmlns=\"http://www.w3.org/2000/svg\" xmlns:xlink=\"http://www.w3.org/1999/xlink\"><defs><filter height=\"300%\" id=\"f1\" width=\"300%\" x=\"-1\" y=\"-1\"><feGaussianBlur result=\"blurOut\" stdDeviation=\"2.0\"/><feColorMatrix in=\"blurOut\" result=\"blurOut2\" type=\"matrix\" values=\"0 0 0 0 0 0 0 0 0 0 0 0 0 0 0 0 0 0 .4 0\"/><feOffset dx=\"4.0\" dy=\"4.0\" in=\"blurOut2\" result=\"blurOut3\"/><feBlend in=\"SourceGraphic\" in2=\"blurOut3\" mode=\"normal\"/></filter></defs><g><rect fill=\"#FEFECE\" filter=\"url(#f1)\" height=\"48\" style=\"stroke: #A80036; stroke-width: 1.5;\" width=\"64\" x=\"6\" y=\"71\"/><ellipse cx=\"21\" cy=\"87\" fill=\"#ADD1B2\" rx=\"11\" ry=\"11\" style=\"stroke: #A80036; stroke-width: 1.0;\"/><path d=\"M23.9731,92.6431 Q23.3921,92.9419 22.7529,93.0913 Q22.1138,93.2407 21.4082,93.2407 Q18.9014,93.2407 17.5815,91.5889 Q16.2617,89.937 16.2617,86.8159 Q16.2617,83.6865 17.5815,82.0347 Q18.9014,80.3828 21.4082,80.3828 Q22.1138,80.3828 22.7612,80.5322 Q23.4087,80.6816 23.9731,80.9805 L23.9731,83.7031 Q23.3423,83.1221 22.7488,82.8523 Q22.1553,82.5825 21.5244,82.5825 Q20.1797,82.5825 19.4949,83.6492 Q18.8101,84.7158 18.8101,86.8159 Q18.8101,88.9077 19.4949,89.9744 Q20.1797,91.041 21.5244,91.041 Q22.1553,91.041 22.7488,90.7712 Q23.3423,90.5015 23.9731,89.9204 Z \"/><text fill=\"#000000\" font-family=\"sans-serif\" font-size=\"12\" lengthAdjust=\"spacingAndGlyphs\" textLength=\"32\" x=\"35\" y=\"91.5352\">Client</text><line style=\"stroke: #A80036; stroke-width: 1.5;\" x1=\"7\" x2=\"69\" y1=\"103\" y2=\"103\"/><line style=\"stroke: #A80036; stroke-width: 1.5;\" x1=\"7\" x2=\"69\" y1=\"111\" y2=\"111\"/><rect fill=\"#FEFECE\" filter=\"url(#f1)\" height=\"48\" style=\"stroke: #A80036; stroke-width: 1.5;\" width=\"104\" x=\"271\" y=\"71\"/><ellipse cx=\"286\" cy=\"87\" fill=\"#ADD1B2\" rx=\"11\" ry=\"11\" style=\"stroke: #A80036; stroke-width: 1.0;\"/><path d=\"M288.9731,92.6431 Q288.3921,92.9419 287.7529,93.0913 Q287.1138,93.2407 286.4082,93.2407 Q283.9014,93.2407 282.5815,91.5889 Q281.2617,89.937 281.2617,86.8159 Q281.2617,83.6865 282.5815,82.0347 Q283.9014,80.3828 286.4082,80.3828 Q287.1138,80.3828 287.7612,80.5322 Q288.4087,80.6816 288.9731,80.9805 L288.9731,83.7031 Q288.3423,83.1221 287.7488,82.8523 Q287.1553,82.5825 286.5244,82.5825 Q285.1797,82.5825 284.4949,83.6492 Q283.8101,84.7158 283.8101,86.8159 Q283.8101,88.9077 284.4949,89.9744 Q285.1797,91.041 286.5244,91.041 Q287.1553,91.041 287.7488,90.7712 Q288.3423,90.5015 288.9731,89.9204 Z \"/><text fill=\"#000000\" font-family=\"sans-serif\" font-size=\"12\" lengthAdjust=\"spacingAndGlyphs\" textLength=\"72\" x=\"300\" y=\"91.5352\">MallardDuck</text><line style=\"stroke: #A80036; stroke-width: 1.5;\" x1=\"272\" x2=\"374\" y1=\"103\" y2=\"103\"/><line style=\"stroke: #A80036; stroke-width: 1.5;\" x1=\"272\" x2=\"374\" y1=\"111\" y2=\"111\"/><rect fill=\"#FEFECE\" filter=\"url(#f1)\" height=\"48\" style=\"stroke: #A80036; stroke-width: 1.5;\" width=\"96\" x=\"140\" y=\"71\"/><ellipse cx=\"155\" cy=\"87\" fill=\"#ADD1B2\" rx=\"11\" ry=\"11\" style=\"stroke: #A80036; stroke-width: 1.0;\"/><path d=\"M157.9731,92.6431 Q157.3921,92.9419 156.7529,93.0913 Q156.1138,93.2407 155.4082,93.2407 Q152.9014,93.2407 151.5815,91.5889 Q150.2617,89.937 150.2617,86.8159 Q150.2617,83.6865 151.5815,82.0347 Q152.9014,80.3828 155.4082,80.3828 Q156.1138,80.3828 156.7612,80.5322 Q157.4087,80.6816 157.9731,80.9805 L157.9731,83.7031 Q157.3423,83.1221 156.7488,82.8523 Q156.1553,82.5825 155.5244,82.5825 Q154.1797,82.5825 153.4949,83.6492 Q152.8101,84.7158 152.8101,86.8159 Q152.8101,88.9077 153.4949,89.9744 Q154.1797,91.041 155.5244,91.041 Q156.1553,91.041 156.7488,90.7712 Q157.3423,90.5015 157.9731,89.9204 Z \"/><text fill=\"#000000\" font-family=\"sans-serif\" font-size=\"12\" lengthAdjust=\"spacingAndGlyphs\" textLength=\"64\" x=\"169\" y=\"91.5352\">DecoyDuck</text><line style=\"stroke: #A80036; stroke-width: 1.5;\" x1=\"141\" x2=\"235\" y1=\"103\" y2=\"103\"/><line style=\"stroke: #A80036; stroke-width: 1.5;\" x1=\"141\" x2=\"235\" y1=\"111\" y2=\"111\"/><path d=\"M70.2996,72.2485 C92.3235,58.1745 122.781,41.4226 152.5,34 C199.497,22.2621 251.686,46.7519 285.793,68.112 \" fill=\"none\" style=\"stroke: #A80036; stroke-width: 1.0;\"/><polygon fill=\"#A80036\" points=\"290.275,70.9666,284.8322,62.7583,286.0576,68.2809,280.535,69.5063,290.275,70.9666\" style=\"stroke: #A80036; stroke-width: 1.0;\"/><text fill=\"#000000\" font-family=\"sans-serif\" font-size=\"13\" lengthAdjust=\"spacingAndGlyphs\" textLength=\"33\" x=\"153.5\" y=\"37.5684\">new()</text><path d=\"M70.1788,95 C88.9867,95 113.198,95 134.776,95 \" fill=\"none\" style=\"stroke: #A80036; stroke-width: 1.0;\"/><polygon fill=\"#A80036\" points=\"139.91,95,130.91,91,134.91,95,130.91,99,139.91,95\" style=\"stroke: #A80036; stroke-width: 1.0;\"/><text fill=\"#000000\" font-family=\"sans-serif\" font-size=\"13\" lengthAdjust=\"spacingAndGlyphs\" textLength=\"33\" x=\"88.5\" y=\"88.5684\">new()</text></g></svg>"
      ],
      "text/plain": [
       "<IPython.core.display.SVG object>"
      ]
     },
     "execution_count": 3,
     "metadata": {},
     "output_type": "execute_result"
    }
   ],
   "source": [
    "%%plantuml\n",
    "@startuml\n",
    "class Client\n",
    "class MallardDuck\n",
    "class DecoyDuck\n",
    "Client -> MallardDuck:new()\n",
    "Client -> DecoyDuck:new()\n",
    "@enduml"
   ]
  },
  {
   "cell_type": "code",
   "execution_count": 6,
   "metadata": {
    "collapsed": false
   },
   "outputs": [
    {
     "data": {
      "image/svg+xml": [
       "<svg height=\"186px\" style=\"width:303px;height:186px;\" version=\"1.1\" viewBox=\"0 0 303 186\" width=\"303px\" xmlns=\"http://www.w3.org/2000/svg\" xmlns:xlink=\"http://www.w3.org/1999/xlink\"><defs><filter height=\"300%\" id=\"f1\" width=\"300%\" x=\"-1\" y=\"-1\"><feGaussianBlur result=\"blurOut\" stdDeviation=\"2.0\"/><feColorMatrix in=\"blurOut\" result=\"blurOut2\" type=\"matrix\" values=\"0 0 0 0 0 0 0 0 0 0 0 0 0 0 0 0 0 0 .4 0\"/><feOffset dx=\"4.0\" dy=\"4.0\" in=\"blurOut2\" result=\"blurOut3\"/><feBlend in=\"SourceGraphic\" in2=\"blurOut3\" mode=\"normal\"/></filter></defs><g><rect fill=\"#FEFECE\" filter=\"url(#f1)\" height=\"60.9551\" style=\"stroke: #A80036; stroke-width: 1.5;\" width=\"98\" x=\"20\" y=\"8\"/><ellipse cx=\"45.35\" cy=\"24\" fill=\"#ADD1B2\" rx=\"11\" ry=\"11\" style=\"stroke: #A80036; stroke-width: 1.0;\"/><path d=\"M48.3231,29.6431 Q47.7421,29.9419 47.1029,30.0913 Q46.4638,30.2407 45.7582,30.2407 Q43.2514,30.2407 41.9315,28.5889 Q40.6117,26.937 40.6117,23.8159 Q40.6117,20.6865 41.9315,19.0347 Q43.2514,17.3828 45.7582,17.3828 Q46.4638,17.3828 47.1112,17.5322 Q47.7587,17.6816 48.3231,17.9805 L48.3231,20.7031 Q47.6923,20.1221 47.0988,19.8523 Q46.5053,19.5825 45.8744,19.5825 Q44.5297,19.5825 43.8449,20.6492 Q43.1601,21.7158 43.1601,23.8159 Q43.1601,25.9077 43.8449,26.9744 Q44.5297,28.041 45.8744,28.041 Q46.5053,28.041 47.0988,27.7712 Q47.6923,27.5015 48.3231,26.9204 Z \"/><text fill=\"#000000\" font-family=\"sans-serif\" font-size=\"12\" lengthAdjust=\"spacingAndGlyphs\" textLength=\"43\" x=\"61.65\" y=\"28.5352\">Creator</text><line style=\"stroke: #A80036; stroke-width: 1.5;\" x1=\"21\" x2=\"117\" y1=\"40\" y2=\"40\"/><line style=\"stroke: #A80036; stroke-width: 1.5;\" x1=\"21\" x2=\"117\" y1=\"48\" y2=\"48\"/><text fill=\"#000000\" font-family=\"sans-serif\" font-size=\"11\" lengthAdjust=\"spacingAndGlyphs\" textLength=\"86\" x=\"26\" y=\"62.6348\">factoryMethod()</text><rect fill=\"#FEFECE\" filter=\"url(#f1)\" height=\"48\" style=\"stroke: #A80036; stroke-width: 1.5;\" width=\"76\" x=\"193\" y=\"14.5\"/><ellipse cx=\"208\" cy=\"30.5\" fill=\"#ADD1B2\" rx=\"11\" ry=\"11\" style=\"stroke: #A80036; stroke-width: 1.0;\"/><path d=\"M210.9731,36.1431 Q210.3921,36.4419 209.7529,36.5913 Q209.1138,36.7407 208.4082,36.7407 Q205.9014,36.7407 204.5815,35.0889 Q203.2617,33.437 203.2617,30.3159 Q203.2617,27.1865 204.5815,25.5347 Q205.9014,23.8828 208.4082,23.8828 Q209.1138,23.8828 209.7612,24.0322 Q210.4087,24.1816 210.9731,24.4805 L210.9731,27.2031 Q210.3423,26.6221 209.7488,26.3523 Q209.1553,26.0825 208.5244,26.0825 Q207.1797,26.0825 206.4949,27.1492 Q205.8101,28.2158 205.8101,30.3159 Q205.8101,32.4077 206.4949,33.4744 Q207.1797,34.541 208.5244,34.541 Q209.1553,34.541 209.7488,34.2712 Q210.3423,34.0015 210.9731,33.4204 Z \"/><text fill=\"#000000\" font-family=\"sans-serif\" font-size=\"12\" lengthAdjust=\"spacingAndGlyphs\" textLength=\"44\" x=\"222\" y=\"35.0352\">Product</text><line style=\"stroke: #A80036; stroke-width: 1.5;\" x1=\"194\" x2=\"268\" y1=\"46.5\" y2=\"46.5\"/><line style=\"stroke: #A80036; stroke-width: 1.5;\" x1=\"194\" x2=\"268\" y1=\"54.5\" y2=\"54.5\"/><rect fill=\"#FEFECE\" filter=\"url(#f1)\" height=\"48\" style=\"stroke: #A80036; stroke-width: 1.5;\" width=\"126\" x=\"6\" y=\"129\"/><ellipse cx=\"21\" cy=\"145\" fill=\"#ADD1B2\" rx=\"11\" ry=\"11\" style=\"stroke: #A80036; stroke-width: 1.0;\"/><path d=\"M23.9731,150.6431 Q23.3921,150.9419 22.7529,151.0913 Q22.1138,151.2407 21.4082,151.2407 Q18.9014,151.2407 17.5815,149.5889 Q16.2617,147.937 16.2617,144.8159 Q16.2617,141.6865 17.5815,140.0347 Q18.9014,138.3828 21.4082,138.3828 Q22.1138,138.3828 22.7612,138.5322 Q23.4087,138.6816 23.9731,138.9805 L23.9731,141.7031 Q23.3423,141.1221 22.7488,140.8523 Q22.1553,140.5825 21.5244,140.5825 Q20.1797,140.5825 19.4949,141.6492 Q18.8101,142.7158 18.8101,144.8159 Q18.8101,146.9077 19.4949,147.9744 Q20.1797,149.041 21.5244,149.041 Q22.1553,149.041 22.7488,148.7712 Q23.3423,148.5015 23.9731,147.9204 Z \"/><text fill=\"#000000\" font-family=\"sans-serif\" font-size=\"12\" lengthAdjust=\"spacingAndGlyphs\" textLength=\"94\" x=\"35\" y=\"149.5352\">ConcreteCreator</text><line style=\"stroke: #A80036; stroke-width: 1.5;\" x1=\"7\" x2=\"131\" y1=\"161\" y2=\"161\"/><line style=\"stroke: #A80036; stroke-width: 1.5;\" x1=\"7\" x2=\"131\" y1=\"169\" y2=\"169\"/><rect fill=\"#FEFECE\" filter=\"url(#f1)\" height=\"48\" style=\"stroke: #A80036; stroke-width: 1.5;\" width=\"127\" x=\"167.5\" y=\"129\"/><ellipse cx=\"182.5\" cy=\"145\" fill=\"#ADD1B2\" rx=\"11\" ry=\"11\" style=\"stroke: #A80036; stroke-width: 1.0;\"/><path d=\"M185.4731,150.6431 Q184.8921,150.9419 184.2529,151.0913 Q183.6138,151.2407 182.9082,151.2407 Q180.4014,151.2407 179.0815,149.5889 Q177.7617,147.937 177.7617,144.8159 Q177.7617,141.6865 179.0815,140.0347 Q180.4014,138.3828 182.9082,138.3828 Q183.6138,138.3828 184.2612,138.5322 Q184.9087,138.6816 185.4731,138.9805 L185.4731,141.7031 Q184.8423,141.1221 184.2488,140.8523 Q183.6553,140.5825 183.0244,140.5825 Q181.6797,140.5825 180.9949,141.6492 Q180.3101,142.7158 180.3101,144.8159 Q180.3101,146.9077 180.9949,147.9744 Q181.6797,149.041 183.0244,149.041 Q183.6553,149.041 184.2488,148.7712 Q184.8423,148.5015 185.4731,147.9204 Z \"/><text fill=\"#000000\" font-family=\"sans-serif\" font-size=\"12\" lengthAdjust=\"spacingAndGlyphs\" textLength=\"95\" x=\"196.5\" y=\"149.5352\">ConcreteProduct</text><line style=\"stroke: #A80036; stroke-width: 1.5;\" x1=\"168.5\" x2=\"293.5\" y1=\"161\" y2=\"161\"/><line style=\"stroke: #A80036; stroke-width: 1.5;\" x1=\"168.5\" x2=\"293.5\" y1=\"169\" y2=\"169\"/><path d=\"M132.281,153 C142.242,153 152.203,153 162.164,153 \" fill=\"none\" style=\"stroke: #A80036; stroke-width: 1.0;\"/><polygon fill=\"#A80036\" points=\"167.373,153,158.373,149,162.373,153,158.373,157,167.373,153\" style=\"stroke: #A80036; stroke-width: 1.0;\"/><path d=\"M69,89.1067 C69,102.8764 69,117.1847 69,128.6686 \" fill=\"none\" style=\"stroke: #A80036; stroke-width: 1.0;\"/><polygon fill=\"none\" points=\"62.0001,89.0581,69,69.058,76.0001,89.058,62.0001,89.0581\" style=\"stroke: #A80036; stroke-width: 1.0;\"/><path d=\"M231,82.6449 C231,98.4205 231,115.6523 231,128.9933 \" fill=\"none\" style=\"stroke: #A80036; stroke-width: 1.0;\"/><polygon fill=\"none\" points=\"224,82.5376,231,62.538,238,82.5375,224,82.5376\" style=\"stroke: #A80036; stroke-width: 1.0;\"/></g></svg>"
      ],
      "text/plain": [
       "<IPython.core.display.SVG object>"
      ]
     },
     "execution_count": 6,
     "metadata": {},
     "output_type": "execute_result"
    }
   ],
   "source": [
    "%%plantuml\n",
    "@startuml\n",
    "class Creator {\n",
    "    factoryMethod()\n",
    "}\n",
    "class Product\n",
    "class ConcreteCreator\n",
    "class ConcreteProduct\n",
    "ConcreteCreator -> ConcreteProduct\n",
    "Creator <|-- ConcreteCreator\n",
    "Product <|-- ConcreteProduct\n",
    "@enduml"
   ]
  },
  {
   "cell_type": "code",
   "execution_count": 10,
   "metadata": {
    "collapsed": false
   },
   "outputs": [
    {
     "data": {
      "image/svg+xml": [
       "<svg height=\"210px\" style=\"width:461px;height:210px;\" version=\"1.1\" viewBox=\"0 0 461 210\" width=\"461px\" xmlns=\"http://www.w3.org/2000/svg\" xmlns:xlink=\"http://www.w3.org/1999/xlink\"><defs><filter height=\"300%\" id=\"f1\" width=\"300%\" x=\"-1\" y=\"-1\"><feGaussianBlur result=\"blurOut\" stdDeviation=\"2.0\"/><feColorMatrix in=\"blurOut\" result=\"blurOut2\" type=\"matrix\" values=\"0 0 0 0 0 0 0 0 0 0 0 0 0 0 0 0 0 0 .4 0\"/><feOffset dx=\"4.0\" dy=\"4.0\" in=\"blurOut2\" result=\"blurOut3\"/><feBlend in=\"SourceGraphic\" in2=\"blurOut3\" mode=\"normal\"/></filter></defs><g><rect fill=\"#FEFECE\" filter=\"url(#f1)\" height=\"60.9551\" style=\"stroke: #A80036; stroke-width: 1.5;\" width=\"142\" x=\"310.5\" y=\"74.5\"/><ellipse cx=\"325.5\" cy=\"90.5\" fill=\"#ADD1B2\" rx=\"11\" ry=\"11\" style=\"stroke: #A80036; stroke-width: 1.0;\"/><path d=\"M328.4731,96.1431 Q327.8921,96.4419 327.2529,96.5913 Q326.6138,96.7407 325.9082,96.7407 Q323.4014,96.7407 322.0815,95.0889 Q320.7617,93.437 320.7617,90.3159 Q320.7617,87.1865 322.0815,85.5347 Q323.4014,83.8828 325.9082,83.8828 Q326.6138,83.8828 327.2612,84.0322 Q327.9087,84.1816 328.4731,84.4805 L328.4731,87.2031 Q327.8423,86.6221 327.2488,86.3523 Q326.6553,86.0825 326.0244,86.0825 Q324.6797,86.0825 323.9949,87.1492 Q323.3101,88.2158 323.3101,90.3159 Q323.3101,92.4077 323.9949,93.4744 Q324.6797,94.541 326.0244,94.541 Q326.6553,94.541 327.2488,94.2712 Q327.8423,94.0015 328.4731,93.4204 Z \"/><text fill=\"#000000\" font-family=\"sans-serif\" font-size=\"12\" lengthAdjust=\"spacingAndGlyphs\" textLength=\"110\" x=\"339.5\" y=\"95.0352\">SimplePizzaFactory</text><line style=\"stroke: #A80036; stroke-width: 1.5;\" x1=\"311.5\" x2=\"451.5\" y1=\"106.5\" y2=\"106.5\"/><line style=\"stroke: #A80036; stroke-width: 1.5;\" x1=\"311.5\" x2=\"451.5\" y1=\"114.5\" y2=\"114.5\"/><text fill=\"#000000\" font-family=\"sans-serif\" font-size=\"11\" lengthAdjust=\"spacingAndGlyphs\" textLength=\"68\" x=\"316.5\" y=\"129.1348\">createPizza()</text><polygon fill=\"#FBFB77\" filter=\"url(#f1)\" points=\"6,8,6,201.7266,275,201.7266,275,18,265,8,6,8\" style=\"stroke: #A80036; stroke-width: 1.0;\"/><polygon fill=\"#FBFB77\" points=\"6,8,6,201.7266,275,201.7266,275,109,310.442,105,275,101,275,18,265,8,6,8\" style=\"stroke: #A80036; stroke-width: 1.0;\"/><line style=\"stroke: #A80036; stroke-width: 1.0;\" x1=\"265\" x2=\"265\" y1=\"8\" y2=\"18\"/><line style=\"stroke: #A80036; stroke-width: 1.0;\" x1=\"275\" x2=\"265\" y1=\"18\" y2=\"18\"/><text fill=\"#000000\" font-family=\"sans-serif\" font-size=\"13\" lengthAdjust=\"spacingAndGlyphs\" textLength=\"248\" x=\"12\" y=\"25.5684\">&quot;&quot;&quot;public Pizza createPizza(String type) {</text><text fill=\"#000000\" font-family=\"sans-serif\" font-size=\"13\" lengthAdjust=\"spacingAndGlyphs\" textLength=\"107\" x=\"28\" y=\"40.8789\">Pizza pizza=null;</text><text fill=\"#000000\" font-family=\"sans-serif\" font-size=\"13\" lengthAdjust=\"spacingAndGlyphs\" textLength=\"150\" x=\"28\" y=\"56.1895\">if(type.equals(&quot;cheese&quot;))</text><text fill=\"#000000\" font-family=\"sans-serif\" font-size=\"13\" lengthAdjust=\"spacingAndGlyphs\" textLength=\"161\" x=\"44\" y=\"71.5\">pizza=new CheesePizza();</text><text fill=\"#000000\" font-family=\"sans-serif\" font-size=\"13\" lengthAdjust=\"spacingAndGlyphs\" textLength=\"199\" x=\"28\" y=\"86.8105\">else if(type.equals(&quot;pepperoni&quot;))</text><text fill=\"#000000\" font-family=\"sans-serif\" font-size=\"13\" lengthAdjust=\"spacingAndGlyphs\" textLength=\"178\" x=\"44\" y=\"102.1211\">pizza=new PepperoniPizza();</text><text fill=\"#000000\" font-family=\"sans-serif\" font-size=\"13\" lengthAdjust=\"spacingAndGlyphs\" textLength=\"166\" x=\"28\" y=\"117.4316\">else if(type.equals(&quot;clam&quot;))</text><text fill=\"#000000\" font-family=\"sans-serif\" font-size=\"13\" lengthAdjust=\"spacingAndGlyphs\" textLength=\"148\" x=\"44\" y=\"132.7422\">pizza=new ClamPizza();</text><text fill=\"#000000\" font-family=\"sans-serif\" font-size=\"13\" lengthAdjust=\"spacingAndGlyphs\" textLength=\"177\" x=\"28\" y=\"148.0527\">else if(type.equals(&quot;veggie&quot;))</text><text fill=\"#000000\" font-family=\"sans-serif\" font-size=\"13\" lengthAdjust=\"spacingAndGlyphs\" textLength=\"158\" x=\"44\" y=\"163.3633\">pizza=new VeggiePizza();</text><text fill=\"#000000\" font-family=\"sans-serif\" font-size=\"13\" lengthAdjust=\"spacingAndGlyphs\" textLength=\"75\" x=\"28\" y=\"178.6738\">return pizza</text><text fill=\"#000000\" font-family=\"sans-serif\" font-size=\"13\" lengthAdjust=\"spacingAndGlyphs\" textLength=\"19\" x=\"12\" y=\"193.9844\">}&quot;&quot;&quot;</text></g></svg>"
      ],
      "text/plain": [
       "<IPython.core.display.SVG object>"
      ]
     },
     "execution_count": 10,
     "metadata": {},
     "output_type": "execute_result"
    }
   ],
   "source": [
    "%%plantuml\n",
    "@startuml\n",
    "class SimplePizzaFactory {\n",
    "    createPizza()\n",
    "}\n",
    "note left\n",
    "\"\"\"public Pizza createPizza(String type) {\n",
    "    Pizza pizza=null;\n",
    "    if(type.equals(\"cheese\"))\n",
    "        pizza=new CheesePizza();\n",
    "    else if(type.equals(\"pepperoni\"))\n",
    "        pizza=new PepperoniPizza();\n",
    "    else if(type.equals(\"clam\"))\n",
    "        pizza=new ClamPizza();\n",
    "    else if(type.equals(\"veggie\"))\n",
    "        pizza=new VeggiePizza();\n",
    "    return pizza\n",
    "}\"\"\"\n",
    "endnote\n",
    "@enduml"
   ]
  },
  {
   "cell_type": "code",
   "execution_count": 19,
   "metadata": {
    "collapsed": false
   },
   "outputs": [
    {
     "data": {
      "image/svg+xml": [
       "<svg height=\"225px\" style=\"width:605px;height:225px;\" version=\"1.1\" viewBox=\"0 0 605 225\" width=\"605px\" xmlns=\"http://www.w3.org/2000/svg\" xmlns:xlink=\"http://www.w3.org/1999/xlink\"><defs><filter height=\"300%\" id=\"f1\" width=\"300%\" x=\"-1\" y=\"-1\"><feGaussianBlur result=\"blurOut\" stdDeviation=\"2.0\"/><feColorMatrix in=\"blurOut\" result=\"blurOut2\" type=\"matrix\" values=\"0 0 0 0 0 0 0 0 0 0 0 0 0 0 0 0 0 0 .4 0\"/><feOffset dx=\"4.0\" dy=\"4.0\" in=\"blurOut2\" result=\"blurOut3\"/><feBlend in=\"SourceGraphic\" in2=\"blurOut3\" mode=\"normal\"/></filter></defs><g><rect fill=\"#FEFECE\" filter=\"url(#f1)\" height=\"60.9551\" style=\"stroke: #A80036; stroke-width: 1.5;\" width=\"92\" x=\"6\" y=\"27.5\"/><ellipse cx=\"21\" cy=\"43.5\" fill=\"#ADD1B2\" rx=\"11\" ry=\"11\" style=\"stroke: #A80036; stroke-width: 1.0;\"/><path d=\"M23.9731,49.1431 Q23.3921,49.4419 22.7529,49.5913 Q22.1138,49.7407 21.4082,49.7407 Q18.9014,49.7407 17.5815,48.0889 Q16.2617,46.437 16.2617,43.3159 Q16.2617,40.1865 17.5815,38.5347 Q18.9014,36.8828 21.4082,36.8828 Q22.1138,36.8828 22.7612,37.0322 Q23.4087,37.1816 23.9731,37.4805 L23.9731,40.2031 Q23.3423,39.6221 22.7488,39.3523 Q22.1553,39.0825 21.5244,39.0825 Q20.1797,39.0825 19.4949,40.1492 Q18.8101,41.2158 18.8101,43.3159 Q18.8101,45.4077 19.4949,46.4744 Q20.1797,47.541 21.5244,47.541 Q22.1553,47.541 22.7488,47.2712 Q23.3423,47.0015 23.9731,46.4204 Z \"/><text fill=\"#000000\" font-family=\"sans-serif\" font-size=\"12\" lengthAdjust=\"spacingAndGlyphs\" textLength=\"60\" x=\"35\" y=\"48.0352\">PizzaStore</text><line style=\"stroke: #A80036; stroke-width: 1.5;\" x1=\"7\" x2=\"97\" y1=\"59.5\" y2=\"59.5\"/><line style=\"stroke: #A80036; stroke-width: 1.5;\" x1=\"7\" x2=\"97\" y1=\"67.5\" y2=\"67.5\"/><text fill=\"#000000\" font-family=\"sans-serif\" font-size=\"11\" lengthAdjust=\"spacingAndGlyphs\" textLength=\"65\" x=\"12\" y=\"82.1348\">orderPizza()</text><rect fill=\"#FEFECE\" filter=\"url(#f1)\" height=\"60.9551\" style=\"stroke: #A80036; stroke-width: 1.5;\" width=\"221\" x=\"133.5\" y=\"27.5\"/><ellipse cx=\"184.75\" cy=\"43.5\" fill=\"#ADD1B2\" rx=\"11\" ry=\"11\" style=\"stroke: #A80036; stroke-width: 1.0;\"/><path d=\"M187.7231,49.1431 Q187.1421,49.4419 186.5029,49.5913 Q185.8638,49.7407 185.1582,49.7407 Q182.6514,49.7407 181.3315,48.0889 Q180.0117,46.437 180.0117,43.3159 Q180.0117,40.1865 181.3315,38.5347 Q182.6514,36.8828 185.1582,36.8828 Q185.8638,36.8828 186.5112,37.0322 Q187.1587,37.1816 187.7231,37.4805 L187.7231,40.2031 Q187.0923,39.6221 186.4988,39.3523 Q185.9053,39.0825 185.2744,39.0825 Q183.9297,39.0825 183.2449,40.1492 Q182.5601,41.2158 182.5601,43.3159 Q182.5601,45.4077 183.2449,46.4744 Q183.9297,47.541 185.2744,47.541 Q185.9053,47.541 186.4988,47.2712 Q187.0923,47.0015 187.7231,46.4204 Z \"/><text fill=\"#000000\" font-family=\"sans-serif\" font-size=\"12\" lengthAdjust=\"spacingAndGlyphs\" textLength=\"110\" x=\"205.25\" y=\"48.0352\">SimplePizzaFactory</text><line style=\"stroke: #A80036; stroke-width: 1.5;\" x1=\"134.5\" x2=\"353.5\" y1=\"59.5\" y2=\"59.5\"/><line style=\"stroke: #A80036; stroke-width: 1.5;\" x1=\"134.5\" x2=\"353.5\" y1=\"67.5\" y2=\"67.5\"/><ellipse cx=\"144.5\" cy=\"79.4775\" fill=\"#84BE84\" rx=\"3\" ry=\"3\" style=\"stroke: #038048; stroke-width: 1.0;\"/><text fill=\"#000000\" font-family=\"sans-serif\" font-size=\"11\" lengthAdjust=\"spacingAndGlyphs\" textLength=\"195\" x=\"153.5\" y=\"82.1348\">createPizza(type:String):CheesePizza</text><rect fill=\"#FEFECE\" filter=\"url(#f1)\" height=\"99.8203\" style=\"stroke: #A80036; stroke-width: 1.5;\" width=\"63\" x=\"389.5\" y=\"8\"/><ellipse cx=\"404.5\" cy=\"24\" fill=\"#ADD1B2\" rx=\"11\" ry=\"11\" style=\"stroke: #A80036; stroke-width: 1.0;\"/><path d=\"M407.4731,29.6431 Q406.8921,29.9419 406.2529,30.0913 Q405.6138,30.2407 404.9082,30.2407 Q402.4014,30.2407 401.0815,28.5889 Q399.7617,26.937 399.7617,23.8159 Q399.7617,20.6865 401.0815,19.0347 Q402.4014,17.3828 404.9082,17.3828 Q405.6138,17.3828 406.2612,17.5322 Q406.9087,17.6816 407.4731,17.9805 L407.4731,20.7031 Q406.8423,20.1221 406.2488,19.8523 Q405.6553,19.5825 405.0244,19.5825 Q403.6797,19.5825 402.9949,20.6492 Q402.3101,21.7158 402.3101,23.8159 Q402.3101,25.9077 402.9949,26.9744 Q403.6797,28.041 405.0244,28.041 Q405.6553,28.041 406.2488,27.7712 Q406.8423,27.5015 407.4731,26.9204 Z \"/><text fill=\"#000000\" font-family=\"sans-serif\" font-size=\"12\" lengthAdjust=\"spacingAndGlyphs\" textLength=\"31\" x=\"418.5\" y=\"28.5352\">Pizza</text><line style=\"stroke: #A80036; stroke-width: 1.5;\" x1=\"390.5\" x2=\"451.5\" y1=\"40\" y2=\"40\"/><line style=\"stroke: #A80036; stroke-width: 1.5;\" x1=\"390.5\" x2=\"451.5\" y1=\"48\" y2=\"48\"/><text fill=\"#000000\" font-family=\"sans-serif\" font-size=\"11\" lengthAdjust=\"spacingAndGlyphs\" textLength=\"50\" x=\"395.5\" y=\"62.6348\">prepare()</text><text fill=\"#000000\" font-family=\"sans-serif\" font-size=\"11\" lengthAdjust=\"spacingAndGlyphs\" textLength=\"33\" x=\"395.5\" y=\"75.5898\">bake()</text><text fill=\"#000000\" font-family=\"sans-serif\" font-size=\"11\" lengthAdjust=\"spacingAndGlyphs\" textLength=\"25\" x=\"395.5\" y=\"88.5449\">cut()</text><text fill=\"#000000\" font-family=\"sans-serif\" font-size=\"11\" lengthAdjust=\"spacingAndGlyphs\" textLength=\"29\" x=\"395.5\" y=\"101.5\">box()</text><rect fill=\"#FEFECE\" filter=\"url(#f1)\" height=\"48\" style=\"stroke: #A80036; stroke-width: 1.5;\" width=\"105\" x=\"233.5\" y=\"168\"/><ellipse cx=\"248.5\" cy=\"184\" fill=\"#ADD1B2\" rx=\"11\" ry=\"11\" style=\"stroke: #A80036; stroke-width: 1.0;\"/><path d=\"M251.4731,189.6431 Q250.8921,189.9419 250.2529,190.0913 Q249.6138,190.2407 248.9082,190.2407 Q246.4014,190.2407 245.0815,188.5889 Q243.7617,186.937 243.7617,183.8159 Q243.7617,180.6865 245.0815,179.0347 Q246.4014,177.3828 248.9082,177.3828 Q249.6138,177.3828 250.2612,177.5322 Q250.9087,177.6816 251.4731,177.9805 L251.4731,180.7031 Q250.8423,180.1221 250.2488,179.8523 Q249.6553,179.5825 249.0244,179.5825 Q247.6797,179.5825 246.9949,180.6492 Q246.3101,181.7158 246.3101,183.8159 Q246.3101,185.9077 246.9949,186.9744 Q247.6797,188.041 249.0244,188.041 Q249.6553,188.041 250.2488,187.7712 Q250.8423,187.5015 251.4731,186.9204 Z \"/><text fill=\"#000000\" font-family=\"sans-serif\" font-size=\"12\" lengthAdjust=\"spacingAndGlyphs\" textLength=\"73\" x=\"262.5\" y=\"188.5352\">CheesePizza</text><line style=\"stroke: #A80036; stroke-width: 1.5;\" x1=\"234.5\" x2=\"337.5\" y1=\"200\" y2=\"200\"/><line style=\"stroke: #A80036; stroke-width: 1.5;\" x1=\"234.5\" x2=\"337.5\" y1=\"208\" y2=\"208\"/><rect fill=\"#FEFECE\" filter=\"url(#f1)\" height=\"48\" style=\"stroke: #A80036; stroke-width: 1.5;\" width=\"95\" x=\"373.5\" y=\"168\"/><ellipse cx=\"388.5\" cy=\"184\" fill=\"#ADD1B2\" rx=\"11\" ry=\"11\" style=\"stroke: #A80036; stroke-width: 1.0;\"/><path d=\"M391.4731,189.6431 Q390.8921,189.9419 390.2529,190.0913 Q389.6138,190.2407 388.9082,190.2407 Q386.4014,190.2407 385.0815,188.5889 Q383.7617,186.937 383.7617,183.8159 Q383.7617,180.6865 385.0815,179.0347 Q386.4014,177.3828 388.9082,177.3828 Q389.6138,177.3828 390.2612,177.5322 Q390.9087,177.6816 391.4731,177.9805 L391.4731,180.7031 Q390.8423,180.1221 390.2488,179.8523 Q389.6553,179.5825 389.0244,179.5825 Q387.6797,179.5825 386.9949,180.6492 Q386.3101,181.7158 386.3101,183.8159 Q386.3101,185.9077 386.9949,186.9744 Q387.6797,188.041 389.0244,188.041 Q389.6553,188.041 390.2488,187.7712 Q390.8423,187.5015 391.4731,186.9204 Z \"/><text fill=\"#000000\" font-family=\"sans-serif\" font-size=\"12\" lengthAdjust=\"spacingAndGlyphs\" textLength=\"63\" x=\"402.5\" y=\"188.5352\">VeggiPizza</text><line style=\"stroke: #A80036; stroke-width: 1.5;\" x1=\"374.5\" x2=\"467.5\" y1=\"200\" y2=\"200\"/><line style=\"stroke: #A80036; stroke-width: 1.5;\" x1=\"374.5\" x2=\"467.5\" y1=\"208\" y2=\"208\"/><rect fill=\"#FEFECE\" filter=\"url(#f1)\" height=\"48\" style=\"stroke: #A80036; stroke-width: 1.5;\" width=\"92\" x=\"504\" y=\"168\"/><ellipse cx=\"519\" cy=\"184\" fill=\"#ADD1B2\" rx=\"11\" ry=\"11\" style=\"stroke: #A80036; stroke-width: 1.0;\"/><path d=\"M521.9731,189.6431 Q521.3921,189.9419 520.7529,190.0913 Q520.1138,190.2407 519.4082,190.2407 Q516.9014,190.2407 515.5815,188.5889 Q514.2617,186.937 514.2617,183.8159 Q514.2617,180.6865 515.5815,179.0347 Q516.9014,177.3828 519.4082,177.3828 Q520.1138,177.3828 520.7612,177.5322 Q521.4087,177.6816 521.9731,177.9805 L521.9731,180.7031 Q521.3423,180.1221 520.7488,179.8523 Q520.1553,179.5825 519.5244,179.5825 Q518.1797,179.5825 517.4949,180.6492 Q516.8101,181.7158 516.8101,183.8159 Q516.8101,185.9077 517.4949,186.9744 Q518.1797,188.041 519.5244,188.041 Q520.1553,188.041 520.7488,187.7712 Q521.3423,187.5015 521.9731,186.9204 Z \"/><text fill=\"#000000\" font-family=\"sans-serif\" font-size=\"12\" lengthAdjust=\"spacingAndGlyphs\" textLength=\"60\" x=\"533\" y=\"188.5352\">ClamPizza</text><line style=\"stroke: #A80036; stroke-width: 1.5;\" x1=\"505\" x2=\"595\" y1=\"200\" y2=\"200\"/><line style=\"stroke: #A80036; stroke-width: 1.5;\" x1=\"505\" x2=\"595\" y1=\"208\" y2=\"208\"/><path d=\"M375.218,104.833 C374.136,105.9 373.062,106.957 372,108 C351.277,128.3583 327.5,151.2727 310.206,167.8589 \" fill=\"none\" style=\"stroke: #A80036; stroke-width: 1.0;\"/><polygon fill=\"none\" points=\"370.323,99.829,389.452,90.713,380.183,109.768,370.323,99.829\" style=\"stroke: #A80036; stroke-width: 1.0;\"/><path d=\"M421,128.1607 C421,142.418 421,156.4781 421,167.6717 \" fill=\"none\" style=\"stroke: #A80036; stroke-width: 1.0;\"/><polygon fill=\"none\" points=\"414,128.152,421,108.152,428,128.1519,414,128.152\" style=\"stroke: #A80036; stroke-width: 1.0;\"/><path d=\"M466.558,105.618 C487.117,126.655 510.494,150.5751 527.263,167.7345 \" fill=\"none\" style=\"stroke: #A80036; stroke-width: 1.0;\"/><polygon fill=\"none\" points=\"461.529,110.487,452.557,91.291,471.542,100.702,461.529,110.487\" style=\"stroke: #A80036; stroke-width: 1.0;\"/><path d=\"M98.125,58 C108.153,58 118.182,58 128.21,58 \" fill=\"none\" style=\"stroke: #A80036; stroke-width: 1.0;\"/><polygon fill=\"#A80036\" points=\"133.454,58,124.454,54,128.454,58,124.454,62,133.454,58\" style=\"stroke: #A80036; stroke-width: 1.0;\"/><path d=\"M354.625,58 C364.487,58 374.349,58 384.211,58 \" fill=\"none\" style=\"stroke: #A80036; stroke-width: 1.0;\"/><polygon fill=\"#A80036\" points=\"389.368,58,380.368,54,384.368,58,380.368,62,389.368,58\" style=\"stroke: #A80036; stroke-width: 1.0;\"/></g></svg>"
      ],
      "text/plain": [
       "<IPython.core.display.SVG object>"
      ]
     },
     "execution_count": 19,
     "metadata": {},
     "output_type": "execute_result"
    }
   ],
   "source": [
    "%%plantuml\n",
    "@startuml\n",
    "class PizzaStore {\n",
    "    orderPizza()\n",
    "}\n",
    "class SimplePizzaFactory {\n",
    "    +createPizza(type:String):CheesePizza\n",
    "}\n",
    "class Pizza {\n",
    "    prepare()\n",
    "    bake()\n",
    "    cut()\n",
    "    box()\n",
    "}\n",
    "Pizza <|-- CheesePizza\n",
    "Pizza <|-- VeggiPizza\n",
    "Pizza <|-- ClamPizza\n",
    "PizzaStore -> SimplePizzaFactory\n",
    "SimplePizzaFactory -> Pizza\n",
    "@enduml"
   ]
  },
  {
   "cell_type": "code",
   "execution_count": 28,
   "metadata": {
    "collapsed": false
   },
   "outputs": [
    {
     "data": {
      "image/svg+xml": [
       "<svg height=\"272px\" style=\"width:648px;height:272px;\" version=\"1.1\" viewBox=\"0 0 648 272\" width=\"648px\" xmlns=\"http://www.w3.org/2000/svg\" xmlns:xlink=\"http://www.w3.org/1999/xlink\"><defs><filter height=\"300%\" id=\"f1\" width=\"300%\" x=\"-1\" y=\"-1\"><feGaussianBlur result=\"blurOut\" stdDeviation=\"2.0\"/><feColorMatrix in=\"blurOut\" result=\"blurOut2\" type=\"matrix\" values=\"0 0 0 0 0 0 0 0 0 0 0 0 0 0 0 0 0 0 .4 0\"/><feOffset dx=\"4.0\" dy=\"4.0\" in=\"blurOut2\" result=\"blurOut3\"/><feBlend in=\"SourceGraphic\" in2=\"blurOut3\" mode=\"normal\"/></filter></defs><g><line style=\"stroke: #A80036; stroke-width: 1.0; stroke-dasharray: 5.0,5.0;\" x1=\"37\" x2=\"37\" y1=\"38.4883\" y2=\"234.3516\"/><line style=\"stroke: #A80036; stroke-width: 1.0; stroke-dasharray: 5.0,5.0;\" x1=\"151\" x2=\"151\" y1=\"38.4883\" y2=\"234.3516\"/><line style=\"stroke: #A80036; stroke-width: 1.0; stroke-dasharray: 5.0,5.0;\" x1=\"281\" x2=\"281\" y1=\"38.4883\" y2=\"234.3516\"/><line style=\"stroke: #A80036; stroke-width: 1.0; stroke-dasharray: 5.0,5.0;\" x1=\"478.5\" x2=\"478.5\" y1=\"38.4883\" y2=\"234.3516\"/><line style=\"stroke: #A80036; stroke-width: 1.0; stroke-dasharray: 5.0,5.0;\" x1=\"616.5\" x2=\"616.5\" y1=\"38.4883\" y2=\"234.3516\"/><rect fill=\"#FEFECE\" filter=\"url(#f1)\" height=\"30.4883\" style=\"stroke: #A80036; stroke-width: 1.5;\" width=\"54\" x=\"8\" y=\"3\"/><text fill=\"#000000\" font-family=\"sans-serif\" font-size=\"14\" lengthAdjust=\"spacingAndGlyphs\" textLength=\"40\" x=\"15\" y=\"23.5352\">Client</text><rect fill=\"#FEFECE\" filter=\"url(#f1)\" height=\"30.4883\" style=\"stroke: #A80036; stroke-width: 1.5;\" width=\"54\" x=\"8\" y=\"233.3516\"/><text fill=\"#000000\" font-family=\"sans-serif\" font-size=\"14\" lengthAdjust=\"spacingAndGlyphs\" textLength=\"40\" x=\"15\" y=\"253.8867\">Client</text><rect fill=\"#FEFECE\" filter=\"url(#f1)\" height=\"30.4883\" style=\"stroke: #A80036; stroke-width: 1.5;\" width=\"146\" x=\"76\" y=\"3\"/><text fill=\"#000000\" font-family=\"sans-serif\" font-size=\"14\" lengthAdjust=\"spacingAndGlyphs\" textLength=\"132\" x=\"83\" y=\"23.5352\">SimplePizzaFactory</text><rect fill=\"#FEFECE\" filter=\"url(#f1)\" height=\"30.4883\" style=\"stroke: #A80036; stroke-width: 1.5;\" width=\"146\" x=\"76\" y=\"233.3516\"/><text fill=\"#000000\" font-family=\"sans-serif\" font-size=\"14\" lengthAdjust=\"spacingAndGlyphs\" textLength=\"132\" x=\"83\" y=\"253.8867\">SimplePizzaFactory</text><rect fill=\"#FEFECE\" filter=\"url(#f1)\" height=\"30.4883\" style=\"stroke: #A80036; stroke-width: 1.5;\" width=\"86\" x=\"236\" y=\"3\"/><text fill=\"#000000\" font-family=\"sans-serif\" font-size=\"14\" lengthAdjust=\"spacingAndGlyphs\" textLength=\"72\" x=\"243\" y=\"23.5352\">PizzaStore</text><rect fill=\"#FEFECE\" filter=\"url(#f1)\" height=\"30.4883\" style=\"stroke: #A80036; stroke-width: 1.5;\" width=\"86\" x=\"236\" y=\"233.3516\"/><text fill=\"#000000\" font-family=\"sans-serif\" font-size=\"14\" lengthAdjust=\"spacingAndGlyphs\" textLength=\"72\" x=\"243\" y=\"253.8867\">PizzaStore</text><rect fill=\"#FEFECE\" filter=\"url(#f1)\" height=\"30.4883\" style=\"stroke: #A80036; stroke-width: 1.5;\" width=\"197\" x=\"378.5\" y=\"3\"/><text fill=\"#000000\" font-family=\"sans-serif\" font-size=\"14\" lengthAdjust=\"spacingAndGlyphs\" textLength=\"183\" x=\"385.5\" y=\"23.5352\">factory:SimplePizzaFactory</text><rect fill=\"#FEFECE\" filter=\"url(#f1)\" height=\"30.4883\" style=\"stroke: #A80036; stroke-width: 1.5;\" width=\"197\" x=\"378.5\" y=\"233.3516\"/><text fill=\"#000000\" font-family=\"sans-serif\" font-size=\"14\" lengthAdjust=\"spacingAndGlyphs\" textLength=\"183\" x=\"385.5\" y=\"253.8867\">factory:SimplePizzaFactory</text><rect fill=\"#FEFECE\" filter=\"url(#f1)\" height=\"30.4883\" style=\"stroke: #A80036; stroke-width: 1.5;\" width=\"50\" x=\"589.5\" y=\"3\"/><text fill=\"#000000\" font-family=\"sans-serif\" font-size=\"14\" lengthAdjust=\"spacingAndGlyphs\" textLength=\"36\" x=\"596.5\" y=\"23.5352\">Pizza</text><rect fill=\"#FEFECE\" filter=\"url(#f1)\" height=\"30.4883\" style=\"stroke: #A80036; stroke-width: 1.5;\" width=\"50\" x=\"589.5\" y=\"233.3516\"/><text fill=\"#000000\" font-family=\"sans-serif\" font-size=\"14\" lengthAdjust=\"spacingAndGlyphs\" textLength=\"36\" x=\"596.5\" y=\"253.8867\">Pizza</text><polygon fill=\"#A80036\" points=\"139,65.4883,149,69.4883,139,73.4883,143,69.4883\" style=\"stroke: #A80036; stroke-width: 1.0;\"/><line style=\"stroke: #A80036; stroke-width: 1.0;\" x1=\"37\" x2=\"145\" y1=\"69.4883\" y2=\"69.4883\"/><text fill=\"#000000\" font-family=\"sans-serif\" font-size=\"13\" lengthAdjust=\"spacingAndGlyphs\" textLength=\"87\" x=\"44\" y=\"65.0566\">factory=new()</text><polygon fill=\"#A80036\" points=\"269,94.7988,279,98.7988,269,102.7988,273,98.7988\" style=\"stroke: #A80036; stroke-width: 1.0;\"/><line style=\"stroke: #A80036; stroke-width: 1.0;\" x1=\"37\" x2=\"275\" y1=\"98.7988\" y2=\"98.7988\"/><text fill=\"#000000\" font-family=\"sans-serif\" font-size=\"13\" lengthAdjust=\"spacingAndGlyphs\" textLength=\"77\" x=\"44\" y=\"94.3672\">new(factory)</text><polygon fill=\"#A80036\" points=\"269,124.1094,279,128.1094,269,132.1094,273,128.1094\" style=\"stroke: #A80036; stroke-width: 1.0;\"/><line style=\"stroke: #A80036; stroke-width: 1.0;\" x1=\"37\" x2=\"275\" y1=\"128.1094\" y2=\"128.1094\"/><text fill=\"#000000\" font-family=\"sans-serif\" font-size=\"13\" lengthAdjust=\"spacingAndGlyphs\" textLength=\"126\" x=\"44\" y=\"123.6777\">orderPizza(&quot;cheese&quot;)</text><polygon fill=\"#A80036\" points=\"467,153.4199,477,157.4199,467,161.4199,471,157.4199\" style=\"stroke: #A80036; stroke-width: 1.0;\"/><line style=\"stroke: #A80036; stroke-width: 1.0;\" x1=\"281\" x2=\"473\" y1=\"157.4199\" y2=\"157.4199\"/><text fill=\"#000000\" font-family=\"sans-serif\" font-size=\"13\" lengthAdjust=\"spacingAndGlyphs\" textLength=\"174\" x=\"288\" y=\"152.9883\">pizza=createPizza(&quot;cheese&quot;)</text><polygon fill=\"#A80036\" points=\"604.5,182.7305,614.5,186.7305,604.5,190.7305,608.5,186.7305\" style=\"stroke: #A80036; stroke-width: 1.0;\"/><line style=\"stroke: #A80036; stroke-width: 1.0;\" x1=\"281\" x2=\"610.5\" y1=\"186.7305\" y2=\"186.7305\"/><text fill=\"#000000\" font-family=\"sans-serif\" font-size=\"13\" lengthAdjust=\"spacingAndGlyphs\" textLength=\"55\" x=\"288\" y=\"182.2988\">prepare()</text><polygon fill=\"#A80036\" points=\"604.5,212.041,614.5,216.041,604.5,220.041,608.5,216.041\" style=\"stroke: #A80036; stroke-width: 1.0;\"/><line style=\"stroke: #A80036; stroke-width: 1.0;\" x1=\"281\" x2=\"610.5\" y1=\"216.041\" y2=\"216.041\"/><text fill=\"#000000\" font-family=\"sans-serif\" font-size=\"13\" lengthAdjust=\"spacingAndGlyphs\" textLength=\"38\" x=\"288\" y=\"211.6094\">bake()</text></g></svg>"
      ],
      "text/plain": [
       "<IPython.core.display.SVG object>"
      ]
     },
     "execution_count": 28,
     "metadata": {},
     "output_type": "execute_result"
    }
   ],
   "source": [
    "%%plantuml\n",
    "@startuml\n",
    "Client -> SimplePizzaFactory:factory=new()\n",
    "Client -> PizzaStore:new(factory)\n",
    "Client -> PizzaStore:orderPizza(\"cheese\")\n",
    "PizzaStore -> \"factory:SimplePizzaFactory\":pizza=createPizza(\"cheese\")\n",
    "PizzaStore -> Pizza:prepare()\n",
    "PizzaStore -> Pizza:bake()\n",
    "@enduml"
   ]
  },
  {
   "cell_type": "markdown",
   "metadata": {},
   "source": [
    "## 25 UML\n",
    "    * ->  노말: 1이 2에게 전달, 객체지향: 1이 2를 호출한다\n",
    "\n",
    "## DIP\n",
    "    * abstract class를 써서 상속관계\n",
    "    \n",
    "    \n",
    "## 클래스 다이어그램\n",
    "    * 클래스, 관계\n",
    "\n",
    "## 시퀀스 다이어그램\n",
    "    * 클래스, 순서"
   ]
  },
  {
   "cell_type": "code",
   "execution_count": null,
   "metadata": {
    "collapsed": true
   },
   "outputs": [],
   "source": []
  }
 ],
 "metadata": {
  "kernelspec": {
   "display_name": "Python 2",
   "language": "python",
   "name": "python2"
  },
  "language_info": {
   "codemirror_mode": {
    "name": "ipython",
    "version": 2
   },
   "file_extension": ".py",
   "mimetype": "text/x-python",
   "name": "python",
   "nbconvert_exporter": "python",
   "pygments_lexer": "ipython2",
   "version": "2.7.10"
  }
 },
 "nbformat": 4,
 "nbformat_minor": 0
}
