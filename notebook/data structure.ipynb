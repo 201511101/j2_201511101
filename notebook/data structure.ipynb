{
 "cells": [
  {
   "cell_type": "code",
   "execution_count": 2,
   "metadata": {
    "collapsed": false
   },
   "outputs": [
    {
     "ename": "IndexError",
     "evalue": "list index out of range",
     "output_type": "error",
     "traceback": [
      "\u001b[0;31m---------------------------------------------------------------------------\u001b[0m",
      "\u001b[0;31mIndexError\u001b[0m                                Traceback (most recent call last)",
      "\u001b[0;32m<ipython-input-2-d2a838836ae9>\u001b[0m in \u001b[0;36m<module>\u001b[0;34m()\u001b[0m\n\u001b[1;32m     10\u001b[0m \u001b[0maa\u001b[0m \u001b[0;34m=\u001b[0m \u001b[0;34m[\u001b[0m\u001b[0;36m1\u001b[0m\u001b[0;34m,\u001b[0m\u001b[0;36m2\u001b[0m\u001b[0;34m,\u001b[0m\u001b[0;36m3\u001b[0m\u001b[0;34m,\u001b[0m\u001b[0;36m4\u001b[0m\u001b[0;34m,\u001b[0m\u001b[0;36m5\u001b[0m\u001b[0;34m]\u001b[0m\u001b[0;34m\u001b[0m\u001b[0m\n\u001b[1;32m     11\u001b[0m \u001b[0mnn\u001b[0m \u001b[0;34m=\u001b[0m \u001b[0;36m123\u001b[0m\u001b[0;34m\u001b[0m\u001b[0m\n\u001b[0;32m---> 12\u001b[0;31m \u001b[0mbyInsert\u001b[0m\u001b[0;34m(\u001b[0m\u001b[0maa\u001b[0m\u001b[0;34m,\u001b[0m\u001b[0;36m2\u001b[0m\u001b[0;34m,\u001b[0m\u001b[0mnn\u001b[0m\u001b[0;34m)\u001b[0m\u001b[0;34m\u001b[0m\u001b[0m\n\u001b[0m",
      "\u001b[0;32m<ipython-input-2-d2a838836ae9>\u001b[0m in \u001b[0;36mbyInsert\u001b[0;34m(array, i, num)\u001b[0m\n\u001b[1;32m      2\u001b[0m     \u001b[0mtempArray\u001b[0m \u001b[0;34m=\u001b[0m \u001b[0;34m[\u001b[0m\u001b[0;34m]\u001b[0m\u001b[0;34m\u001b[0m\u001b[0m\n\u001b[1;32m      3\u001b[0m     \u001b[0;32mfor\u001b[0m \u001b[0mx\u001b[0m \u001b[0;32min\u001b[0m \u001b[0mrange\u001b[0m\u001b[0;34m(\u001b[0m\u001b[0;36m0\u001b[0m\u001b[0;34m,\u001b[0m \u001b[0mi\u001b[0m\u001b[0;34m)\u001b[0m\u001b[0;34m:\u001b[0m\u001b[0;34m\u001b[0m\u001b[0m\n\u001b[0;32m----> 4\u001b[0;31m         \u001b[0mtempArray\u001b[0m\u001b[0;34m[\u001b[0m\u001b[0mx\u001b[0m\u001b[0;34m]\u001b[0m \u001b[0;34m=\u001b[0m \u001b[0mtempArray\u001b[0m\u001b[0;34m[\u001b[0m\u001b[0mx\u001b[0m\u001b[0;34m]\u001b[0m \u001b[0;34m+\u001b[0m \u001b[0marray\u001b[0m\u001b[0;34m[\u001b[0m\u001b[0mx\u001b[0m\u001b[0;34m]\u001b[0m\u001b[0;34m\u001b[0m\u001b[0m\n\u001b[0m\u001b[1;32m      5\u001b[0m     \u001b[0mtempArray\u001b[0m\u001b[0;34m[\u001b[0m\u001b[0mi\u001b[0m\u001b[0;34m]\u001b[0m \u001b[0;34m=\u001b[0m \u001b[0mnum\u001b[0m\u001b[0;34m\u001b[0m\u001b[0m\n\u001b[1;32m      6\u001b[0m     \u001b[0;32mfor\u001b[0m \u001b[0my\u001b[0m \u001b[0;32min\u001b[0m \u001b[0mrange\u001b[0m\u001b[0;34m(\u001b[0m\u001b[0mi\u001b[0m\u001b[0;34m+\u001b[0m\u001b[0;36m1\u001b[0m\u001b[0;34m,\u001b[0m \u001b[0mlen\u001b[0m\u001b[0;34m(\u001b[0m\u001b[0marray\u001b[0m\u001b[0;34m)\u001b[0m\u001b[0;34m)\u001b[0m\u001b[0;34m:\u001b[0m\u001b[0;34m\u001b[0m\u001b[0m\n",
      "\u001b[0;31mIndexError\u001b[0m: list index out of range"
     ]
    }
   ],
   "source": [
    "def byInsert(array, i, num):\n",
    "    tempArray = []\n",
    "    for x in range(0, i):\n",
    "        tempArray[x] = tempArray[x] + array[x]\n",
    "    tempArray[i] = num\n",
    "    for y in range(i+1, len(array)):\n",
    "        tempArray[y] = array[y]\n",
    "    print tempArray\n",
    "    \n",
    "aa = [1,2,3,4,5]\n",
    "nn = 123\n",
    "byInsert(aa,2,nn)"
   ]
  },
  {
   "cell_type": "code",
   "execution_count": 47,
   "metadata": {
    "collapsed": false
   },
   "outputs": [],
   "source": [
    "def byDelete(array, i):\n",
    "    t = []\n",
    "    for x in range(0, i):\n",
    "        t.append(0)\n",
    "    c=1\n",
    "    for y in range(0, len(t)):\n",
    "        t[y] = array[c]\n",
    "        c = c+1\n",
    "    array = t\n",
    "    return array"
   ]
  },
  {
   "cell_type": "code",
   "execution_count": null,
   "metadata": {
    "collapsed": false
   },
   "outputs": [],
   "source": [
    "def sortTrains():\n",
    "    station = []\n",
    "    for i in range(0, input()):\n",
    "        station.append(raw_input().split(' '))\n",
    "    \n",
    "    for x in range(0, len(station)):\n",
    "        train = ['A', 'B', 'C', 'D', 'E', 'F']\n",
    "        for y in range(0, len(station[x])):\n",
    "            if station[x][y] == 'A':\n",
    "                train.insert(0, 'B')\n",
    "            elif station[x][y] == 'B':\n",
    "                train.append('A')\n",
    "            elif station[x][y] == 'C':\n",
    "                del train[1]\n",
    "            elif station[x][y] == 'D':\n",
    "                del train[0]\n",
    "            elif station[x][y] == 'E':\n",
    "                a = train[0]\n",
    "                train[0] = train[-1]\n",
    "                train[-1] = a\n",
    "            elif station[x][y] == 'F':\n",
    "                a = train[-1]\n",
    "                train[-1] = train[-2]\n",
    "                train[-2] = a\n",
    "        print \"Case #{}\".format(x+1)\n",
    "        print \" \".join(train)\n",
    "        \n",
    "\n",
    "sortTrains()"
   ]
  },
  {
   "cell_type": "code",
   "execution_count": 6,
   "metadata": {
    "collapsed": false,
    "scrolled": true
   },
   "outputs": [
    {
     "name": "stdout",
     "output_type": "stream",
     "text": [
      "Case #1\n",
      "B B B C D E F A\n",
      "Case #2\n",
      "A B E B C D F A B\n",
      "Case #3\n",
      "A B C D F E\n",
      "Case #4\n",
      "D A F A\n",
      "Case #5\n",
      "B C D E F A A A A\n"
     ]
    }
   ],
   "source": [
    "def sortTrain():\n",
    "    station = []\n",
    "    with open('test.txt', 'r') as f:\n",
    "        for line in f:\n",
    "            station.append(line.split())\n",
    "            \n",
    "    for x in range(1, int(station[0][0])+1):\n",
    "        train = ['A', 'B', 'C', 'D', 'E', 'F']\n",
    "        for y in range(0, len(station[x])):\n",
    "            if station[x][y] == 'A':\n",
    "                train.insert(0, 'B')\n",
    "            elif station[x][y] == 'B':\n",
    "                train.append('A')\n",
    "            elif station[x][y] == 'C':\n",
    "                del train[1]\n",
    "            elif station[x][y] == 'D':\n",
    "                del train[0]\n",
    "            elif station[x][y] == 'E':\n",
    "                a = train[0]\n",
    "                train[0] = train[-1]\n",
    "                train[-1] = a\n",
    "            elif station[x][y] == 'F':\n",
    "                a = train[-1]\n",
    "                train[-1] = train[-2]\n",
    "                train[-2] = a\n",
    "        print (\"Case #{}\".format(x))\n",
    "        print (\" \".join(train))\n",
    "        \n",
    "\n",
    "sortTrain()"
   ]
  },
  {
   "cell_type": "code",
   "execution_count": 67,
   "metadata": {
    "collapsed": false
   },
   "outputs": [
    {
     "name": "stdout",
     "output_type": "stream",
     "text": [
      "C\n",
      "D\n",
      "A\n",
      "B\n",
      "F\n",
      "E\n",
      "C\n",
      "D\n",
      "F\n",
      "E\n",
      "A\n",
      "A\n",
      "B\n",
      "C\n",
      "F\n"
     ]
    }
   ],
   "source": [
    "lines = []\n",
    "with open('test.txt', 'r') as f:\n",
    "    for line in f:\n",
    "        lines.append(line.split())\n",
    "for x in range(1, int(lines[0][0])+1):        \n",
    "    for y in range(0, len(lines[x])):\n",
    "        print lines[x][y]\n",
    "\n",
    "#for x in range(0, int(lines[0][0])):\n",
    "#    for y in range(0, len(lines[x])):\n",
    "#        print y"
   ]
  },
  {
   "cell_type": "code",
   "execution_count": 41,
   "metadata": {
    "collapsed": false
   },
   "outputs": [
    {
     "name": "stdout",
     "output_type": "stream",
     "text": [
      "[1, 2, 3]\n"
     ]
    }
   ],
   "source": [
    "a = [\"1\", \"2\", \"3\"]\n",
    "s = [int(i) for i in a]\n",
    "print s"
   ]
  },
  {
   "cell_type": "code",
   "execution_count": 56,
   "metadata": {
    "collapsed": false
   },
   "outputs": [
    {
     "name": "stdout",
     "output_type": "stream",
     "text": [
      "0\n",
      "0\n",
      "1\n",
      "2\n",
      "3\n",
      "4\n",
      "5\n",
      "6\n"
     ]
    }
   ],
   "source": []
  },
  {
   "cell_type": "code",
   "execution_count": null,
   "metadata": {
    "collapsed": true
   },
   "outputs": [],
   "source": []
  }
 ],
 "metadata": {
  "kernelspec": {
   "display_name": "Python 2",
   "language": "python",
   "name": "python2"
  },
  "language_info": {
   "codemirror_mode": {
    "name": "ipython",
    "version": 2
   },
   "file_extension": ".py",
   "mimetype": "text/x-python",
   "name": "python",
   "nbconvert_exporter": "python",
   "pygments_lexer": "ipython2",
   "version": "2.7.10"
  }
 },
 "nbformat": 4,
 "nbformat_minor": 0
}
