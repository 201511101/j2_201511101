{
 "cells": [
  {
   "cell_type": "code",
   "execution_count": 1,
   "metadata": {
    "collapsed": true
   },
   "outputs": [],
   "source": [
    "%load_ext plantuml_magics"
   ]
  },
  {
   "cell_type": "code",
   "execution_count": null,
   "metadata": {
    "collapsed": true
   },
   "outputs": [],
   "source": [
    "%%plantuml\n",
    "@startuml\n",
    "@enduml"
   ]
  },
  {
   "cell_type": "code",
   "execution_count": 5,
   "metadata": {
    "collapsed": false
   },
   "outputs": [
    {
     "data": {
      "image/svg+xml": [
       "<svg height=\"103px\" style=\"width:196px;height:103px;\" version=\"1.1\" viewBox=\"0 0 196 103\" width=\"196px\" xmlns=\"http://www.w3.org/2000/svg\" xmlns:xlink=\"http://www.w3.org/1999/xlink\"><defs><filter height=\"300%\" id=\"f1\" width=\"300%\" x=\"-1\" y=\"-1\"><feGaussianBlur result=\"blurOut\" stdDeviation=\"2.0\"/><feColorMatrix in=\"blurOut\" result=\"blurOut2\" type=\"matrix\" values=\"0 0 0 0 0 0 0 0 0 0 0 0 0 0 0 0 0 0 .4 0\"/><feOffset dx=\"4.0\" dy=\"4.0\" in=\"blurOut2\" result=\"blurOut3\"/><feBlend in=\"SourceGraphic\" in2=\"blurOut3\" mode=\"normal\"/></filter></defs><g><rect fill=\"#FEFECE\" filter=\"url(#f1)\" height=\"86.8652\" style=\"stroke: #A80036; stroke-width: 1.5;\" width=\"181\" x=\"6\" y=\"8\"/><ellipse cx=\"66.75\" cy=\"24\" fill=\"#ADD1B2\" rx=\"11\" ry=\"11\" style=\"stroke: #A80036; stroke-width: 1.0;\"/><path d=\"M69.7231,29.6431 Q69.1421,29.9419 68.5029,30.0913 Q67.8638,30.2407 67.1582,30.2407 Q64.6514,30.2407 63.3315,28.5889 Q62.0117,26.937 62.0117,23.8159 Q62.0117,20.6865 63.3315,19.0347 Q64.6514,17.3828 67.1582,17.3828 Q67.8638,17.3828 68.5112,17.5322 Q69.1587,17.6816 69.7231,17.9805 L69.7231,20.7031 Q69.0923,20.1221 68.4988,19.8523 Q67.9053,19.5825 67.2744,19.5825 Q65.9297,19.5825 65.2449,20.6492 Q64.5601,21.7158 64.5601,23.8159 Q64.5601,25.9077 65.2449,26.9744 Q65.9297,28.041 67.2744,28.041 Q67.9053,28.041 68.4988,27.7712 Q69.0923,27.5015 69.7231,26.9204 Z \"/><text fill=\"#000000\" font-family=\"sans-serif\" font-size=\"12\" lengthAdjust=\"spacingAndGlyphs\" textLength=\"51\" x=\"87.25\" y=\"28.5352\">Singleton</text><line style=\"stroke: #A80036; stroke-width: 1.5;\" x1=\"7\" x2=\"186\" y1=\"40\" y2=\"40\"/><rect fill=\"none\" height=\"6\" style=\"stroke: #C82930; stroke-width: 1.0;\" width=\"6\" x=\"14\" y=\"48.9775\"/><text fill=\"#000000\" font-family=\"sans-serif\" font-size=\"11\" lengthAdjust=\"spacingAndGlyphs\" textLength=\"130\" x=\"26\" y=\"54.6348\">static instance:Singleton</text><line style=\"stroke: #A80036; stroke-width: 1.5;\" x1=\"7\" x2=\"186\" y1=\"60.9551\" y2=\"60.9551\"/><rect fill=\"#F24D5C\" height=\"6\" style=\"stroke: #C82930; stroke-width: 1.0;\" width=\"6\" x=\"14\" y=\"69.9326\"/><text fill=\"#000000\" font-family=\"sans-serif\" font-size=\"11\" lengthAdjust=\"spacingAndGlyphs\" textLength=\"84\" x=\"26\" y=\"75.5898\">Singleton():void</text><ellipse cx=\"17\" cy=\"85.8877\" fill=\"#84BE84\" rx=\"3\" ry=\"3\" style=\"stroke: #038048; stroke-width: 1.0;\"/><text fill=\"#000000\" font-family=\"sans-serif\" font-size=\"11\" lengthAdjust=\"spacingAndGlyphs\" textLength=\"155\" x=\"26\" y=\"88.5449\">static getInstance():Singleton</text></g></svg>"
      ],
      "text/plain": [
       "<IPython.core.display.SVG object>"
      ]
     },
     "execution_count": 5,
     "metadata": {},
     "output_type": "execute_result"
    }
   ],
   "source": [
    "%%plantuml\n",
    "@startuml\n",
    "\n",
    "class Singleton {\n",
    "    -static instance:Singleton\n",
    "    -Singleton():void\n",
    "    +static getInstance():Singleton\n",
    "}\n",
    "\n",
    "@enduml"
   ]
  },
  {
   "cell_type": "code",
   "execution_count": null,
   "metadata": {
    "collapsed": true
   },
   "outputs": [],
   "source": []
  }
 ],
 "metadata": {
  "kernelspec": {
   "display_name": "Python 2",
   "language": "python",
   "name": "python2"
  },
  "language_info": {
   "codemirror_mode": {
    "name": "ipython",
    "version": 2
   },
   "file_extension": ".py",
   "mimetype": "text/x-python",
   "name": "python",
   "nbconvert_exporter": "python",
   "pygments_lexer": "ipython2",
   "version": "2.7.10"
  }
 },
 "nbformat": 4,
 "nbformat_minor": 0
}
